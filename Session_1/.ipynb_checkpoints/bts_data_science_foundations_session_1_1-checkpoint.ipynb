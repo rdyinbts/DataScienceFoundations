{
 "cells": [
  {
   "cell_type": "code",
   "execution_count": 110,
   "metadata": {
    "collapsed": true
   },
   "outputs": [],
   "source": [
    "import pprint"
   ]
  },
  {
   "cell_type": "code",
   "execution_count": 117,
   "metadata": {
    "collapsed": true
   },
   "outputs": [],
   "source": [
    "traffic_data = {\n",
    "    2013 : [2800,2900,2950,2890,3050,3030,3000],\n",
    "    2014 : [2700,2915,2950,2880,3020,3030,3020],\n",
    "    2015 : [2750,2910,2955,2820,3030,3080,3010],\n",
    "    2016 : [2920,2950,2960,2840,3100,3100,3050],\n",
    "    2017 : [2930,2940,2970,2900,3150,3300,3080]\n",
    "}"
   ]
  },
  {
   "cell_type": "code",
   "execution_count": 118,
   "metadata": {
    "collapsed": true
   },
   "outputs": [],
   "source": [
    "def print_input_data(data):\n",
    "    \"\"\"\n",
    "    This is a docstring written in a reST style.\n",
    "    \n",
    "    :param data: this is an input data in the dictionary format\n",
    "    :returns: no return value\n",
    "    \"\"\"\n",
    "    pp = pprint.PrettyPrinter(indent=4)\n",
    "    pp.pprint(data)"
   ]
  },
  {
   "cell_type": "code",
   "execution_count": 119,
   "metadata": {},
   "outputs": [
    {
     "name": "stdout",
     "output_type": "stream",
     "text": [
      "{   2013: [2800, 2900, 2950, 2890, 3050, 3030, 3000],\n",
      "    2014: [2700, 2915, 2950, 2880, 3020, 3030, 3020],\n",
      "    2015: [2750, 2910, 2955, 2820, 3030, 3080, 3010],\n",
      "    2016: [2920, 2950, 2960, 2840, 3100, 3100, 3050],\n",
      "    2017: [2930, 2940, 2970, 2900, 3150, 3300, 3080]}\n"
     ]
    }
   ],
   "source": [
    "print_input_data(traffic_data)"
   ]
  },
  {
   "cell_type": "markdown",
   "metadata": {},
   "source": [
    "### Your task is to develop the code that selects the data sub-set of 2016 and finds the minimum value of a traffic intensity. If this value is greater than 2000, then you should “store” the result on the hard drive. Otherwise, you should output a message saying that the data is not saved.\n",
    "### Please notice that the storage should be simulated using print function, e.g. \"Storing the file on the hard disk\". In the print function please output the value that you are storing.  \n",
    "### Do not forget to add comments to your functions."
   ]
  },
  {
   "cell_type": "code",
   "execution_count": null,
   "metadata": {
    "collapsed": true
   },
   "outputs": [],
   "source": []
  }
 ],
 "metadata": {
  "kernelspec": {
   "display_name": "Python 3",
   "language": "python",
   "name": "python3"
  },
  "language_info": {
   "codemirror_mode": {
    "name": "ipython",
    "version": 3
   },
   "file_extension": ".py",
   "mimetype": "text/x-python",
   "name": "python",
   "nbconvert_exporter": "python",
   "pygments_lexer": "ipython3",
   "version": "3.6.1"
  }
 },
 "nbformat": 4,
 "nbformat_minor": 2
}
