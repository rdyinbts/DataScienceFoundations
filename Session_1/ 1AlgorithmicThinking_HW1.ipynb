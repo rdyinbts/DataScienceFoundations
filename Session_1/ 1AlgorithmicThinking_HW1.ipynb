{
 "cells": [
  {
   "cell_type": "code",
   "execution_count": 53,
   "metadata": {
    "collapsed": true
   },
   "outputs": [],
   "source": [
    "def getmins(*kwargs):\n",
    "    return min(*kwargs)\n",
    "\n",
    "def displaymin(x):\n",
    "    if x>2000:\n",
    "        return (\"Store the \" + str(x) +\" value in harddrive\")\n",
    "    else:\n",
    "        return(\"The data is not saved\")"
   ]
  },
  {
   "cell_type": "code",
   "execution_count": 45,
   "metadata": {
    "collapsed": true
   },
   "outputs": [],
   "source": [
    "traffic_data = {\"2013\": [2000,3000,4500,5120],\"2014\" : [153, 592, 890,113],\"2015\": [123,234,533,686],\n",
    "                \"2016\": [2920,2950,2960,2840],\"2017\": [987,123,456,740]}"
   ]
  },
  {
   "cell_type": "code",
   "execution_count": 56,
   "metadata": {},
   "outputs": [
    {
     "data": {
      "text/plain": [
       "'Store the 2840 value in harddrive'"
      ]
     },
     "execution_count": 56,
     "metadata": {},
     "output_type": "execute_result"
    }
   ],
   "source": [
    "displaymin(getmins(traffic_data[\"2016\"]))"
   ]
  }
 ],
 "metadata": {
  "kernelspec": {
   "display_name": "Python 3",
   "language": "python",
   "name": "python3"
  },
  "language_info": {
   "codemirror_mode": {
    "name": "ipython",
    "version": 3
   },
   "file_extension": ".py",
   "mimetype": "text/x-python",
   "name": "python",
   "nbconvert_exporter": "python",
   "pygments_lexer": "ipython3",
   "version": "3.6.1"
  }
 },
 "nbformat": 4,
 "nbformat_minor": 2
}
