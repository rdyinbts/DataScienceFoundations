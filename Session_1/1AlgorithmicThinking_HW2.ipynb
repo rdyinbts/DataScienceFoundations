{
 "cells": [
  {
   "cell_type": "code",
   "execution_count": 1,
   "metadata": {
    "collapsed": true
   },
   "outputs": [],
   "source": [
    "def displaymin(data, year):\n",
    "    \"\"\"\n",
    "    \n",
    "    Function that finds minimum value and displays whether it is stored or not in your hard drive\n",
    "    \n",
    "    parameter data: this is an input data in dictionary format\n",
    "    parameter year: this is a key in your dictionary, in year format[YYYY]\n",
    "    return: print if value is stored (if minimum value > 2000) or not saved\n",
    "    \n",
    "    \"\"\"\n",
    "    if min(data[year]) >2000:\n",
    "        return print(\"Store the \" + str(min(data[year])) +\" value in harddrive\")\n",
    "    else:\n",
    "        return print(\"The data is not saved\")"
   ]
  },
  {
   "cell_type": "code",
   "execution_count": 2,
   "metadata": {
    "collapsed": true
   },
   "outputs": [],
   "source": [
    "traffic_data = {\n",
    "    2013 : [2800,2900,2950,2890,3050,3030,3000],\n",
    "    2014 : [2700,2915,2950,2880,3020,3030,3020],\n",
    "    2015 : [2750,2910,2955,2820,3030,3080,3010],\n",
    "    2016 : [2920,2950,2960,2840,3100,3100,3050],\n",
    "    2017 : [2930,2940,2970,2900,3150,3300,3080]\n",
    "}"
   ]
  },
  {
   "cell_type": "code",
   "execution_count": 16,
   "metadata": {},
   "outputs": [
    {
     "data": {
      "text/plain": [
       "'Store the 2840 value in harddrive'"
      ]
     },
     "execution_count": 16,
     "metadata": {},
     "output_type": "execute_result"
    }
   ],
   "source": [
    "displaymin(traffic_data,2016)"
   ]
  },
  {
   "cell_type": "code",
   "execution_count": null,
   "metadata": {
    "collapsed": true
   },
   "outputs": [],
   "source": []
  }
 ],
 "metadata": {
  "kernelspec": {
   "display_name": "Python 3",
   "language": "python",
   "name": "python3"
  },
  "language_info": {
   "codemirror_mode": {
    "name": "ipython",
    "version": 3
   },
   "file_extension": ".py",
   "mimetype": "text/x-python",
   "name": "python",
   "nbconvert_exporter": "python",
   "pygments_lexer": "ipython3",
   "version": "3.6.1"
  }
 },
 "nbformat": 4,
 "nbformat_minor": 2
}
