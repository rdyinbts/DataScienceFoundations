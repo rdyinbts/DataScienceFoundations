{
 "cells": [
  {
   "cell_type": "code",
   "execution_count": null,
   "metadata": {
    "collapsed": true
   },
   "outputs": [],
   "source": [
    "import sqlite3\n",
    "from sqlite3 import Error"
   ]
  },
  {
   "cell_type": "code",
   "execution_count": null,
   "metadata": {},
   "outputs": [],
   "source": [
    "def create_connection(db_file):\n",
    "    \"\"\" \n",
    "    Create a database connection to the SQLite database specified by the db_file\n",
    "    \n",
    "    :param db_file: database file\n",
    "    :return: the Connection object or None\n",
    "    \"\"\"\n",
    "    try:\n",
    "        conn = sqlite3.connect(db_file)\n",
    "        return conn\n",
    "    except Error as e:\n",
    "        print(e)\n",
    " \n",
    "    return None\n",
    "\n",
    "\n",
    "def select_N_passengers(conn,quantity):\n",
    "    \"\"\"\n",
    "    Query the first N rows in the table \"passengers\"\n",
    "    \n",
    "    :param conn: the Connection object\n",
    "    :param quantity: integer value representing the number of rows to be retrieved from the table\n",
    "    :return:\n",
    "    \"\"\"\n",
    "    cur = conn.cursor()\n",
    "    cur.execute(\"SELECT * FROM passengers LIMIT ?\",(quantity,))\n",
    " \n",
    "    rows = cur.fetchall()\n",
    " \n",
    "    for row in rows:\n",
    "        print(row)\n",
    " \n",
    " \n",
    "def select_N_passengers_by_survival(conn, survived,quantity):\n",
    "    \"\"\"\n",
    "    Query the first N wors in the table \"passengers\" by survival\n",
    "    \n",
    "    :param conn: the Connection object\n",
    "    :param survived: boolean value\n",
    "    :param quantity: integer value representing the number of rows to be retrieved from the table\n",
    "    :return:\n",
    "    \"\"\"\n",
    "    cur = conn.cursor()\n",
    "    cur.execute(\"SELECT * FROM passengers WHERE Survived=? LIMIT ?\", (survived,quantity,))\n",
    " \n",
    "    rows = cur.fetchall()\n",
    " \n",
    "    for row in rows:\n",
    "        print(row)\n",
    " \n",
    " \n",
    "def main():\n",
    "    # SUBSTITUTE THIS PATH BY THE CORRECT PATH ON YOUR LOCAL FILE SYSTEM\n",
    "    database = \"C:\\\\Users\\liana.napalkova\\Desktop\\BTS\\Titanic.db\"\n",
    " \n",
    "    # Create a database connection\n",
    "    conn = create_connection(database)\n",
    "    with conn:\n",
    "        print(\"1. Query N passengers by survival:\")\n",
    "        select_N_passengers_by_survival(conn,1,10)\n",
    " \n",
    "        print(\"2. Query N passengers\")\n",
    "        select_N_passengers(conn,10)\n",
    "    \n",
    "    # Close the connection with the database\n",
    "    conn.close()\n",
    " \n",
    " \n",
    "if __name__ == '__main__':\n",
    "    main()"
   ]
  },
  {
   "cell_type": "code",
   "execution_count": null,
   "metadata": {
    "collapsed": true
   },
   "outputs": [],
   "source": []
  }
 ],
 "metadata": {
  "kernelspec": {
   "display_name": "Python 3",
   "language": "python",
   "name": "python3"
  },
  "language_info": {
   "codemirror_mode": {
    "name": "ipython",
    "version": 3
   },
   "file_extension": ".py",
   "mimetype": "text/x-python",
   "name": "python",
   "nbconvert_exporter": "python",
   "pygments_lexer": "ipython3",
   "version": "3.6.2"
  }
 },
 "nbformat": 4,
 "nbformat_minor": 2
}
