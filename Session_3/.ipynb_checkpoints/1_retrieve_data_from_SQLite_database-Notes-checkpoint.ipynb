{
 "cells": [
  {
   "cell_type": "code",
   "execution_count": 5,
   "metadata": {
    "collapsed": true
   },
   "outputs": [],
   "source": [
    "import sqlite3\n",
    "from sqlite3 import Error"
   ]
  },
  {
   "cell_type": "code",
   "execution_count": 6,
   "metadata": {},
   "outputs": [
    {
     "name": "stdout",
     "output_type": "stream",
     "text": [
      "1. Query N passengers by survival:\n",
      "(2, 1, 1, 'Cumings, Mrs. John Bradley (Florence Briggs Thayer)', 'female', 38.0, 1, 0, 'PC 17599', 71.2833, 'C85', 'C')\n",
      "(3, 1, 3, 'Heikkinen, Miss. Laina', 'female', 26.0, 0, 0, 'STON/O2. 3101282', 7.925, '', 'S')\n",
      "(4, 1, 1, 'Futrelle, Mrs. Jacques Heath (Lily May Peel)', 'female', 35.0, 1, 0, '113803', 53.1, 'C123', 'S')\n",
      "(9, 1, 3, 'Johnson, Mrs. Oscar W (Elisabeth Vilhelmina Berg)', 'female', 27.0, 0, 2, '347742', 11.1333, '', 'S')\n",
      "(10, 1, 2, 'Nasser, Mrs. Nicholas (Adele Achem)', 'female', 14.0, 1, 0, '237736', 30.0708, '', 'C')\n",
      "(11, 1, 3, 'Sandstrom, Miss. Marguerite Rut', 'female', 4.0, 1, 1, 'PP 9549', 16.7, 'G6', 'S')\n",
      "(12, 1, 1, 'Bonnell, Miss. Elizabeth', 'female', 58.0, 0, 0, '113783', 26.55, 'C103', 'S')\n",
      "(16, 1, 2, 'Hewlett, Mrs. (Mary D Kingcome)', 'female', 55.0, 0, 0, '248706', 16.0, '', 'S')\n",
      "(18, 1, 2, 'Williams, Mr. Charles Eugene', 'male', '', 0, 0, '244373', 13.0, '', 'S')\n",
      "(20, 1, 3, 'Masselmani, Mrs. Fatima', 'female', '', 0, 0, '2649', 7.225, '', 'C')\n",
      "2. Query N passengers\n",
      "(1, 0, 3, 'Braund, Mr. Owen Harris', 'male', 22.0, 1, 0, 'A/5 21171', 7.25, '', 'S')\n",
      "(2, 1, 1, 'Cumings, Mrs. John Bradley (Florence Briggs Thayer)', 'female', 38.0, 1, 0, 'PC 17599', 71.2833, 'C85', 'C')\n",
      "(3, 1, 3, 'Heikkinen, Miss. Laina', 'female', 26.0, 0, 0, 'STON/O2. 3101282', 7.925, '', 'S')\n",
      "(4, 1, 1, 'Futrelle, Mrs. Jacques Heath (Lily May Peel)', 'female', 35.0, 1, 0, '113803', 53.1, 'C123', 'S')\n",
      "(5, 0, 3, 'Allen, Mr. William Henry', 'male', 35.0, 0, 0, '373450', 8.05, '', 'S')\n",
      "(6, 0, 3, 'Moran, Mr. James', 'male', '', 0, 0, '330877', 8.4583, '', 'Q')\n",
      "(7, 0, 1, 'McCarthy, Mr. Timothy J', 'male', 54.0, 0, 0, '17463', 51.8625, 'E46', 'S')\n",
      "(8, 0, 3, 'Palsson, Master. Gosta Leonard', 'male', 2.0, 3, 1, '349909', 21.075, '', 'S')\n",
      "(9, 1, 3, 'Johnson, Mrs. Oscar W (Elisabeth Vilhelmina Berg)', 'female', 27.0, 0, 2, '347742', 11.1333, '', 'S')\n",
      "(10, 1, 2, 'Nasser, Mrs. Nicholas (Adele Achem)', 'female', 14.0, 1, 0, '237736', 30.0708, '', 'C')\n"
     ]
    }
   ],
   "source": [
    "def create_connection(db_file):\n",
    "    \"\"\" \n",
    "    Create a database connection to the SQLite database specified by the db_file\n",
    "    \n",
    "    :param db_file: database file\n",
    "    :return: the Connection object or None\n",
    "    \"\"\"\n",
    "    try:\n",
    "        conn = sqlite3.connect(db_file)\n",
    "        return conn\n",
    "    except Error as e:\n",
    "        print(e)\n",
    " \n",
    "    return None\n",
    "\n",
    "\n",
    "def select_N_passengers(conn,quantity):\n",
    "    \"\"\"\n",
    "    Query the first N rows in the table \"passengers\"\n",
    "    \n",
    "    :param conn: the Connection object\n",
    "    :param quantity: integer value representing the number of rows to be retrieved from the table\n",
    "    :return:\n",
    "    \"\"\"\n",
    "    cur = conn.cursor()\n",
    "    cur.execute(\"SELECT * FROM passengers LIMIT ?\",(quantity,))\n",
    " \n",
    "    rows = cur.fetchall()\n",
    " \n",
    "    for row in rows:\n",
    "        print(row)\n",
    " \n",
    " \n",
    "def select_N_passengers_by_survival(conn, survived,quantity):\n",
    "    \"\"\"\n",
    "    Query the first N wors in the table \"passengers\" by survival\n",
    "    \n",
    "    :param conn: the Connection object\n",
    "    :param survived: boolean value\n",
    "    :param quantity: integer value representing the number of rows to be retrieved from the table\n",
    "    :return:\n",
    "    \"\"\"\n",
    "    cur = conn.cursor()\n",
    "    cur.execute(\"SELECT * FROM passengers WHERE Survived=? LIMIT ?\", (survived,quantity,))\n",
    " \n",
    "    rows = cur.fetchall()\n",
    " \n",
    "    for row in rows:\n",
    "        print(row)\n",
    " \n",
    " \n",
    "def main():\n",
    "    # SUBSTITUTE THIS PATH BY THE CORRECT PATH ON YOUR LOCAL FILE SYSTEM\n",
    "    database = \"/Users/racheldyap/Desktop/DataScienceFoundations/Session_3/Titanic.db\"\n",
    " \n",
    "    # Create a database connection\n",
    "    conn = create_connection(database)\n",
    "    with conn:\n",
    "        print(\"1. Query N passengers by survival:\")\n",
    "        select_N_passengers_by_survival(conn,1,10)\n",
    " \n",
    "        print(\"2. Query N passengers\")\n",
    "        select_N_passengers(conn,10)\n",
    "    \n",
    "    # Close the connection with the database\n",
    "    conn.close()\n",
    " \n",
    " \n",
    "if __name__ == '__main__':\n",
    "    main()"
   ]
  },
  {
   "cell_type": "code",
   "execution_count": null,
   "metadata": {
    "collapsed": true
   },
   "outputs": [],
   "source": []
  }
 ],
 "metadata": {
  "kernelspec": {
   "display_name": "Python 3",
   "language": "python",
   "name": "python3"
  },
  "language_info": {
   "codemirror_mode": {
    "name": "ipython",
    "version": 3
   },
   "file_extension": ".py",
   "mimetype": "text/x-python",
   "name": "python",
   "nbconvert_exporter": "python",
   "pygments_lexer": "ipython3",
   "version": "3.6.1"
  }
 },
 "nbformat": 4,
 "nbformat_minor": 2
}
