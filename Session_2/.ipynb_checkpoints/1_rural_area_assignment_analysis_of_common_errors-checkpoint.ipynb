{
 "cells": [
  {
   "cell_type": "code",
   "execution_count": 1,
   "metadata": {
    "collapsed": true
   },
   "outputs": [],
   "source": [
    "import pandas as pd\n",
    "import numpy as np"
   ]
  },
  {
   "cell_type": "code",
   "execution_count": 2,
   "metadata": {},
   "outputs": [
    {
     "data": {
      "text/html": [
       "<div>\n",
       "<style>\n",
       "    .dataframe thead tr:only-child th {\n",
       "        text-align: right;\n",
       "    }\n",
       "\n",
       "    .dataframe thead th {\n",
       "        text-align: left;\n",
       "    }\n",
       "\n",
       "    .dataframe tbody tr th {\n",
       "        vertical-align: top;\n",
       "    }\n",
       "</style>\n",
       "<table border=\"1\" class=\"dataframe\">\n",
       "  <thead>\n",
       "    <tr style=\"text-align: right;\">\n",
       "      <th></th>\n",
       "      <th>Continent</th>\n",
       "      <th>ElevationZone</th>\n",
       "      <th>UrbanRuralDesignation</th>\n",
       "      <th>Population1990</th>\n",
       "      <th>Population2000</th>\n",
       "      <th>Population2010</th>\n",
       "      <th>Population2100</th>\n",
       "      <th>LandArea</th>\n",
       "    </tr>\n",
       "  </thead>\n",
       "  <tbody>\n",
       "    <tr>\n",
       "      <th>0</th>\n",
       "      <td>Africa</td>\n",
       "      <td>Elevations &gt; 20m or Non-Contiguous</td>\n",
       "      <td>Rural</td>\n",
       "      <td>333302081</td>\n",
       "      <td>418265923</td>\n",
       "      <td>530184094</td>\n",
       "      <td>1249908321</td>\n",
       "      <td>23749644</td>\n",
       "    </tr>\n",
       "    <tr>\n",
       "      <th>1</th>\n",
       "      <td>Africa</td>\n",
       "      <td>Elevations &gt; 20m or Non-Contiguous</td>\n",
       "      <td>Urban</td>\n",
       "      <td>157846329</td>\n",
       "      <td>210381843</td>\n",
       "      <td>266776037</td>\n",
       "      <td>504662423</td>\n",
       "      <td>204719</td>\n",
       "    </tr>\n",
       "    <tr>\n",
       "      <th>2</th>\n",
       "      <td>Africa</td>\n",
       "      <td>Elevations Less Than or Equal To 10m</td>\n",
       "      <td>Rural</td>\n",
       "      <td>18167003</td>\n",
       "      <td>22569516</td>\n",
       "      <td>28154645</td>\n",
       "      <td>76368900</td>\n",
       "      <td>172460</td>\n",
       "    </tr>\n",
       "    <tr>\n",
       "      <th>3</th>\n",
       "      <td>Africa</td>\n",
       "      <td>Elevations Less Than or Equal To 10m</td>\n",
       "      <td>Urban</td>\n",
       "      <td>22412955</td>\n",
       "      <td>28679117</td>\n",
       "      <td>36746774</td>\n",
       "      <td>94042536</td>\n",
       "      <td>13838</td>\n",
       "    </tr>\n",
       "    <tr>\n",
       "      <th>4</th>\n",
       "      <td>Africa</td>\n",
       "      <td>Elevations Less Than or Equal To 12m</td>\n",
       "      <td>Rural</td>\n",
       "      <td>20569411</td>\n",
       "      <td>25576481</td>\n",
       "      <td>31957186</td>\n",
       "      <td>85839163</td>\n",
       "      <td>202456</td>\n",
       "    </tr>\n",
       "  </tbody>\n",
       "</table>\n",
       "</div>"
      ],
      "text/plain": [
       "  Continent                          ElevationZone UrbanRuralDesignation  \\\n",
       "0    Africa    Elevations > 20m or Non-Contiguous                  Rural   \n",
       "1    Africa    Elevations > 20m or Non-Contiguous                  Urban   \n",
       "2    Africa  Elevations Less Than or Equal To 10m                  Rural   \n",
       "3    Africa  Elevations Less Than or Equal To 10m                  Urban   \n",
       "4    Africa  Elevations Less Than or Equal To 12m                  Rural   \n",
       "\n",
       "   Population1990  Population2000  Population2010  Population2100  LandArea  \n",
       "0       333302081       418265923       530184094      1249908321  23749644  \n",
       "1       157846329       210381843       266776037       504662423    204719  \n",
       "2        18167003        22569516        28154645        76368900    172460  \n",
       "3        22412955        28679117        36746774        94042536     13838  \n",
       "4        20569411        25576481        31957186        85839163    202456  "
      ]
     },
     "execution_count": 2,
     "metadata": {},
     "output_type": "execute_result"
    }
   ],
   "source": [
    "df = pd.read_csv(\"/Users/racheldyap/Desktop/DataScienceFoundations/Session_1/file_formats/rural_population_data.csv\", sep=\",\")\n",
    "df.head()"
   ]
  },
  {
   "cell_type": "code",
   "execution_count": 3,
   "metadata": {},
   "outputs": [
    {
     "data": {
      "text/plain": [
       "Continent                object\n",
       "ElevationZone            object\n",
       "UrbanRuralDesignation    object\n",
       "Population1990            int64\n",
       "Population2000            int64\n",
       "Population2010            int64\n",
       "Population2100            int64\n",
       "LandArea                  int64\n",
       "dtype: object"
      ]
     },
     "execution_count": 3,
     "metadata": {},
     "output_type": "execute_result"
    }
   ],
   "source": [
    "df.dtypes"
   ]
  },
  {
   "cell_type": "markdown",
   "metadata": {},
   "source": [
    "### Check how many rows have UrbanRuralDesignation equal to “Urban”."
   ]
  },
  {
   "cell_type": "code",
   "execution_count": null,
   "metadata": {
    "collapsed": true
   },
   "outputs": [],
   "source": [
    "len(df[\"UrbanRuralDesignation\"] == \"Urban\")"
   ]
  },
  {
   "cell_type": "code",
   "execution_count": null,
   "metadata": {
    "collapsed": true
   },
   "outputs": [],
   "source": [
    "sum(df['UrbanRuralDesignation'] == 'Urban')"
   ]
  },
  {
   "cell_type": "code",
   "execution_count": null,
   "metadata": {
    "collapsed": true
   },
   "outputs": [],
   "source": [
    "Count = 0\n",
    "List = df.loc[:,\"UrbanRuralDesignation\"]==\"Urban\"\n",
    "\n",
    "for item in List:\n",
    "    if item == True:\n",
    "        Count += 1\n",
    "\n",
    "print(Count)"
   ]
  },
  {
   "cell_type": "code",
   "execution_count": null,
   "metadata": {
    "collapsed": true
   },
   "outputs": [],
   "source": [
    "df.loc[df.loc[:,\"UrbanRuralDesignation\"]==\"Urban\"].shape"
   ]
  },
  {
   "cell_type": "markdown",
   "metadata": {},
   "source": [
    "### Check the existence of NaN values in the DataFrame"
   ]
  },
  {
   "cell_type": "code",
   "execution_count": null,
   "metadata": {
    "collapsed": true
   },
   "outputs": [],
   "source": [
    "df.isnull()"
   ]
  },
  {
   "cell_type": "code",
   "execution_count": null,
   "metadata": {
    "collapsed": true
   },
   "outputs": [],
   "source": [
    "df.isnull().sum()"
   ]
  },
  {
   "cell_type": "markdown",
   "metadata": {},
   "source": [
    "### Find the average population size in the years 2000 and 2010."
   ]
  },
  {
   "cell_type": "code",
   "execution_count": null,
   "metadata": {
    "collapsed": true
   },
   "outputs": [],
   "source": [
    "np.mean((df[\"Population2010\"], df[\"Population2000\"]))"
   ]
  },
  {
   "cell_type": "code",
   "execution_count": null,
   "metadata": {
    "collapsed": true
   },
   "outputs": [],
   "source": [
    "df['Population2000'].mean() + df ['Population2010'].mean()/2"
   ]
  },
  {
   "cell_type": "code",
   "execution_count": null,
   "metadata": {
    "collapsed": true
   },
   "outputs": [],
   "source": []
  }
 ],
 "metadata": {
  "kernelspec": {
   "display_name": "Python 3",
   "language": "python",
   "name": "python3"
  },
  "language_info": {
   "codemirror_mode": {
    "name": "ipython",
    "version": 3
   },
   "file_extension": ".py",
   "mimetype": "text/x-python",
   "name": "python",
   "nbconvert_exporter": "python",
   "pygments_lexer": "ipython3",
   "version": "3.6.1"
  }
 },
 "nbformat": 4,
 "nbformat_minor": 2
}
