{
 "cells": [
  {
   "cell_type": "markdown",
   "metadata": {},
   "source": [
    "# Subject: Data Science Foundation\n",
    "\n",
    "## Session 13 - Correlation in Python.\n",
    "\n",
    "### Exercise 1 -  Calculating Correlation in Pandas\n"
   ]
  },
  {
   "cell_type": "markdown",
   "metadata": {},
   "source": [
    "We will be using a dataset \"Advertising\". Calculate the Pearson correlation of sales with TV, radio and newspaper."
   ]
  },
  {
   "cell_type": "code",
   "execution_count": 1,
   "metadata": {
    "scrolled": false
   },
   "outputs": [
    {
     "data": {
      "text/html": [
       "<div>\n",
       "<style>\n",
       "    .dataframe thead tr:only-child th {\n",
       "        text-align: right;\n",
       "    }\n",
       "\n",
       "    .dataframe thead th {\n",
       "        text-align: left;\n",
       "    }\n",
       "\n",
       "    .dataframe tbody tr th {\n",
       "        vertical-align: top;\n",
       "    }\n",
       "</style>\n",
       "<table border=\"1\" class=\"dataframe\">\n",
       "  <thead>\n",
       "    <tr style=\"text-align: right;\">\n",
       "      <th></th>\n",
       "      <th>TV</th>\n",
       "      <th>radio</th>\n",
       "      <th>newspaper</th>\n",
       "      <th>sales</th>\n",
       "    </tr>\n",
       "  </thead>\n",
       "  <tbody>\n",
       "    <tr>\n",
       "      <th>1</th>\n",
       "      <td>230.1</td>\n",
       "      <td>37.8</td>\n",
       "      <td>69.2</td>\n",
       "      <td>22.1</td>\n",
       "    </tr>\n",
       "    <tr>\n",
       "      <th>2</th>\n",
       "      <td>44.5</td>\n",
       "      <td>39.3</td>\n",
       "      <td>45.1</td>\n",
       "      <td>10.4</td>\n",
       "    </tr>\n",
       "    <tr>\n",
       "      <th>3</th>\n",
       "      <td>17.2</td>\n",
       "      <td>45.9</td>\n",
       "      <td>69.3</td>\n",
       "      <td>9.3</td>\n",
       "    </tr>\n",
       "    <tr>\n",
       "      <th>4</th>\n",
       "      <td>151.5</td>\n",
       "      <td>41.3</td>\n",
       "      <td>58.5</td>\n",
       "      <td>18.5</td>\n",
       "    </tr>\n",
       "    <tr>\n",
       "      <th>5</th>\n",
       "      <td>180.8</td>\n",
       "      <td>10.8</td>\n",
       "      <td>58.4</td>\n",
       "      <td>12.9</td>\n",
       "    </tr>\n",
       "  </tbody>\n",
       "</table>\n",
       "</div>"
      ],
      "text/plain": [
       "      TV  radio  newspaper  sales\n",
       "1  230.1   37.8       69.2   22.1\n",
       "2   44.5   39.3       45.1   10.4\n",
       "3   17.2   45.9       69.3    9.3\n",
       "4  151.5   41.3       58.5   18.5\n",
       "5  180.8   10.8       58.4   12.9"
      ]
     },
     "execution_count": 1,
     "metadata": {},
     "output_type": "execute_result"
    }
   ],
   "source": [
    "import pandas as pd\n",
    "import numpy as np\n",
    "import seaborn as sns\n",
    "import matplotlib.pyplot as plt\n",
    "%matplotlib inline\n",
    "data = pd.read_csv('http://www-bcf.usc.edu/~gareth/ISL/Advertising.csv', index_col=0)\n",
    "data.head()"
   ]
  },
  {
   "cell_type": "code",
   "execution_count": 2,
   "metadata": {
    "collapsed": true
   },
   "outputs": [],
   "source": [
    "# using pearson model because we have continuous variable"
   ]
  },
  {
   "cell_type": "code",
   "execution_count": 3,
   "metadata": {},
   "outputs": [
    {
     "data": {
      "text/html": [
       "<div>\n",
       "<style>\n",
       "    .dataframe thead tr:only-child th {\n",
       "        text-align: right;\n",
       "    }\n",
       "\n",
       "    .dataframe thead th {\n",
       "        text-align: left;\n",
       "    }\n",
       "\n",
       "    .dataframe tbody tr th {\n",
       "        vertical-align: top;\n",
       "    }\n",
       "</style>\n",
       "<table border=\"1\" class=\"dataframe\">\n",
       "  <thead>\n",
       "    <tr style=\"text-align: right;\">\n",
       "      <th></th>\n",
       "      <th>TV</th>\n",
       "      <th>radio</th>\n",
       "      <th>newspaper</th>\n",
       "      <th>sales</th>\n",
       "    </tr>\n",
       "  </thead>\n",
       "  <tbody>\n",
       "    <tr>\n",
       "      <th>TV</th>\n",
       "      <td>1.000000</td>\n",
       "      <td>0.054809</td>\n",
       "      <td>0.056648</td>\n",
       "      <td>0.782224</td>\n",
       "    </tr>\n",
       "    <tr>\n",
       "      <th>radio</th>\n",
       "      <td>0.054809</td>\n",
       "      <td>1.000000</td>\n",
       "      <td>0.354104</td>\n",
       "      <td>0.576223</td>\n",
       "    </tr>\n",
       "    <tr>\n",
       "      <th>newspaper</th>\n",
       "      <td>0.056648</td>\n",
       "      <td>0.354104</td>\n",
       "      <td>1.000000</td>\n",
       "      <td>0.228299</td>\n",
       "    </tr>\n",
       "    <tr>\n",
       "      <th>sales</th>\n",
       "      <td>0.782224</td>\n",
       "      <td>0.576223</td>\n",
       "      <td>0.228299</td>\n",
       "      <td>1.000000</td>\n",
       "    </tr>\n",
       "  </tbody>\n",
       "</table>\n",
       "</div>"
      ],
      "text/plain": [
       "                 TV     radio  newspaper     sales\n",
       "TV         1.000000  0.054809   0.056648  0.782224\n",
       "radio      0.054809  1.000000   0.354104  0.576223\n",
       "newspaper  0.056648  0.354104   1.000000  0.228299\n",
       "sales      0.782224  0.576223   0.228299  1.000000"
      ]
     },
     "execution_count": 3,
     "metadata": {},
     "output_type": "execute_result"
    }
   ],
   "source": [
    "data.corr(method='pearson')"
   ]
  },
  {
   "cell_type": "code",
   "execution_count": 4,
   "metadata": {},
   "outputs": [
    {
     "data": {
      "text/html": [
       "<style  type=\"text/css\" >\n",
       "    #T_2fe37a6e_cec4_11e7_bed5_c4b3018be53crow0_col0 {\n",
       "            background-color:  #b40426;\n",
       "        }    #T_2fe37a6e_cec4_11e7_bed5_c4b3018be53crow0_col1 {\n",
       "            background-color:  #3b4cc0;\n",
       "        }    #T_2fe37a6e_cec4_11e7_bed5_c4b3018be53crow0_col2 {\n",
       "            background-color:  #3b4cc0;\n",
       "        }    #T_2fe37a6e_cec4_11e7_bed5_c4b3018be53crow0_col3 {\n",
       "            background-color:  #f7a688;\n",
       "        }    #T_2fe37a6e_cec4_11e7_bed5_c4b3018be53crow1_col0 {\n",
       "            background-color:  #3b4cc0;\n",
       "        }    #T_2fe37a6e_cec4_11e7_bed5_c4b3018be53crow1_col1 {\n",
       "            background-color:  #b40426;\n",
       "        }    #T_2fe37a6e_cec4_11e7_bed5_c4b3018be53crow1_col2 {\n",
       "            background-color:  #a3c2fe;\n",
       "        }    #T_2fe37a6e_cec4_11e7_bed5_c4b3018be53crow1_col3 {\n",
       "            background-color:  #cfdaea;\n",
       "        }    #T_2fe37a6e_cec4_11e7_bed5_c4b3018be53crow2_col0 {\n",
       "            background-color:  #3b4cc0;\n",
       "        }    #T_2fe37a6e_cec4_11e7_bed5_c4b3018be53crow2_col1 {\n",
       "            background-color:  #a5c3fe;\n",
       "        }    #T_2fe37a6e_cec4_11e7_bed5_c4b3018be53crow2_col2 {\n",
       "            background-color:  #b40426;\n",
       "        }    #T_2fe37a6e_cec4_11e7_bed5_c4b3018be53crow2_col3 {\n",
       "            background-color:  #3b4cc0;\n",
       "        }    #T_2fe37a6e_cec4_11e7_bed5_c4b3018be53crow3_col0 {\n",
       "            background-color:  #f29072;\n",
       "        }    #T_2fe37a6e_cec4_11e7_bed5_c4b3018be53crow3_col1 {\n",
       "            background-color:  #ead5c9;\n",
       "        }    #T_2fe37a6e_cec4_11e7_bed5_c4b3018be53crow3_col2 {\n",
       "            background-color:  #7597f6;\n",
       "        }    #T_2fe37a6e_cec4_11e7_bed5_c4b3018be53crow3_col3 {\n",
       "            background-color:  #b40426;\n",
       "        }</style>  \n",
       "<table id=\"T_2fe37a6e_cec4_11e7_bed5_c4b3018be53c\" > \n",
       "<thead>    <tr> \n",
       "        <th class=\"blank level0\" ></th> \n",
       "        <th class=\"col_heading level0 col0\" >TV</th> \n",
       "        <th class=\"col_heading level0 col1\" >radio</th> \n",
       "        <th class=\"col_heading level0 col2\" >newspaper</th> \n",
       "        <th class=\"col_heading level0 col3\" >sales</th> \n",
       "    </tr></thead> \n",
       "<tbody>    <tr> \n",
       "        <th id=\"T_2fe37a6e_cec4_11e7_bed5_c4b3018be53c\" class=\"row_heading level0 row0\" >TV</th> \n",
       "        <td id=\"T_2fe37a6e_cec4_11e7_bed5_c4b3018be53crow0_col0\" class=\"data row0 col0\" >1.0</td> \n",
       "        <td id=\"T_2fe37a6e_cec4_11e7_bed5_c4b3018be53crow0_col1\" class=\"data row0 col1\" >0.055</td> \n",
       "        <td id=\"T_2fe37a6e_cec4_11e7_bed5_c4b3018be53crow0_col2\" class=\"data row0 col2\" >0.057</td> \n",
       "        <td id=\"T_2fe37a6e_cec4_11e7_bed5_c4b3018be53crow0_col3\" class=\"data row0 col3\" >0.78</td> \n",
       "    </tr>    <tr> \n",
       "        <th id=\"T_2fe37a6e_cec4_11e7_bed5_c4b3018be53c\" class=\"row_heading level0 row1\" >radio</th> \n",
       "        <td id=\"T_2fe37a6e_cec4_11e7_bed5_c4b3018be53crow1_col0\" class=\"data row1 col0\" >0.055</td> \n",
       "        <td id=\"T_2fe37a6e_cec4_11e7_bed5_c4b3018be53crow1_col1\" class=\"data row1 col1\" >1.0</td> \n",
       "        <td id=\"T_2fe37a6e_cec4_11e7_bed5_c4b3018be53crow1_col2\" class=\"data row1 col2\" >0.35</td> \n",
       "        <td id=\"T_2fe37a6e_cec4_11e7_bed5_c4b3018be53crow1_col3\" class=\"data row1 col3\" >0.58</td> \n",
       "    </tr>    <tr> \n",
       "        <th id=\"T_2fe37a6e_cec4_11e7_bed5_c4b3018be53c\" class=\"row_heading level0 row2\" >newspaper</th> \n",
       "        <td id=\"T_2fe37a6e_cec4_11e7_bed5_c4b3018be53crow2_col0\" class=\"data row2 col0\" >0.057</td> \n",
       "        <td id=\"T_2fe37a6e_cec4_11e7_bed5_c4b3018be53crow2_col1\" class=\"data row2 col1\" >0.35</td> \n",
       "        <td id=\"T_2fe37a6e_cec4_11e7_bed5_c4b3018be53crow2_col2\" class=\"data row2 col2\" >1.0</td> \n",
       "        <td id=\"T_2fe37a6e_cec4_11e7_bed5_c4b3018be53crow2_col3\" class=\"data row2 col3\" >0.23</td> \n",
       "    </tr>    <tr> \n",
       "        <th id=\"T_2fe37a6e_cec4_11e7_bed5_c4b3018be53c\" class=\"row_heading level0 row3\" >sales</th> \n",
       "        <td id=\"T_2fe37a6e_cec4_11e7_bed5_c4b3018be53crow3_col0\" class=\"data row3 col0\" >0.78</td> \n",
       "        <td id=\"T_2fe37a6e_cec4_11e7_bed5_c4b3018be53crow3_col1\" class=\"data row3 col1\" >0.58</td> \n",
       "        <td id=\"T_2fe37a6e_cec4_11e7_bed5_c4b3018be53crow3_col2\" class=\"data row3 col2\" >0.23</td> \n",
       "        <td id=\"T_2fe37a6e_cec4_11e7_bed5_c4b3018be53crow3_col3\" class=\"data row3 col3\" >1.0</td> \n",
       "    </tr></tbody> \n",
       "</table> "
      ],
      "text/plain": [
       "<pandas.io.formats.style.Styler at 0x10b322f60>"
      ]
     },
     "execution_count": 4,
     "metadata": {},
     "output_type": "execute_result"
    }
   ],
   "source": [
    "data.corr(method='pearson').style.format(\"{:.2}\").background_gradient(cmap=plt.get_cmap('coolwarm'),axis=0)"
   ]
  },
  {
   "cell_type": "code",
   "execution_count": 8,
   "metadata": {},
   "outputs": [
    {
     "data": {
      "text/plain": [
       "<matplotlib.axes._subplots.AxesSubplot at 0x116a80dd8>"
      ]
     },
     "execution_count": 8,
     "metadata": {},
     "output_type": "execute_result"
    },
    {
     "data": {
      "image/png": "[encoded data removed]",
      "text/plain": [
       "<matplotlib.figure.Figure at 0x116a9f080>"
      ]
     },
     "metadata": {},
     "output_type": "display_data"
    }
   ],
   "source": [
    "corr = data.corr(method='pearson')\n",
    "\n",
    "mask = np.zeros_like(corr, dtype=np.bool)\n",
    "mask[np.triu_indices_from(mask)] = True\n",
    "\n",
    "f, ax = plt.subplots(figsize=(10, 6))\n",
    "cmap = sns.diverging_palette(220, 10, as_cmap=True)\n",
    "sns.heatmap(corr, mask=mask, cmap=cmap, center=0,\n",
    "            square=True, linewidths=.5, cbar_kws={\"shrink\": .5})"
   ]
  },
  {
   "cell_type": "markdown",
   "metadata": {},
   "source": [
    "# Conclusion: "
   ]
  },
  {
   "cell_type": "markdown",
   "metadata": {},
   "source": [
    "1. TV and Sales have the stronges correlation at 0.78\n",
    "2. Radio and Sales has about 0.58 which suggest correlation, but not too strong. With this, we will need to test the model with step-regression to be more certain how much correlation affects sales with a change in spend on radio ads.\n",
    "3. Newspaper and Sales have very weak correlatio at only 0.23.\n",
    "\n",
    "Therefore, For #2 (Radio) and #3 (Newspaper), you have to test the model again (with step-regression (put all values and slowly subtract) or test one by one slowly add)\n",
    "\n",
    "\n",
    "Based on this result, we can say for certain that there is a strong positive correlation between TV ads and Sales. "
   ]
  },
  {
   "cell_type": "code",
   "execution_count": null,
   "metadata": {
    "collapsed": true
   },
   "outputs": [],
   "source": []
  }
 ],
 "metadata": {
  "kernelspec": {
   "display_name": "Python 3",
   "language": "python",
   "name": "python3"
  },
  "language_info": {
   "codemirror_mode": {
    "name": "ipython",
    "version": 3
   },
   "file_extension": ".py",
   "mimetype": "text/x-python",
   "name": "python",
   "nbconvert_exporter": "python",
   "pygments_lexer": "ipython3",
   "version": "3.6.3"
  }
 },
 "nbformat": 4,
 "nbformat_minor": 2
}
