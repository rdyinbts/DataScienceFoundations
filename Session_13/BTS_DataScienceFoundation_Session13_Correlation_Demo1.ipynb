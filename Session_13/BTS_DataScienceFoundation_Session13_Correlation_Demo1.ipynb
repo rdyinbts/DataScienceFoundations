{
 "cells": [
  {
   "cell_type": "markdown",
   "metadata": {},
   "source": [
    "# Subject: Data Science Foundation\n",
    "\n",
    "## Session 13 - Correlation in Python.\n",
    "\n",
    "### Demo1 -  Calculating Correlation in Pandas"
   ]
  },
  {
   "cell_type": "markdown",
   "metadata": {},
   "source": [
    "We will be using a dataset on vehicle fuel efficiency from University of California, Irvine.\n",
    "\n",
    "https://archive.ics.uci.edu/ml/datasets/Auto+MPG\n",
    "\n",
    "Let's say it is of interest to see what vehicle characteristics can help explain fuel consumption (mpg) of a vehicle. We begin by reading the dataset from the UCI online data repository and examining first few rows. Dataset documentation states that a special character is used for missing values (?), which can be used as one of the parameters to pandas read_csv() function:"
   ]
  },
  {
   "cell_type": "code",
   "execution_count": 1,
   "metadata": {
    "collapsed": true
   },
   "outputs": [],
   "source": [
    "import pandas as pd\n",
    "import numpy as np\n",
    "import matplotlib.pyplot as plt\n",
    "%matplotlib inline\n",
    "path = 'http://archive.ics.uci.edu/ml/machine-learning-databases/auto-mpg/auto-mpg.data'\n",
    "\n",
    "mpg_data = pd.read_csv(path, delim_whitespace=True, header=None,\n",
    "            names = ['mpg', 'cylinders', 'displacement','horsepower',\n",
    "            'weight', 'acceleration', 'model_year', 'origin', 'name'],\n",
    "            na_values='?')"
   ]
  },
  {
   "cell_type": "code",
   "execution_count": 2,
   "metadata": {},
   "outputs": [
    {
     "data": {
      "text/html": [
       "<div>\n",
       "<style>\n",
       "    .dataframe thead tr:only-child th {\n",
       "        text-align: right;\n",
       "    }\n",
       "\n",
       "    .dataframe thead th {\n",
       "        text-align: left;\n",
       "    }\n",
       "\n",
       "    .dataframe tbody tr th {\n",
       "        vertical-align: top;\n",
       "    }\n",
       "</style>\n",
       "<table border=\"1\" class=\"dataframe\">\n",
       "  <thead>\n",
       "    <tr style=\"text-align: right;\">\n",
       "      <th></th>\n",
       "      <th>mpg</th>\n",
       "      <th>cylinders</th>\n",
       "      <th>displacement</th>\n",
       "      <th>horsepower</th>\n",
       "      <th>weight</th>\n",
       "      <th>acceleration</th>\n",
       "      <th>model_year</th>\n",
       "      <th>origin</th>\n",
       "      <th>name</th>\n",
       "    </tr>\n",
       "  </thead>\n",
       "  <tbody>\n",
       "    <tr>\n",
       "      <th>0</th>\n",
       "      <td>18.0</td>\n",
       "      <td>8</td>\n",
       "      <td>307.0</td>\n",
       "      <td>130.0</td>\n",
       "      <td>3504.0</td>\n",
       "      <td>12.0</td>\n",
       "      <td>70</td>\n",
       "      <td>1</td>\n",
       "      <td>chevrolet chevelle malibu</td>\n",
       "    </tr>\n",
       "    <tr>\n",
       "      <th>1</th>\n",
       "      <td>15.0</td>\n",
       "      <td>8</td>\n",
       "      <td>350.0</td>\n",
       "      <td>165.0</td>\n",
       "      <td>3693.0</td>\n",
       "      <td>11.5</td>\n",
       "      <td>70</td>\n",
       "      <td>1</td>\n",
       "      <td>buick skylark 320</td>\n",
       "    </tr>\n",
       "    <tr>\n",
       "      <th>2</th>\n",
       "      <td>18.0</td>\n",
       "      <td>8</td>\n",
       "      <td>318.0</td>\n",
       "      <td>150.0</td>\n",
       "      <td>3436.0</td>\n",
       "      <td>11.0</td>\n",
       "      <td>70</td>\n",
       "      <td>1</td>\n",
       "      <td>plymouth satellite</td>\n",
       "    </tr>\n",
       "    <tr>\n",
       "      <th>3</th>\n",
       "      <td>16.0</td>\n",
       "      <td>8</td>\n",
       "      <td>304.0</td>\n",
       "      <td>150.0</td>\n",
       "      <td>3433.0</td>\n",
       "      <td>12.0</td>\n",
       "      <td>70</td>\n",
       "      <td>1</td>\n",
       "      <td>amc rebel sst</td>\n",
       "    </tr>\n",
       "    <tr>\n",
       "      <th>4</th>\n",
       "      <td>17.0</td>\n",
       "      <td>8</td>\n",
       "      <td>302.0</td>\n",
       "      <td>140.0</td>\n",
       "      <td>3449.0</td>\n",
       "      <td>10.5</td>\n",
       "      <td>70</td>\n",
       "      <td>1</td>\n",
       "      <td>ford torino</td>\n",
       "    </tr>\n",
       "  </tbody>\n",
       "</table>\n",
       "</div>"
      ],
      "text/plain": [
       "    mpg  cylinders  displacement  horsepower  weight  acceleration  \\\n",
       "0  18.0          8         307.0       130.0  3504.0          12.0   \n",
       "1  15.0          8         350.0       165.0  3693.0          11.5   \n",
       "2  18.0          8         318.0       150.0  3436.0          11.0   \n",
       "3  16.0          8         304.0       150.0  3433.0          12.0   \n",
       "4  17.0          8         302.0       140.0  3449.0          10.5   \n",
       "\n",
       "   model_year  origin                       name  \n",
       "0          70       1  chevrolet chevelle malibu  \n",
       "1          70       1          buick skylark 320  \n",
       "2          70       1         plymouth satellite  \n",
       "3          70       1              amc rebel sst  \n",
       "4          70       1                ford torino  "
      ]
     },
     "execution_count": 2,
     "metadata": {},
     "output_type": "execute_result"
    }
   ],
   "source": [
    "mpg_data.head()"
   ]
  },
  {
   "cell_type": "code",
   "execution_count": 28,
   "metadata": {
    "scrolled": true
   },
   "outputs": [
    {
     "data": {
      "text/plain": [
       "array([1, 3, 2])"
      ]
     },
     "execution_count": 28,
     "metadata": {},
     "output_type": "execute_result"
    }
   ],
   "source": [
    "mpg_data.origin.unique()"
   ]
  },
  {
   "cell_type": "code",
   "execution_count": 3,
   "metadata": {},
   "outputs": [
    {
     "data": {
      "text/plain": [
       "mpg             float64\n",
       "cylinders         int64\n",
       "displacement    float64\n",
       "horsepower      float64\n",
       "weight          float64\n",
       "acceleration    float64\n",
       "model_year        int64\n",
       "origin            int64\n",
       "name             object\n",
       "dtype: object"
      ]
     },
     "execution_count": 3,
     "metadata": {},
     "output_type": "execute_result"
    }
   ],
   "source": [
    "mpg_data.dtypes"
   ]
  },
  {
   "cell_type": "code",
   "execution_count": 4,
   "metadata": {},
   "outputs": [
    {
     "data": {
      "text/plain": [
       "(398, 9)"
      ]
     },
     "execution_count": 4,
     "metadata": {},
     "output_type": "execute_result"
    }
   ],
   "source": [
    "mpg_data.shape "
   ]
  },
  {
   "cell_type": "markdown",
   "metadata": {},
   "source": [
    "Upon inspecting the dataset, we see that horsepower has six missing values, which pandas' correlation method will automatically drop. Since the number of missing values is small, this setting is acceptable for our illustrative example. However, always make sure that dropping missing values is appropriate for your use case. If that is not the case, there are many existing methods for filling in and handling missing values, such as simple mean imputation."
   ]
  },
  {
   "cell_type": "code",
   "execution_count": 5,
   "metadata": {},
   "outputs": [
    {
     "name": "stdout",
     "output_type": "stream",
     "text": [
      "<class 'pandas.core.frame.DataFrame'>\n",
      "RangeIndex: 398 entries, 0 to 397\n",
      "Data columns (total 9 columns):\n",
      "mpg             398 non-null float64\n",
      "cylinders       398 non-null int64\n",
      "displacement    398 non-null float64\n",
      "horsepower      392 non-null float64\n",
      "weight          398 non-null float64\n",
      "acceleration    398 non-null float64\n",
      "model_year      398 non-null int64\n",
      "origin          398 non-null int64\n",
      "name            398 non-null object\n",
      "dtypes: float64(5), int64(3), object(1)\n",
      "memory usage: 28.1+ KB\n"
     ]
    }
   ],
   "source": [
    "mpg_data.info()"
   ]
  },
  {
   "cell_type": "code",
   "execution_count": 6,
   "metadata": {},
   "outputs": [
    {
     "name": "stdout",
     "output_type": "stream",
     "text": [
      "              mpg   cylinders  displacement  horsepower       weight  \\\n",
      "count  398.000000  398.000000    398.000000  392.000000   398.000000   \n",
      "mean    23.514573    5.454774    193.425879  104.469388  2970.424623   \n",
      "std      7.815984    1.701004    104.269838   38.491160   846.841774   \n",
      "min      9.000000    3.000000     68.000000   46.000000  1613.000000   \n",
      "25%     17.500000    4.000000    104.250000   75.000000  2223.750000   \n",
      "50%     23.000000    4.000000    148.500000   93.500000  2803.500000   \n",
      "75%     29.000000    8.000000    262.000000  126.000000  3608.000000   \n",
      "max     46.600000    8.000000    455.000000  230.000000  5140.000000   \n",
      "\n",
      "       acceleration  model_year      origin  \n",
      "count    398.000000  398.000000  398.000000  \n",
      "mean      15.568090   76.010050    1.572864  \n",
      "std        2.757689    3.697627    0.802055  \n",
      "min        8.000000   70.000000    1.000000  \n",
      "25%       13.825000   73.000000    1.000000  \n",
      "50%       15.500000   76.000000    1.000000  \n",
      "75%       17.175000   79.000000    2.000000  \n",
      "max       24.800000   82.000000    3.000000  \n"
     ]
    }
   ],
   "source": [
    "print(mpg_data.describe())"
   ]
  },
  {
   "cell_type": "code",
   "execution_count": 7,
   "metadata": {},
   "outputs": [
    {
     "data": {
      "text/plain": [
       "array([[<matplotlib.axes._subplots.AxesSubplot object at 0x105cf4710>]], dtype=object)"
      ]
     },
     "execution_count": 7,
     "metadata": {},
     "output_type": "execute_result"
    },
    {
     "data": {
      "image/png": "[encoded data removed]",
      "text/plain": [
       "<matplotlib.figure.Figure at 0x10703e828>"
      ]
     },
     "metadata": {},
     "output_type": "display_data"
    }
   ],
   "source": [
    "mpg_data.hist(column='horsepower',    # Column to plot\n",
    "                   figsize=(9,6),   # Plot size\n",
    "                   bins=20)         # Number of histogram bins"
   ]
  },
  {
   "cell_type": "code",
   "execution_count": 8,
   "metadata": {},
   "outputs": [
    {
     "data": {
      "text/plain": [
       "count    398.000000\n",
       "mean     104.462312\n",
       "std       38.199230\n",
       "min       46.000000\n",
       "25%       76.000000\n",
       "50%       95.000000\n",
       "75%      125.000000\n",
       "max      230.000000\n",
       "Name: horsepower, dtype: float64"
      ]
     },
     "execution_count": 8,
     "metadata": {},
     "output_type": "execute_result"
    }
   ],
   "source": [
    "new_horsepower_var = np.where(mpg_data[\"horsepower\"].isnull(), # Logical check\n",
    "                       104,                       # Value if check is true\n",
    "                       mpg_data[\"horsepower\"])     # Value if check is false\n",
    "\n",
    "mpg_data[\"horsepower\"] = new_horsepower_var \n",
    "\n",
    "mpg_data[\"horsepower\"].describe()"
   ]
  },
  {
   "cell_type": "code",
   "execution_count": 9,
   "metadata": {},
   "outputs": [
    {
     "data": {
      "text/plain": [
       "array([[<matplotlib.axes._subplots.AxesSubplot object at 0x10703efd0>]], dtype=object)"
      ]
     },
     "execution_count": 9,
     "metadata": {},
     "output_type": "execute_result"
    },
    {
     "data": {
      "image/png": "[encoded data removed]",
      "text/plain": [
       "<matplotlib.figure.Figure at 0x10fd9f048>"
      ]
     },
     "metadata": {},
     "output_type": "display_data"
    }
   ],
   "source": [
    "mpg_data.hist(column='horsepower',    # Column to plot\n",
    "                   figsize=(9,6),   # Plot size\n",
    "                   bins=20)         # Number of histogram bins"
   ]
  },
  {
   "cell_type": "markdown",
   "metadata": {},
   "source": [
    "Pandas provides a convenient one-line method corr() for calculating correlation between data frame columns. In our fuel efficiency example, we can check whether heavier vehicles tend to have lower mpg by passing the method to specific columns:"
   ]
  },
  {
   "cell_type": "code",
   "execution_count": 16,
   "metadata": {},
   "outputs": [
    {
     "data": {
      "text/plain": [
       "-0.83174093324433507"
      ]
     },
     "execution_count": 16,
     "metadata": {},
     "output_type": "execute_result"
    }
   ],
   "source": [
    "mpg_data['mpg'].corr(mpg_data['weight'])"
   ]
  },
  {
   "cell_type": "markdown",
   "metadata": {},
   "source": [
    "As expected, there seems to be a strong negative correlation between vehicle weight and mpg. But what about horsepower or displacement? "
   ]
  },
  {
   "cell_type": "markdown",
   "metadata": {},
   "source": [
    "# Task 1: Test with other variables: 'cylinders', 'displacement','horsepower', 'acceleration', 'model_year' and 'origin'."
   ]
  },
  {
   "cell_type": "code",
   "execution_count": 18,
   "metadata": {
    "scrolled": true
   },
   "outputs": [
    {
     "data": {
      "text/plain": [
       "-0.77539628542055428"
      ]
     },
     "execution_count": 18,
     "metadata": {},
     "output_type": "execute_result"
    }
   ],
   "source": [
    "mpg_data['mpg'].corr(mpg_data['cylinders'])"
   ]
  },
  {
   "cell_type": "code",
   "execution_count": 19,
   "metadata": {},
   "outputs": [
    {
     "data": {
      "text/plain": [
       "-0.80420282480589789"
      ]
     },
     "execution_count": 19,
     "metadata": {},
     "output_type": "execute_result"
    }
   ],
   "source": [
    "mpg_data['mpg'].corr(mpg_data['displacement'])"
   ]
  },
  {
   "cell_type": "code",
   "execution_count": 20,
   "metadata": {
    "scrolled": true
   },
   "outputs": [
    {
     "data": {
      "text/plain": [
       "-0.77154284371900161"
      ]
     },
     "execution_count": 20,
     "metadata": {},
     "output_type": "execute_result"
    }
   ],
   "source": [
    "mpg_data['mpg'].corr(mpg_data['horsepower'])"
   ]
  },
  {
   "cell_type": "code",
   "execution_count": 21,
   "metadata": {
    "scrolled": true
   },
   "outputs": [
    {
     "data": {
      "text/plain": [
       "0.42028891210165065"
      ]
     },
     "execution_count": 21,
     "metadata": {},
     "output_type": "execute_result"
    }
   ],
   "source": [
    "mpg_data['mpg'].corr(mpg_data['acceleration'])"
   ]
  },
  {
   "cell_type": "code",
   "execution_count": 22,
   "metadata": {},
   "outputs": [
    {
     "data": {
      "text/plain": [
       "0.57926713308330968"
      ]
     },
     "execution_count": 22,
     "metadata": {},
     "output_type": "execute_result"
    }
   ],
   "source": [
    "mpg_data['mpg'].corr(mpg_data['model_year'])"
   ]
  },
  {
   "cell_type": "code",
   "execution_count": 23,
   "metadata": {},
   "outputs": [
    {
     "data": {
      "text/plain": [
       "0.56345035977384295"
      ]
     },
     "execution_count": 23,
     "metadata": {},
     "output_type": "execute_result"
    }
   ],
   "source": [
    "mpg_data['mpg'].corr(mpg_data['origin'])"
   ]
  },
  {
   "cell_type": "markdown",
   "metadata": {},
   "source": [
    "Conveniently, pandas can quickly calculate correlation between all columns in a dataframe. The user can also specify the correlation method: Spearman or Pearson. If no method is specified, Pearson is used by default. Here, we drop \"model year\" and \"origin\" variables and calculate Pearson correlation between all remaining columns of the data frame:"
   ]
  },
  {
   "cell_type": "code",
   "execution_count": 26,
   "metadata": {},
   "outputs": [
    {
     "data": {
      "text/html": [
       "<div>\n",
       "<style>\n",
       "    .dataframe thead tr:only-child th {\n",
       "        text-align: right;\n",
       "    }\n",
       "\n",
       "    .dataframe thead th {\n",
       "        text-align: left;\n",
       "    }\n",
       "\n",
       "    .dataframe tbody tr th {\n",
       "        vertical-align: top;\n",
       "    }\n",
       "</style>\n",
       "<table border=\"1\" class=\"dataframe\">\n",
       "  <thead>\n",
       "    <tr style=\"text-align: right;\">\n",
       "      <th></th>\n",
       "      <th>mpg</th>\n",
       "      <th>cylinders</th>\n",
       "      <th>displacement</th>\n",
       "      <th>horsepower</th>\n",
       "      <th>weight</th>\n",
       "      <th>acceleration</th>\n",
       "      <th>model_year</th>\n",
       "      <th>origin</th>\n",
       "    </tr>\n",
       "  </thead>\n",
       "  <tbody>\n",
       "    <tr>\n",
       "      <th>mpg</th>\n",
       "      <td>1.000000</td>\n",
       "      <td>-0.821864</td>\n",
       "      <td>-0.855692</td>\n",
       "      <td>-0.843180</td>\n",
       "      <td>-0.874947</td>\n",
       "      <td>0.438677</td>\n",
       "      <td>0.573469</td>\n",
       "      <td>0.580694</td>\n",
       "    </tr>\n",
       "    <tr>\n",
       "      <th>cylinders</th>\n",
       "      <td>-0.821864</td>\n",
       "      <td>1.000000</td>\n",
       "      <td>0.911876</td>\n",
       "      <td>0.808620</td>\n",
       "      <td>0.873314</td>\n",
       "      <td>-0.474189</td>\n",
       "      <td>-0.335012</td>\n",
       "      <td>-0.604550</td>\n",
       "    </tr>\n",
       "    <tr>\n",
       "      <th>displacement</th>\n",
       "      <td>-0.855692</td>\n",
       "      <td>0.911876</td>\n",
       "      <td>1.000000</td>\n",
       "      <td>0.866670</td>\n",
       "      <td>0.945986</td>\n",
       "      <td>-0.496512</td>\n",
       "      <td>-0.305257</td>\n",
       "      <td>-0.707197</td>\n",
       "    </tr>\n",
       "    <tr>\n",
       "      <th>horsepower</th>\n",
       "      <td>-0.843180</td>\n",
       "      <td>0.808620</td>\n",
       "      <td>0.866670</td>\n",
       "      <td>1.000000</td>\n",
       "      <td>0.868659</td>\n",
       "      <td>-0.647557</td>\n",
       "      <td>-0.380086</td>\n",
       "      <td>-0.507356</td>\n",
       "    </tr>\n",
       "    <tr>\n",
       "      <th>weight</th>\n",
       "      <td>-0.874947</td>\n",
       "      <td>0.873314</td>\n",
       "      <td>0.945986</td>\n",
       "      <td>0.868659</td>\n",
       "      <td>1.000000</td>\n",
       "      <td>-0.404550</td>\n",
       "      <td>-0.277015</td>\n",
       "      <td>-0.628434</td>\n",
       "    </tr>\n",
       "    <tr>\n",
       "      <th>acceleration</th>\n",
       "      <td>0.438677</td>\n",
       "      <td>-0.474189</td>\n",
       "      <td>-0.496512</td>\n",
       "      <td>-0.647557</td>\n",
       "      <td>-0.404550</td>\n",
       "      <td>1.000000</td>\n",
       "      <td>0.274632</td>\n",
       "      <td>0.220574</td>\n",
       "    </tr>\n",
       "    <tr>\n",
       "      <th>model_year</th>\n",
       "      <td>0.573469</td>\n",
       "      <td>-0.335012</td>\n",
       "      <td>-0.305257</td>\n",
       "      <td>-0.380086</td>\n",
       "      <td>-0.277015</td>\n",
       "      <td>0.274632</td>\n",
       "      <td>1.000000</td>\n",
       "      <td>0.166551</td>\n",
       "    </tr>\n",
       "    <tr>\n",
       "      <th>origin</th>\n",
       "      <td>0.580694</td>\n",
       "      <td>-0.604550</td>\n",
       "      <td>-0.707197</td>\n",
       "      <td>-0.507356</td>\n",
       "      <td>-0.628434</td>\n",
       "      <td>0.220574</td>\n",
       "      <td>0.166551</td>\n",
       "      <td>1.000000</td>\n",
       "    </tr>\n",
       "  </tbody>\n",
       "</table>\n",
       "</div>"
      ],
      "text/plain": [
       "                   mpg  cylinders  displacement  horsepower    weight  \\\n",
       "mpg           1.000000  -0.821864     -0.855692   -0.843180 -0.874947   \n",
       "cylinders    -0.821864   1.000000      0.911876    0.808620  0.873314   \n",
       "displacement -0.855692   0.911876      1.000000    0.866670  0.945986   \n",
       "horsepower   -0.843180   0.808620      0.866670    1.000000  0.868659   \n",
       "weight       -0.874947   0.873314      0.945986    0.868659  1.000000   \n",
       "acceleration  0.438677  -0.474189     -0.496512   -0.647557 -0.404550   \n",
       "model_year    0.573469  -0.335012     -0.305257   -0.380086 -0.277015   \n",
       "origin        0.580694  -0.604550     -0.707197   -0.507356 -0.628434   \n",
       "\n",
       "              acceleration  model_year    origin  \n",
       "mpg               0.438677    0.573469  0.580694  \n",
       "cylinders        -0.474189   -0.335012 -0.604550  \n",
       "displacement     -0.496512   -0.305257 -0.707197  \n",
       "horsepower       -0.647557   -0.380086 -0.507356  \n",
       "weight           -0.404550   -0.277015 -0.628434  \n",
       "acceleration      1.000000    0.274632  0.220574  \n",
       "model_year        0.274632    1.000000  0.166551  \n",
       "origin            0.220574    0.166551  1.000000  "
      ]
     },
     "execution_count": 26,
     "metadata": {},
     "output_type": "execute_result"
    }
   ],
   "source": [
    "mpg_data.corr(method='spearman')"
   ]
  },
  {
   "cell_type": "code",
   "execution_count": 11,
   "metadata": {
    "scrolled": false
   },
   "outputs": [
    {
     "data": {
      "text/html": [
       "<div>\n",
       "<style>\n",
       "    .dataframe thead tr:only-child th {\n",
       "        text-align: right;\n",
       "    }\n",
       "\n",
       "    .dataframe thead th {\n",
       "        text-align: left;\n",
       "    }\n",
       "\n",
       "    .dataframe tbody tr th {\n",
       "        vertical-align: top;\n",
       "    }\n",
       "</style>\n",
       "<table border=\"1\" class=\"dataframe\">\n",
       "  <thead>\n",
       "    <tr style=\"text-align: right;\">\n",
       "      <th></th>\n",
       "      <th>mpg</th>\n",
       "      <th>cylinders</th>\n",
       "      <th>displacement</th>\n",
       "      <th>horsepower</th>\n",
       "      <th>weight</th>\n",
       "      <th>acceleration</th>\n",
       "    </tr>\n",
       "  </thead>\n",
       "  <tbody>\n",
       "    <tr>\n",
       "      <th>mpg</th>\n",
       "      <td>1.000000</td>\n",
       "      <td>-0.821864</td>\n",
       "      <td>-0.855692</td>\n",
       "      <td>-0.843180</td>\n",
       "      <td>-0.874947</td>\n",
       "      <td>0.438677</td>\n",
       "    </tr>\n",
       "    <tr>\n",
       "      <th>cylinders</th>\n",
       "      <td>-0.821864</td>\n",
       "      <td>1.000000</td>\n",
       "      <td>0.911876</td>\n",
       "      <td>0.808620</td>\n",
       "      <td>0.873314</td>\n",
       "      <td>-0.474189</td>\n",
       "    </tr>\n",
       "    <tr>\n",
       "      <th>displacement</th>\n",
       "      <td>-0.855692</td>\n",
       "      <td>0.911876</td>\n",
       "      <td>1.000000</td>\n",
       "      <td>0.866670</td>\n",
       "      <td>0.945986</td>\n",
       "      <td>-0.496512</td>\n",
       "    </tr>\n",
       "    <tr>\n",
       "      <th>horsepower</th>\n",
       "      <td>-0.843180</td>\n",
       "      <td>0.808620</td>\n",
       "      <td>0.866670</td>\n",
       "      <td>1.000000</td>\n",
       "      <td>0.868659</td>\n",
       "      <td>-0.647557</td>\n",
       "    </tr>\n",
       "    <tr>\n",
       "      <th>weight</th>\n",
       "      <td>-0.874947</td>\n",
       "      <td>0.873314</td>\n",
       "      <td>0.945986</td>\n",
       "      <td>0.868659</td>\n",
       "      <td>1.000000</td>\n",
       "      <td>-0.404550</td>\n",
       "    </tr>\n",
       "    <tr>\n",
       "      <th>acceleration</th>\n",
       "      <td>0.438677</td>\n",
       "      <td>-0.474189</td>\n",
       "      <td>-0.496512</td>\n",
       "      <td>-0.647557</td>\n",
       "      <td>-0.404550</td>\n",
       "      <td>1.000000</td>\n",
       "    </tr>\n",
       "  </tbody>\n",
       "</table>\n",
       "</div>"
      ],
      "text/plain": [
       "                   mpg  cylinders  displacement  horsepower    weight  \\\n",
       "mpg           1.000000  -0.821864     -0.855692   -0.843180 -0.874947   \n",
       "cylinders    -0.821864   1.000000      0.911876    0.808620  0.873314   \n",
       "displacement -0.855692   0.911876      1.000000    0.866670  0.945986   \n",
       "horsepower   -0.843180   0.808620      0.866670    1.000000  0.868659   \n",
       "weight       -0.874947   0.873314      0.945986    0.868659  1.000000   \n",
       "acceleration  0.438677  -0.474189     -0.496512   -0.647557 -0.404550   \n",
       "\n",
       "              acceleration  \n",
       "mpg               0.438677  \n",
       "cylinders        -0.474189  \n",
       "displacement     -0.496512  \n",
       "horsepower       -0.647557  \n",
       "weight           -0.404550  \n",
       "acceleration      1.000000  "
      ]
     },
     "execution_count": 11,
     "metadata": {},
     "output_type": "execute_result"
    }
   ],
   "source": [
    "# pairwise correlation \n",
    "mpg_data.drop(['model_year', 'origin'], axis=1).corr(method='spearman') # axis=1 , excluding rows for each column moredl year and origin"
   ]
  },
  {
   "cell_type": "markdown",
   "metadata": {},
   "source": [
    "#### as a rule, if correlation is 0.9 (too high), this is a case of multicollinear (two values predict the same behvior) and you must drop one of them, to select the most useful variable for your model"
   ]
  },
  {
   "cell_type": "markdown",
   "metadata": {},
   "source": [
    "Pandas also supports highlighting methods for tables, so it is easier to see high and low correlations. It is important to understand possible correlations in your data, especially when building a regression model. Strongly correlated predictors, phenomenon referred to as multicollinearity, will cause coefficient estimates to be less reliable. Below is an example of calculating Pearson correlation on our data and using a color gradient to format the resulting table:"
   ]
  },
  {
   "cell_type": "markdown",
   "metadata": {},
   "source": [
    "Code below: \n",
    "\n",
    "    ^style.format(\"{:.2}\"): set decimal format\n",
    "    ^.background_gradient(cmap=plt.get_cmap('coolwarm'), axis=1) : apply color gradient to your chart"
   ]
  },
  {
   "cell_type": "code",
   "execution_count": 39,
   "metadata": {},
   "outputs": [
    {
     "data": {
      "text/html": [
       "<style  type=\"text/css\" >\n",
       "    #T_51748be4_c863_11e7_b9d1_c4b3018be53crow0_col0 {\n",
       "            background-color:  #b40426;\n",
       "        }    #T_51748be4_c863_11e7_b9d1_c4b3018be53crow0_col1 {\n",
       "            background-color:  #4358cb;\n",
       "        }    #T_51748be4_c863_11e7_b9d1_c4b3018be53crow0_col2 {\n",
       "            background-color:  #3e51c5;\n",
       "        }    #T_51748be4_c863_11e7_b9d1_c4b3018be53crow0_col3 {\n",
       "            background-color:  #445acc;\n",
       "        }    #T_51748be4_c863_11e7_b9d1_c4b3018be53crow0_col4 {\n",
       "            background-color:  #3b4cc0;\n",
       "        }    #T_51748be4_c863_11e7_b9d1_c4b3018be53crow0_col5 {\n",
       "            background-color:  #f7b396;\n",
       "        }    #T_51748be4_c863_11e7_b9d1_c4b3018be53crow1_col0 {\n",
       "            background-color:  #3b4cc0;\n",
       "        }    #T_51748be4_c863_11e7_b9d1_c4b3018be53crow1_col1 {\n",
       "            background-color:  #b40426;\n",
       "        }    #T_51748be4_c863_11e7_b9d1_c4b3018be53crow1_col2 {\n",
       "            background-color:  #be242e;\n",
       "        }    #T_51748be4_c863_11e7_b9d1_c4b3018be53crow1_col3 {\n",
       "            background-color:  #d44e41;\n",
       "        }    #T_51748be4_c863_11e7_b9d1_c4b3018be53crow1_col4 {\n",
       "            background-color:  #c83836;\n",
       "        }    #T_51748be4_c863_11e7_b9d1_c4b3018be53crow1_col5 {\n",
       "            background-color:  #6a8bef;\n",
       "        }    #T_51748be4_c863_11e7_b9d1_c4b3018be53crow2_col0 {\n",
       "            background-color:  #3b4cc0;\n",
       "        }    #T_51748be4_c863_11e7_b9d1_c4b3018be53crow2_col1 {\n",
       "            background-color:  #bd1f2d;\n",
       "        }    #T_51748be4_c863_11e7_b9d1_c4b3018be53crow2_col2 {\n",
       "            background-color:  #b40426;\n",
       "        }    #T_51748be4_c863_11e7_b9d1_c4b3018be53crow2_col3 {\n",
       "            background-color:  #ca3b37;\n",
       "        }    #T_51748be4_c863_11e7_b9d1_c4b3018be53crow2_col4 {\n",
       "            background-color:  #c12b30;\n",
       "        }    #T_51748be4_c863_11e7_b9d1_c4b3018be53crow2_col5 {\n",
       "            background-color:  #6788ee;\n",
       "        }    #T_51748be4_c863_11e7_b9d1_c4b3018be53crow3_col0 {\n",
       "            background-color:  #3b4cc0;\n",
       "        }    #T_51748be4_c863_11e7_b9d1_c4b3018be53crow3_col1 {\n",
       "            background-color:  #d44e41;\n",
       "        }    #T_51748be4_c863_11e7_b9d1_c4b3018be53crow3_col2 {\n",
       "            background-color:  #ca3b37;\n",
       "        }    #T_51748be4_c863_11e7_b9d1_c4b3018be53crow3_col3 {\n",
       "            background-color:  #b40426;\n",
       "        }    #T_51748be4_c863_11e7_b9d1_c4b3018be53crow3_col4 {\n",
       "            background-color:  #d0473d;\n",
       "        }    #T_51748be4_c863_11e7_b9d1_c4b3018be53crow3_col5 {\n",
       "            background-color:  #4961d2;\n",
       "        }    #T_51748be4_c863_11e7_b9d1_c4b3018be53crow4_col0 {\n",
       "            background-color:  #3b4cc0;\n",
       "        }    #T_51748be4_c863_11e7_b9d1_c4b3018be53crow4_col1 {\n",
       "            background-color:  #c83836;\n",
       "        }    #T_51748be4_c863_11e7_b9d1_c4b3018be53crow4_col2 {\n",
       "            background-color:  #c12b30;\n",
       "        }    #T_51748be4_c863_11e7_b9d1_c4b3018be53crow4_col3 {\n",
       "            background-color:  #cf453c;\n",
       "        }    #T_51748be4_c863_11e7_b9d1_c4b3018be53crow4_col4 {\n",
       "            background-color:  #b40426;\n",
       "        }    #T_51748be4_c863_11e7_b9d1_c4b3018be53crow4_col5 {\n",
       "            background-color:  #84a7fc;\n",
       "        }    #T_51748be4_c863_11e7_b9d1_c4b3018be53crow5_col0 {\n",
       "            background-color:  #f7bca1;\n",
       "        }    #T_51748be4_c863_11e7_b9d1_c4b3018be53crow5_col1 {\n",
       "            background-color:  #5b7ae5;\n",
       "        }    #T_51748be4_c863_11e7_b9d1_c4b3018be53crow5_col2 {\n",
       "            background-color:  #5470de;\n",
       "        }    #T_51748be4_c863_11e7_b9d1_c4b3018be53crow5_col3 {\n",
       "            background-color:  #3b4cc0;\n",
       "        }    #T_51748be4_c863_11e7_b9d1_c4b3018be53crow5_col4 {\n",
       "            background-color:  #6c8ff1;\n",
       "        }    #T_51748be4_c863_11e7_b9d1_c4b3018be53crow5_col5 {\n",
       "            background-color:  #b40426;\n",
       "        }</style>  \n",
       "<table id=\"T_51748be4_c863_11e7_b9d1_c4b3018be53c\" > \n",
       "<thead>    <tr> \n",
       "        <th class=\"blank level0\" ></th> \n",
       "        <th class=\"col_heading level0 col0\" >mpg</th> \n",
       "        <th class=\"col_heading level0 col1\" >cylinders</th> \n",
       "        <th class=\"col_heading level0 col2\" >displacement</th> \n",
       "        <th class=\"col_heading level0 col3\" >horsepower</th> \n",
       "        <th class=\"col_heading level0 col4\" >weight</th> \n",
       "        <th class=\"col_heading level0 col5\" >acceleration</th> \n",
       "    </tr></thead> \n",
       "<tbody>    <tr> \n",
       "        <th id=\"T_51748be4_c863_11e7_b9d1_c4b3018be53c\" class=\"row_heading level0 row0\" >mpg</th> \n",
       "        <td id=\"T_51748be4_c863_11e7_b9d1_c4b3018be53crow0_col0\" class=\"data row0 col0\" >1.0</td> \n",
       "        <td id=\"T_51748be4_c863_11e7_b9d1_c4b3018be53crow0_col1\" class=\"data row0 col1\" >-0.78</td> \n",
       "        <td id=\"T_51748be4_c863_11e7_b9d1_c4b3018be53crow0_col2\" class=\"data row0 col2\" >-0.8</td> \n",
       "        <td id=\"T_51748be4_c863_11e7_b9d1_c4b3018be53crow0_col3\" class=\"data row0 col3\" >-0.77</td> \n",
       "        <td id=\"T_51748be4_c863_11e7_b9d1_c4b3018be53crow0_col4\" class=\"data row0 col4\" >-0.83</td> \n",
       "        <td id=\"T_51748be4_c863_11e7_b9d1_c4b3018be53crow0_col5\" class=\"data row0 col5\" >0.42</td> \n",
       "    </tr>    <tr> \n",
       "        <th id=\"T_51748be4_c863_11e7_b9d1_c4b3018be53c\" class=\"row_heading level0 row1\" >cylinders</th> \n",
       "        <td id=\"T_51748be4_c863_11e7_b9d1_c4b3018be53crow1_col0\" class=\"data row1 col0\" >-0.78</td> \n",
       "        <td id=\"T_51748be4_c863_11e7_b9d1_c4b3018be53crow1_col1\" class=\"data row1 col1\" >1.0</td> \n",
       "        <td id=\"T_51748be4_c863_11e7_b9d1_c4b3018be53crow1_col2\" class=\"data row1 col2\" >0.95</td> \n",
       "        <td id=\"T_51748be4_c863_11e7_b9d1_c4b3018be53crow1_col3\" class=\"data row1 col3\" >0.84</td> \n",
       "        <td id=\"T_51748be4_c863_11e7_b9d1_c4b3018be53crow1_col4\" class=\"data row1 col4\" >0.9</td> \n",
       "        <td id=\"T_51748be4_c863_11e7_b9d1_c4b3018be53crow1_col5\" class=\"data row1 col5\" >-0.51</td> \n",
       "    </tr>    <tr> \n",
       "        <th id=\"T_51748be4_c863_11e7_b9d1_c4b3018be53c\" class=\"row_heading level0 row2\" >displacement</th> \n",
       "        <td id=\"T_51748be4_c863_11e7_b9d1_c4b3018be53crow2_col0\" class=\"data row2 col0\" >-0.8</td> \n",
       "        <td id=\"T_51748be4_c863_11e7_b9d1_c4b3018be53crow2_col1\" class=\"data row2 col1\" >0.95</td> \n",
       "        <td id=\"T_51748be4_c863_11e7_b9d1_c4b3018be53crow2_col2\" class=\"data row2 col2\" >1.0</td> \n",
       "        <td id=\"T_51748be4_c863_11e7_b9d1_c4b3018be53crow2_col3\" class=\"data row2 col3\" >0.89</td> \n",
       "        <td id=\"T_51748be4_c863_11e7_b9d1_c4b3018be53crow2_col4\" class=\"data row2 col4\" >0.93</td> \n",
       "        <td id=\"T_51748be4_c863_11e7_b9d1_c4b3018be53crow2_col5\" class=\"data row2 col5\" >-0.54</td> \n",
       "    </tr>    <tr> \n",
       "        <th id=\"T_51748be4_c863_11e7_b9d1_c4b3018be53c\" class=\"row_heading level0 row3\" >horsepower</th> \n",
       "        <td id=\"T_51748be4_c863_11e7_b9d1_c4b3018be53crow3_col0\" class=\"data row3 col0\" >-0.77</td> \n",
       "        <td id=\"T_51748be4_c863_11e7_b9d1_c4b3018be53crow3_col1\" class=\"data row3 col1\" >0.84</td> \n",
       "        <td id=\"T_51748be4_c863_11e7_b9d1_c4b3018be53crow3_col2\" class=\"data row3 col2\" >0.89</td> \n",
       "        <td id=\"T_51748be4_c863_11e7_b9d1_c4b3018be53crow3_col3\" class=\"data row3 col3\" >1.0</td> \n",
       "        <td id=\"T_51748be4_c863_11e7_b9d1_c4b3018be53crow3_col4\" class=\"data row3 col4\" >0.86</td> \n",
       "        <td id=\"T_51748be4_c863_11e7_b9d1_c4b3018be53crow3_col5\" class=\"data row3 col5\" >-0.68</td> \n",
       "    </tr>    <tr> \n",
       "        <th id=\"T_51748be4_c863_11e7_b9d1_c4b3018be53c\" class=\"row_heading level0 row4\" >weight</th> \n",
       "        <td id=\"T_51748be4_c863_11e7_b9d1_c4b3018be53crow4_col0\" class=\"data row4 col0\" >-0.83</td> \n",
       "        <td id=\"T_51748be4_c863_11e7_b9d1_c4b3018be53crow4_col1\" class=\"data row4 col1\" >0.9</td> \n",
       "        <td id=\"T_51748be4_c863_11e7_b9d1_c4b3018be53crow4_col2\" class=\"data row4 col2\" >0.93</td> \n",
       "        <td id=\"T_51748be4_c863_11e7_b9d1_c4b3018be53crow4_col3\" class=\"data row4 col3\" >0.86</td> \n",
       "        <td id=\"T_51748be4_c863_11e7_b9d1_c4b3018be53crow4_col4\" class=\"data row4 col4\" >1.0</td> \n",
       "        <td id=\"T_51748be4_c863_11e7_b9d1_c4b3018be53crow4_col5\" class=\"data row4 col5\" >-0.42</td> \n",
       "    </tr>    <tr> \n",
       "        <th id=\"T_51748be4_c863_11e7_b9d1_c4b3018be53c\" class=\"row_heading level0 row5\" >acceleration</th> \n",
       "        <td id=\"T_51748be4_c863_11e7_b9d1_c4b3018be53crow5_col0\" class=\"data row5 col0\" >0.42</td> \n",
       "        <td id=\"T_51748be4_c863_11e7_b9d1_c4b3018be53crow5_col1\" class=\"data row5 col1\" >-0.51</td> \n",
       "        <td id=\"T_51748be4_c863_11e7_b9d1_c4b3018be53crow5_col2\" class=\"data row5 col2\" >-0.54</td> \n",
       "        <td id=\"T_51748be4_c863_11e7_b9d1_c4b3018be53crow5_col3\" class=\"data row5 col3\" >-0.68</td> \n",
       "        <td id=\"T_51748be4_c863_11e7_b9d1_c4b3018be53crow5_col4\" class=\"data row5 col4\" >-0.42</td> \n",
       "        <td id=\"T_51748be4_c863_11e7_b9d1_c4b3018be53crow5_col5\" class=\"data row5 col5\" >1.0</td> \n",
       "    </tr></tbody> \n",
       "</table> "
      ],
      "text/plain": [
       "<pandas.io.formats.style.Styler at 0x1163205f8>"
      ]
     },
     "execution_count": 39,
     "metadata": {},
     "output_type": "execute_result"
    }
   ],
   "source": [
    "mpg_data.drop(['model_year', 'origin'], axis=1).corr(method='pearson').style.format(\"{:.2}\").background_gradient(cmap=plt.get_cmap('coolwarm'), axis=1)"
   ]
  },
  {
   "cell_type": "code",
   "execution_count": 40,
   "metadata": {
    "collapsed": true
   },
   "outputs": [],
   "source": [
    "## cells in blue have strong correlation, while those in red are (too high correlation start at 0.86 +) and these we should ignore "
   ]
  },
  {
   "cell_type": "markdown",
   "metadata": {},
   "source": [
    "Finally, we can plott a diagonal correlation matrix:"
   ]
  },
  {
   "cell_type": "code",
   "execution_count": 13,
   "metadata": {
    "collapsed": true
   },
   "outputs": [],
   "source": [
    "import seaborn as sns"
   ]
  },
  {
   "cell_type": "code",
   "execution_count": 14,
   "metadata": {
    "scrolled": true
   },
   "outputs": [
    {
     "data": {
      "text/plain": [
       "<matplotlib.axes._subplots.AxesSubplot at 0x115d54208>"
      ]
     },
     "execution_count": 14,
     "metadata": {},
     "output_type": "execute_result"
    },
    {
     "data": {
      "image/png": "[encoded data removed]",
      "text/plain": [
       "<matplotlib.figure.Figure at 0x115bf6668>"
      ]
     },
     "metadata": {},
     "output_type": "display_data"
    }
   ],
   "source": [
    "# Compute the correlation matrix\n",
    "\n",
    "corr = mpg_data.drop(['model_year', 'origin'], axis=1).corr(method='pearson')\n",
    "\n",
    "# Generate a mask for the upper triangle\n",
    "mask = np.zeros_like(corr, dtype=np.bool)\n",
    "mask[np.triu_indices_from(mask)] = True\n",
    "\n",
    "# Set up the matplotlib figure\n",
    "f, ax = plt.subplots(figsize=(11, 9))\n",
    "\n",
    "# Generate a custom diverging colormap\n",
    "cmap = sns.diverging_palette(220, 10, as_cmap=True)\n",
    "\n",
    "# Draw the heatmap with the mask and correct aspect ratio\n",
    "sns.heatmap(corr, mask=mask, cmap=cmap, vmax=.3, center=0,\n",
    "            square=True, linewidths=.5, cbar_kws={\"shrink\": .5})"
   ]
  },
  {
   "cell_type": "markdown",
   "metadata": {},
   "source": [
    "# Conclusion: "
   ]
  },
  {
   "cell_type": "markdown",
   "metadata": {},
   "source": [
    "## Correlation and Causation\n",
    "\n",
    "The relationships between variables in our fuel efficiency example were very intuitive and explainable through vehicle mechanics. However, things are not always this straightforward. It is a well known fact that correlation does not imply causation, and therefore, any strong correlation should be thought of critically. "
   ]
  }
 ],
 "metadata": {
  "kernelspec": {
   "display_name": "Python 3",
   "language": "python",
   "name": "python3"
  },
  "language_info": {
   "codemirror_mode": {
    "name": "ipython",
    "version": 3
   },
   "file_extension": ".py",
   "mimetype": "text/x-python",
   "name": "python",
   "nbconvert_exporter": "python",
   "pygments_lexer": "ipython3",
   "version": "3.6.3"
  }
 },
 "nbformat": 4,
 "nbformat_minor": 2
}
