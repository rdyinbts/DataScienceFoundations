{
 "cells": [
  {
   "cell_type": "code",
   "execution_count": 1,
   "metadata": {
    "collapsed": true
   },
   "outputs": [],
   "source": [
    "# General:\n",
    "import tweepy           # To consume Twitter's API\n",
    "import pandas as pd     # To handle data\n",
    "import numpy as np      # For number computing\n",
    "\n",
    "# For plotting and visualization:\n",
    "from IPython.display import display\n",
    "import matplotlib.pyplot as plt\n",
    "import seaborn as sns\n",
    "%matplotlib inline"
   ]
  },
  {
   "cell_type": "code",
   "execution_count": 2,
   "metadata": {
    "collapsed": true
   },
   "outputs": [],
   "source": [
    "# Twitter App access keys for @user\n",
    "\n",
    "# Consume:\n",
    "CONSUMER_KEY    = 'bWJ0J3sV2M1yplR5NgRjraUSg'\n",
    "CONSUMER_SECRET = 'GGBuy7N0ncLpwieEU3JFVHn2KmIbbbADu04PHlxnvQ0gGtm36Z'\n",
    "\n",
    "# Access:\n",
    "ACCESS_TOKEN  = '709071172839714818-Cs1Tiis4byNuib9GDcJUNWDLhCvSKJv'\n",
    "ACCESS_SECRET = 'lrEgfZJWZIGljD7E2nqmadfNIdj8DHO4QSc8hKtgWDXbD'"
   ]
  },
  {
   "cell_type": "code",
   "execution_count": 3,
   "metadata": {
    "collapsed": true
   },
   "outputs": [],
   "source": [
    "# API's setup:\n",
    "def twitter_setup():\n",
    "    \"\"\"\n",
    "    Utility function to setup the Twitter's API\n",
    "    with our access keys provided.\n",
    "    \"\"\"\n",
    "    # Authentication and access using keys:\n",
    "    auth = tweepy.OAuthHandler(CONSUMER_KEY, CONSUMER_SECRET) #authenticate giving our consumer keys\n",
    "    auth.set_access_token(ACCESS_TOKEN, ACCESS_SECRET) #give access token, can get data but has limit(7500?)\n",
    "\n",
    "    # Return API with authentication:\n",
    "    api = tweepy.API(auth)\n",
    "    return api"
   ]
  },
  {
   "cell_type": "markdown",
   "metadata": {},
   "source": [
    "## Exercise 1\n",
    "\n",
    "Consider the tweets published in your own timeline (http://tweepy.readthedocs.io/en/v3.5.0/getting_started.html#hello-tweepy) and analyze their sentiments. This will help you capture with what content you get in touch with. Is it more positive-, neutral-, or negative-oriented?"
   ]
  },
  {
   "cell_type": "code",
   "execution_count": 4,
   "metadata": {},
   "outputs": [
    {
     "name": "stdout",
     "output_type": "stream",
     "text": [
      "racheldyap\n",
      "709071172839714818\n"
     ]
    }
   ],
   "source": [
    "extractor = twitter_setup()\n",
    "\n",
    "user = extractor.get_user('racheldyap')\n",
    "print(user.screen_name)\n",
    "print(user.id)"
   ]
  },
  {
   "cell_type": "code",
   "execution_count": 5,
   "metadata": {},
   "outputs": [
    {
     "name": "stdout",
     "output_type": "stream",
     "text": [
      "Saudis 'shoot down' Houthi missile close to capital https://t.co/tjpjM9Yj3R\n",
      "\n",
      "6 conspiracy theories people are convinced are true https://t.co/YlLA7CF706\n",
      "\n",
      "OVP taps 2 gov’t hospitals in MM #BeFullyInformed https://t.co/YLDwrMwxqO\n",
      "\n",
      "PHL among 5 most dangerous countries for journalists in 2017 —int’l media freedom group https://t.co/X5tTnCDWsf\n",
      "\n",
      "How can we keep lost loved ones alive in our mind? Your answers https://t.co/jijQb2ULTo\n",
      "\n",
      "Facebook said it would start demoting posts that exploit its algorithm by fishing for user engagement… https://t.co/oIgUynLfaS\n",
      "\n",
      "Anyone else as excited for #Oceans8? https://t.co/layR5k4ajS\n",
      "\n",
      "Adopt an olive tree and support local farmers and producers who keep time-honored, olive oil making methods alive.… https://t.co/9EvdORETYY\n",
      "\n"
     ]
    }
   ],
   "source": [
    "public_tweets = extractor.home_timeline('709071172839714818', count=300)\n",
    "\n",
    "for tweet in public_tweets[:8]:\n",
    "    print(tweet.text)\n",
    "    print()"
   ]
  },
  {
   "cell_type": "code",
   "execution_count": 6,
   "metadata": {},
   "outputs": [
    {
     "name": "stdout",
     "output_type": "stream",
     "text": [
      "['__class__', '__delattr__', '__dict__', '__dir__', '__doc__', '__eq__', '__format__', '__ge__', '__getattribute__', '__getstate__', '__gt__', '__hash__', '__init__', '__init_subclass__', '__le__', '__lt__', '__module__', '__ne__', '__new__', '__reduce__', '__reduce_ex__', '__repr__', '__setattr__', '__sizeof__', '__str__', '__subclasshook__', '__weakref__', '_api', '_json', 'author', 'contributors', 'coordinates', 'created_at', 'destroy', 'entities', 'favorite', 'favorite_count', 'favorited', 'geo', 'id', 'id_str', 'in_reply_to_screen_name', 'in_reply_to_status_id', 'in_reply_to_status_id_str', 'in_reply_to_user_id', 'in_reply_to_user_id_str', 'is_quote_status', 'lang', 'parse', 'parse_list', 'place', 'possibly_sensitive', 'possibly_sensitive_appealable', 'retweet', 'retweet_count', 'retweeted', 'retweets', 'source', 'source_url', 'text', 'truncated', 'user']\n"
     ]
    }
   ],
   "source": [
    "print(dir(public_tweets[0]))"
   ]
  },
  {
   "cell_type": "code",
   "execution_count": 7,
   "metadata": {},
   "outputs": [
    {
     "data": {
      "text/html": [
       "<div>\n",
       "<style scoped>\n",
       "    .dataframe tbody tr th:only-of-type {\n",
       "        vertical-align: middle;\n",
       "    }\n",
       "\n",
       "    .dataframe tbody tr th {\n",
       "        vertical-align: top;\n",
       "    }\n",
       "\n",
       "    .dataframe thead th {\n",
       "        text-align: right;\n",
       "    }\n",
       "</style>\n",
       "<table border=\"1\" class=\"dataframe\">\n",
       "  <thead>\n",
       "    <tr style=\"text-align: right;\">\n",
       "      <th></th>\n",
       "      <th>Tweets</th>\n",
       "    </tr>\n",
       "  </thead>\n",
       "  <tbody>\n",
       "    <tr>\n",
       "      <th>0</th>\n",
       "      <td>Saudis 'shoot down' Houthi missile close to ca...</td>\n",
       "    </tr>\n",
       "    <tr>\n",
       "      <th>1</th>\n",
       "      <td>6 conspiracy theories people are convinced are...</td>\n",
       "    </tr>\n",
       "    <tr>\n",
       "      <th>2</th>\n",
       "      <td>OVP taps 2 gov’t hospitals in MM #BeFullyInfor...</td>\n",
       "    </tr>\n",
       "    <tr>\n",
       "      <th>3</th>\n",
       "      <td>PHL among 5 most dangerous countries for journ...</td>\n",
       "    </tr>\n",
       "    <tr>\n",
       "      <th>4</th>\n",
       "      <td>How can we keep lost loved ones alive in our m...</td>\n",
       "    </tr>\n",
       "    <tr>\n",
       "      <th>5</th>\n",
       "      <td>Facebook said it would start demoting posts th...</td>\n",
       "    </tr>\n",
       "    <tr>\n",
       "      <th>6</th>\n",
       "      <td>Anyone else as excited for #Oceans8? https://t...</td>\n",
       "    </tr>\n",
       "    <tr>\n",
       "      <th>7</th>\n",
       "      <td>Adopt an olive tree and support local farmers ...</td>\n",
       "    </tr>\n",
       "    <tr>\n",
       "      <th>8</th>\n",
       "      <td>Climate change driving record snows in Alaskan...</td>\n",
       "    </tr>\n",
       "    <tr>\n",
       "      <th>9</th>\n",
       "      <td>The Amtrak train was going more than twice the...</td>\n",
       "    </tr>\n",
       "  </tbody>\n",
       "</table>\n",
       "</div>"
      ],
      "text/plain": [
       "                                              Tweets\n",
       "0  Saudis 'shoot down' Houthi missile close to ca...\n",
       "1  6 conspiracy theories people are convinced are...\n",
       "2  OVP taps 2 gov’t hospitals in MM #BeFullyInfor...\n",
       "3  PHL among 5 most dangerous countries for journ...\n",
       "4  How can we keep lost loved ones alive in our m...\n",
       "5  Facebook said it would start demoting posts th...\n",
       "6  Anyone else as excited for #Oceans8? https://t...\n",
       "7  Adopt an olive tree and support local farmers ...\n",
       "8  Climate change driving record snows in Alaskan...\n",
       "9  The Amtrak train was going more than twice the..."
      ]
     },
     "metadata": {},
     "output_type": "display_data"
    }
   ],
   "source": [
    "# We create a pandas dataframe as follows:\n",
    "data = pd.DataFrame(data=[tweet.text for tweet in public_tweets], columns=['Tweets'])\n",
    "\n",
    "# We display the first 10 elements of the dataframe:\n",
    "display(data.head(10))"
   ]
  },
  {
   "cell_type": "code",
   "execution_count": 8,
   "metadata": {},
   "outputs": [
    {
     "name": "stdout",
     "output_type": "stream",
     "text": [
      "http://www.socialflow.com\n",
      "None\n"
     ]
    }
   ],
   "source": [
    "print(public_tweets[4].source_url)\n",
    "print(public_tweets[4].geo)"
   ]
  },
  {
   "cell_type": "code",
   "execution_count": 9,
   "metadata": {
    "collapsed": true
   },
   "outputs": [],
   "source": [
    "data['len'] = np.array([len(tweet.text) for tweet in public_tweets])\n",
    "data['ID'] = np.array([tweet.id for tweet in public_tweets])\n",
    "data['Date'] = np.array([tweet.created_at for tweet in public_tweets])\n",
    "data['Source'] = np.array([tweet.source for tweet in public_tweets])\n",
    "data['Likes'] = np.array([tweet.favorite_count for tweet in public_tweets])\n",
    "data['RTs'] = np.array([tweet.retweet_count for tweet in public_tweets])"
   ]
  },
  {
   "cell_type": "code",
   "execution_count": 10,
   "metadata": {},
   "outputs": [
    {
     "data": {
      "text/html": [
       "<div>\n",
       "<style scoped>\n",
       "    .dataframe tbody tr th:only-of-type {\n",
       "        vertical-align: middle;\n",
       "    }\n",
       "\n",
       "    .dataframe tbody tr th {\n",
       "        vertical-align: top;\n",
       "    }\n",
       "\n",
       "    .dataframe thead th {\n",
       "        text-align: right;\n",
       "    }\n",
       "</style>\n",
       "<table border=\"1\" class=\"dataframe\">\n",
       "  <thead>\n",
       "    <tr style=\"text-align: right;\">\n",
       "      <th></th>\n",
       "      <th>Tweets</th>\n",
       "      <th>len</th>\n",
       "      <th>ID</th>\n",
       "      <th>Date</th>\n",
       "      <th>Source</th>\n",
       "      <th>Likes</th>\n",
       "      <th>RTs</th>\n",
       "    </tr>\n",
       "  </thead>\n",
       "  <tbody>\n",
       "    <tr>\n",
       "      <th>0</th>\n",
       "      <td>Saudis 'shoot down' Houthi missile close to ca...</td>\n",
       "      <td>75</td>\n",
       "      <td>943099005130690560</td>\n",
       "      <td>2017-12-19 12:41:39</td>\n",
       "      <td>SocialFlow</td>\n",
       "      <td>0</td>\n",
       "      <td>0</td>\n",
       "    </tr>\n",
       "    <tr>\n",
       "      <th>1</th>\n",
       "      <td>6 conspiracy theories people are convinced are...</td>\n",
       "      <td>75</td>\n",
       "      <td>943098907856424960</td>\n",
       "      <td>2017-12-19 12:41:16</td>\n",
       "      <td>TweetDeck</td>\n",
       "      <td>0</td>\n",
       "      <td>0</td>\n",
       "    </tr>\n",
       "    <tr>\n",
       "      <th>2</th>\n",
       "      <td>OVP taps 2 gov’t hospitals in MM #BeFullyInfor...</td>\n",
       "      <td>73</td>\n",
       "      <td>943098845021523973</td>\n",
       "      <td>2017-12-19 12:41:01</td>\n",
       "      <td>Sprout Social</td>\n",
       "      <td>0</td>\n",
       "      <td>0</td>\n",
       "    </tr>\n",
       "    <tr>\n",
       "      <th>3</th>\n",
       "      <td>PHL among 5 most dangerous countries for journ...</td>\n",
       "      <td>111</td>\n",
       "      <td>943098841397567488</td>\n",
       "      <td>2017-12-19 12:41:00</td>\n",
       "      <td>TweetDeck</td>\n",
       "      <td>2</td>\n",
       "      <td>0</td>\n",
       "    </tr>\n",
       "    <tr>\n",
       "      <th>4</th>\n",
       "      <td>How can we keep lost loved ones alive in our m...</td>\n",
       "      <td>87</td>\n",
       "      <td>943098669280256000</td>\n",
       "      <td>2017-12-19 12:40:19</td>\n",
       "      <td>SocialFlow</td>\n",
       "      <td>5</td>\n",
       "      <td>0</td>\n",
       "    </tr>\n",
       "    <tr>\n",
       "      <th>5</th>\n",
       "      <td>Facebook said it would start demoting posts th...</td>\n",
       "      <td>126</td>\n",
       "      <td>943098621016313856</td>\n",
       "      <td>2017-12-19 12:40:07</td>\n",
       "      <td>SocialFlow</td>\n",
       "      <td>23</td>\n",
       "      <td>20</td>\n",
       "    </tr>\n",
       "    <tr>\n",
       "      <th>6</th>\n",
       "      <td>Anyone else as excited for #Oceans8? https://t...</td>\n",
       "      <td>60</td>\n",
       "      <td>943098616310304768</td>\n",
       "      <td>2017-12-19 12:40:06</td>\n",
       "      <td>Twitter Web Client</td>\n",
       "      <td>1</td>\n",
       "      <td>0</td>\n",
       "    </tr>\n",
       "    <tr>\n",
       "      <th>7</th>\n",
       "      <td>Adopt an olive tree and support local farmers ...</td>\n",
       "      <td>139</td>\n",
       "      <td>943098610606133248</td>\n",
       "      <td>2017-12-19 12:40:05</td>\n",
       "      <td>Buffer</td>\n",
       "      <td>2</td>\n",
       "      <td>0</td>\n",
       "    </tr>\n",
       "    <tr>\n",
       "      <th>8</th>\n",
       "      <td>Climate change driving record snows in Alaskan...</td>\n",
       "      <td>111</td>\n",
       "      <td>943098609272270848</td>\n",
       "      <td>2017-12-19 12:40:05</td>\n",
       "      <td>trueAnthem</td>\n",
       "      <td>8</td>\n",
       "      <td>7</td>\n",
       "    </tr>\n",
       "    <tr>\n",
       "      <th>9</th>\n",
       "      <td>The Amtrak train was going more than twice the...</td>\n",
       "      <td>132</td>\n",
       "      <td>943098604583047168</td>\n",
       "      <td>2017-12-19 12:40:03</td>\n",
       "      <td>SocialFlow</td>\n",
       "      <td>15</td>\n",
       "      <td>15</td>\n",
       "    </tr>\n",
       "  </tbody>\n",
       "</table>\n",
       "</div>"
      ],
      "text/plain": [
       "                                              Tweets  len                  ID  \\\n",
       "0  Saudis 'shoot down' Houthi missile close to ca...   75  943099005130690560   \n",
       "1  6 conspiracy theories people are convinced are...   75  943098907856424960   \n",
       "2  OVP taps 2 gov’t hospitals in MM #BeFullyInfor...   73  943098845021523973   \n",
       "3  PHL among 5 most dangerous countries for journ...  111  943098841397567488   \n",
       "4  How can we keep lost loved ones alive in our m...   87  943098669280256000   \n",
       "5  Facebook said it would start demoting posts th...  126  943098621016313856   \n",
       "6  Anyone else as excited for #Oceans8? https://t...   60  943098616310304768   \n",
       "7  Adopt an olive tree and support local farmers ...  139  943098610606133248   \n",
       "8  Climate change driving record snows in Alaskan...  111  943098609272270848   \n",
       "9  The Amtrak train was going more than twice the...  132  943098604583047168   \n",
       "\n",
       "                 Date              Source  Likes  RTs  \n",
       "0 2017-12-19 12:41:39          SocialFlow      0    0  \n",
       "1 2017-12-19 12:41:16           TweetDeck      0    0  \n",
       "2 2017-12-19 12:41:01       Sprout Social      0    0  \n",
       "3 2017-12-19 12:41:00           TweetDeck      2    0  \n",
       "4 2017-12-19 12:40:19          SocialFlow      5    0  \n",
       "5 2017-12-19 12:40:07          SocialFlow     23   20  \n",
       "6 2017-12-19 12:40:06  Twitter Web Client      1    0  \n",
       "7 2017-12-19 12:40:05              Buffer      2    0  \n",
       "8 2017-12-19 12:40:05          trueAnthem      8    7  \n",
       "9 2017-12-19 12:40:03          SocialFlow     15   15  "
      ]
     },
     "metadata": {},
     "output_type": "display_data"
    }
   ],
   "source": [
    "display(data.head(10))"
   ]
  },
  {
   "cell_type": "markdown",
   "metadata": {},
   "source": [
    "#### Average"
   ]
  },
  {
   "cell_type": "code",
   "execution_count": 11,
   "metadata": {},
   "outputs": [
    {
     "name": "stdout",
     "output_type": "stream",
     "text": [
      "The length's average in tweets: 106.46231155778895\n"
     ]
    }
   ],
   "source": [
    "mean = np.mean(data['len'])\n",
    "\n",
    "print(\"The length's average in tweets: {}\".format(mean))"
   ]
  },
  {
   "cell_type": "markdown",
   "metadata": {},
   "source": [
    "#### Popularity"
   ]
  },
  {
   "cell_type": "code",
   "execution_count": 12,
   "metadata": {},
   "outputs": [
    {
     "name": "stdout",
     "output_type": "stream",
     "text": [
      "The tweet with more likes is: \n",
      "President Trump's approval rating hits 35%, his worst mark yet in CNN polling by one point. \n",
      "\n",
      "His approval ratings… https://t.co/ef8pvI6ctp\n",
      "Number of likes: 687\n",
      "139 characters.\n",
      "\n",
      "The tweet with more retweets is: \n",
      "RT @BabyAnimalsPic: Why is this the cutest thing I've ever seen in my life https://t.co/phqDmS4Jus\n",
      "Number of retweets: 4139\n",
      "98 characters.\n",
      "\n"
     ]
    }
   ],
   "source": [
    "fav_max = np.max(data['Likes'])\n",
    "rt_max  = np.max(data['RTs'])\n",
    "\n",
    "fav = data[data.Likes == fav_max].index[0]\n",
    "rt  = data[data.RTs == rt_max].index[0]\n",
    "\n",
    "# Max FAVs:\n",
    "print(\"The tweet with more likes is: \\n{}\".format(data['Tweets'][fav]))\n",
    "print(\"Number of likes: {}\".format(fav_max)) \n",
    "print(\"{} characters.\\n\".format(data['len'][fav]))\n",
    "\n",
    "# Max RTs:\n",
    "print(\"The tweet with more retweets is: \\n{}\".format(data['Tweets'][rt]))\n",
    "print(\"Number of retweets: {}\".format(rt_max))\n",
    "print(\"{} characters.\\n\".format(data['len'][rt]))"
   ]
  },
  {
   "cell_type": "markdown",
   "metadata": {},
   "source": [
    "#### Time Series"
   ]
  },
  {
   "cell_type": "code",
   "execution_count": 13,
   "metadata": {
    "collapsed": true
   },
   "outputs": [],
   "source": [
    "tlen = pd.Series(data=data['len'].values, index=data['Date'])\n",
    "tfav = pd.Series(data=data['Likes'].values, index=data['Date'])\n",
    "tret = pd.Series(data=data['RTs'].values, index=data['Date'])"
   ]
  },
  {
   "cell_type": "code",
   "execution_count": 14,
   "metadata": {
    "scrolled": true
   },
   "outputs": [
    {
     "data": {
      "image/png": "[encoded data removed]",
      "text/plain": [
       "<matplotlib.figure.Figure at 0x1a0b573198>"
      ]
     },
     "metadata": {},
     "output_type": "display_data"
    }
   ],
   "source": [
    "tlen.plot(figsize=(16,4), color='r');"
   ]
  },
  {
   "cell_type": "markdown",
   "metadata": {},
   "source": [
    "    ^^ plots one data point(tweet) per date time"
   ]
  },
  {
   "cell_type": "code",
   "execution_count": 15,
   "metadata": {},
   "outputs": [
    {
     "data": {
      "image/png": "[encoded data removed]",
      "text/plain": [
       "<matplotlib.figure.Figure at 0x1a10fe05f8>"
      ]
     },
     "metadata": {},
     "output_type": "display_data"
    }
   ],
   "source": [
    "tfav.plot(figsize=(16,4), label=\"Likes\", legend=True)\n",
    "tret.plot(figsize=(16,4), label=\"Retweets\", legend=True);"
   ]
  },
  {
   "cell_type": "markdown",
   "metadata": {},
   "source": [
    "#### Pie Chart - Display Sources"
   ]
  },
  {
   "cell_type": "code",
   "execution_count": 16,
   "metadata": {},
   "outputs": [
    {
     "name": "stdout",
     "output_type": "stream",
     "text": [
      "Creation of content sources:\n",
      "* SocialFlow\n",
      "* TweetDeck\n",
      "* Sprout Social\n",
      "* Twitter Web Client\n",
      "* Buffer\n",
      "* trueAnthem\n",
      "* Sprinklr\n",
      "* Business Insider\n",
      "* Media Studio\n",
      "* Echobox Social\n",
      "* dlvr.it\n",
      "* Hootsuite\n",
      "* Mobile Web (M2)\n",
      "* Twitter for Android\n",
      "* Meet Edgar\n",
      "* Malorie\n",
      "* RoundTeam\n",
      "* Spredfast\n",
      "* Spredfast app\n",
      "* Falcon Social Media Management \n",
      "* Twitter for iPhone\n",
      "* OnSugar.com\n",
      "* Vox Media\n",
      "* SnappyTV.com\n"
     ]
    }
   ],
   "source": [
    "sources = []\n",
    "for source in data['Source']:\n",
    "    if source not in sources:\n",
    "        sources.append(source)\n",
    "\n",
    "# We print sources list:\n",
    "print(\"Creation of content sources:\")\n",
    "for source in sources:\n",
    "    print(\"* {}\".format(source))"
   ]
  },
  {
   "cell_type": "code",
   "execution_count": 17,
   "metadata": {},
   "outputs": [
    {
     "data": {
      "image/png": "[encoded data removed]",
      "text/plain": [
       "<matplotlib.figure.Figure at 0x1a14576128>"
      ]
     },
     "metadata": {},
     "output_type": "display_data"
    }
   ],
   "source": [
    "percent = np.zeros(len(sources))\n",
    "\n",
    "for source in data['Source']:\n",
    "    for index in range(len(sources)):\n",
    "        if source == sources[index]:\n",
    "            percent[index] += 1\n",
    "            pass\n",
    "\n",
    "percent /= 100\n",
    "\n",
    "# Pie chart:\n",
    "pie_chart = pd.Series(percent, index=sources, name='Sources')\n",
    "pie_chart.plot.pie(fontsize=11, autopct='%.2f', figsize=(6, 6));"
   ]
  },
  {
   "cell_type": "markdown",
   "metadata": {},
   "source": [
    "#### Sentiment Analysis"
   ]
  },
  {
   "cell_type": "code",
   "execution_count": 18,
   "metadata": {
    "collapsed": true
   },
   "outputs": [],
   "source": [
    "from textblob import TextBlob\n",
    "from textblob.sentiments import NaiveBayesAnalyzer #Only necessary if you want to override the Patteranalyzer (default)\n",
    "\n",
    "import re\n",
    "\n",
    "def clean_tweet(tweet): # gets rid of urls, @, substitute it with blank space\n",
    "    '''\n",
    "    Utility function to clean the text in a tweet by removing \n",
    "    links and special characters using regex.\n",
    "    '''\n",
    "    return ' '.join(re.sub(\"(@[A-Za-z0-9]+)|([^0-9A-Za-z \\t])|(\\w+:\\/\\/\\S+)\", \" \", tweet).split())\n",
    "\n",
    "def analyze_sentiment(tweet): # pass the clean_tweet, then analyze text\n",
    "    '''\n",
    "    Utility function to classify the polarity of a tweet\n",
    "    using textblob.\n",
    "    '''\n",
    "    analysis = TextBlob(clean_tweet(tweet))\n",
    "    if analysis.sentiment.polarity > 0:\n",
    "        return 1\n",
    "    elif analysis.sentiment.polarity == 0:\n",
    "        return 0\n",
    "    else:\n",
    "        return -1"
   ]
  },
  {
   "cell_type": "code",
   "execution_count": 19,
   "metadata": {},
   "outputs": [
    {
     "data": {
      "text/html": [
       "<div>\n",
       "<style scoped>\n",
       "    .dataframe tbody tr th:only-of-type {\n",
       "        vertical-align: middle;\n",
       "    }\n",
       "\n",
       "    .dataframe tbody tr th {\n",
       "        vertical-align: top;\n",
       "    }\n",
       "\n",
       "    .dataframe thead th {\n",
       "        text-align: right;\n",
       "    }\n",
       "</style>\n",
       "<table border=\"1\" class=\"dataframe\">\n",
       "  <thead>\n",
       "    <tr style=\"text-align: right;\">\n",
       "      <th></th>\n",
       "      <th>Tweets</th>\n",
       "      <th>len</th>\n",
       "      <th>ID</th>\n",
       "      <th>Date</th>\n",
       "      <th>Source</th>\n",
       "      <th>Likes</th>\n",
       "      <th>RTs</th>\n",
       "      <th>SA</th>\n",
       "    </tr>\n",
       "  </thead>\n",
       "  <tbody>\n",
       "    <tr>\n",
       "      <th>0</th>\n",
       "      <td>Saudis 'shoot down' Houthi missile close to ca...</td>\n",
       "      <td>75</td>\n",
       "      <td>943099005130690560</td>\n",
       "      <td>2017-12-19 12:41:39</td>\n",
       "      <td>SocialFlow</td>\n",
       "      <td>0</td>\n",
       "      <td>0</td>\n",
       "      <td>-1</td>\n",
       "    </tr>\n",
       "    <tr>\n",
       "      <th>1</th>\n",
       "      <td>6 conspiracy theories people are convinced are...</td>\n",
       "      <td>75</td>\n",
       "      <td>943098907856424960</td>\n",
       "      <td>2017-12-19 12:41:16</td>\n",
       "      <td>TweetDeck</td>\n",
       "      <td>0</td>\n",
       "      <td>0</td>\n",
       "      <td>1</td>\n",
       "    </tr>\n",
       "    <tr>\n",
       "      <th>2</th>\n",
       "      <td>OVP taps 2 gov’t hospitals in MM #BeFullyInfor...</td>\n",
       "      <td>73</td>\n",
       "      <td>943098845021523973</td>\n",
       "      <td>2017-12-19 12:41:01</td>\n",
       "      <td>Sprout Social</td>\n",
       "      <td>0</td>\n",
       "      <td>0</td>\n",
       "      <td>0</td>\n",
       "    </tr>\n",
       "    <tr>\n",
       "      <th>3</th>\n",
       "      <td>PHL among 5 most dangerous countries for journ...</td>\n",
       "      <td>111</td>\n",
       "      <td>943098841397567488</td>\n",
       "      <td>2017-12-19 12:41:00</td>\n",
       "      <td>TweetDeck</td>\n",
       "      <td>2</td>\n",
       "      <td>0</td>\n",
       "      <td>-1</td>\n",
       "    </tr>\n",
       "    <tr>\n",
       "      <th>4</th>\n",
       "      <td>How can we keep lost loved ones alive in our m...</td>\n",
       "      <td>87</td>\n",
       "      <td>943098669280256000</td>\n",
       "      <td>2017-12-19 12:40:19</td>\n",
       "      <td>SocialFlow</td>\n",
       "      <td>5</td>\n",
       "      <td>0</td>\n",
       "      <td>1</td>\n",
       "    </tr>\n",
       "    <tr>\n",
       "      <th>5</th>\n",
       "      <td>Facebook said it would start demoting posts th...</td>\n",
       "      <td>126</td>\n",
       "      <td>943098621016313856</td>\n",
       "      <td>2017-12-19 12:40:07</td>\n",
       "      <td>SocialFlow</td>\n",
       "      <td>23</td>\n",
       "      <td>20</td>\n",
       "      <td>0</td>\n",
       "    </tr>\n",
       "    <tr>\n",
       "      <th>6</th>\n",
       "      <td>Anyone else as excited for #Oceans8? https://t...</td>\n",
       "      <td>60</td>\n",
       "      <td>943098616310304768</td>\n",
       "      <td>2017-12-19 12:40:06</td>\n",
       "      <td>Twitter Web Client</td>\n",
       "      <td>1</td>\n",
       "      <td>0</td>\n",
       "      <td>1</td>\n",
       "    </tr>\n",
       "    <tr>\n",
       "      <th>7</th>\n",
       "      <td>Adopt an olive tree and support local farmers ...</td>\n",
       "      <td>139</td>\n",
       "      <td>943098610606133248</td>\n",
       "      <td>2017-12-19 12:40:05</td>\n",
       "      <td>Buffer</td>\n",
       "      <td>2</td>\n",
       "      <td>0</td>\n",
       "      <td>1</td>\n",
       "    </tr>\n",
       "    <tr>\n",
       "      <th>8</th>\n",
       "      <td>Climate change driving record snows in Alaskan...</td>\n",
       "      <td>111</td>\n",
       "      <td>943098609272270848</td>\n",
       "      <td>2017-12-19 12:40:05</td>\n",
       "      <td>trueAnthem</td>\n",
       "      <td>8</td>\n",
       "      <td>7</td>\n",
       "      <td>0</td>\n",
       "    </tr>\n",
       "    <tr>\n",
       "      <th>9</th>\n",
       "      <td>The Amtrak train was going more than twice the...</td>\n",
       "      <td>132</td>\n",
       "      <td>943098604583047168</td>\n",
       "      <td>2017-12-19 12:40:03</td>\n",
       "      <td>SocialFlow</td>\n",
       "      <td>15</td>\n",
       "      <td>15</td>\n",
       "      <td>1</td>\n",
       "    </tr>\n",
       "  </tbody>\n",
       "</table>\n",
       "</div>"
      ],
      "text/plain": [
       "                                              Tweets  len                  ID  \\\n",
       "0  Saudis 'shoot down' Houthi missile close to ca...   75  943099005130690560   \n",
       "1  6 conspiracy theories people are convinced are...   75  943098907856424960   \n",
       "2  OVP taps 2 gov’t hospitals in MM #BeFullyInfor...   73  943098845021523973   \n",
       "3  PHL among 5 most dangerous countries for journ...  111  943098841397567488   \n",
       "4  How can we keep lost loved ones alive in our m...   87  943098669280256000   \n",
       "5  Facebook said it would start demoting posts th...  126  943098621016313856   \n",
       "6  Anyone else as excited for #Oceans8? https://t...   60  943098616310304768   \n",
       "7  Adopt an olive tree and support local farmers ...  139  943098610606133248   \n",
       "8  Climate change driving record snows in Alaskan...  111  943098609272270848   \n",
       "9  The Amtrak train was going more than twice the...  132  943098604583047168   \n",
       "\n",
       "                 Date              Source  Likes  RTs  SA  \n",
       "0 2017-12-19 12:41:39          SocialFlow      0    0  -1  \n",
       "1 2017-12-19 12:41:16           TweetDeck      0    0   1  \n",
       "2 2017-12-19 12:41:01       Sprout Social      0    0   0  \n",
       "3 2017-12-19 12:41:00           TweetDeck      2    0  -1  \n",
       "4 2017-12-19 12:40:19          SocialFlow      5    0   1  \n",
       "5 2017-12-19 12:40:07          SocialFlow     23   20   0  \n",
       "6 2017-12-19 12:40:06  Twitter Web Client      1    0   1  \n",
       "7 2017-12-19 12:40:05              Buffer      2    0   1  \n",
       "8 2017-12-19 12:40:05          trueAnthem      8    7   0  \n",
       "9 2017-12-19 12:40:03          SocialFlow     15   15   1  "
      ]
     },
     "metadata": {},
     "output_type": "display_data"
    }
   ],
   "source": [
    "data['SA'] = np.array([ analyze_sentiment(tweet) for tweet in data['Tweets'] ])\n",
    "\n",
    "display(data.head(10))"
   ]
  },
  {
   "cell_type": "markdown",
   "metadata": {},
   "source": [
    "#### Summary of Results"
   ]
  },
  {
   "cell_type": "code",
   "execution_count": 20,
   "metadata": {
    "collapsed": true
   },
   "outputs": [],
   "source": [
    "pos_tweets = [ tweet for index, tweet in enumerate(data['Tweets']) if data['SA'][index] > 0]\n",
    "neu_tweets = [ tweet for index, tweet in enumerate(data['Tweets']) if data['SA'][index] == 0]\n",
    "neg_tweets = [ tweet for index, tweet in enumerate(data['Tweets']) if data['SA'][index] < 0]"
   ]
  },
  {
   "cell_type": "code",
   "execution_count": 21,
   "metadata": {},
   "outputs": [
    {
     "name": "stdout",
     "output_type": "stream",
     "text": [
      "Percentage of positive tweets: 38.19095477386934%\n",
      "Percentage of neutral tweets: 43.21608040201005%\n",
      "Percentage of negative tweets: 18.592964824120603%\n"
     ]
    }
   ],
   "source": [
    "print(\"Percentage of positive tweets: {}%\".format(len(pos_tweets)*100/len(data['Tweets'])))\n",
    "print(\"Percentage of neutral tweets: {}%\".format(len(neu_tweets)*100/len(data['Tweets'])))\n",
    "print(\"Percentage of negative tweets: {}%\".format(len(neg_tweets)*100/len(data['Tweets'])))"
   ]
  },
  {
   "cell_type": "markdown",
   "metadata": {
    "collapsed": true
   },
   "source": [
    "    Findings: \n",
    "        Most of the feeds on my public profile have neutral feelings"
   ]
  },
  {
   "cell_type": "markdown",
   "metadata": {},
   "source": [
    "## Exercise 2\n",
    "\n",
    "Consider the last 100 tweets that contain a keyword of your interest (http://docs.tweepy.org/en/latest/api.html#API.search) and analyze the lenght of their tweets, and the number of likes and retweets, and their sentiments. How are the sentiments over the keyword distributed?"
   ]
  },
  {
   "cell_type": "code",
   "execution_count": 22,
   "metadata": {
    "collapsed": true
   },
   "outputs": [],
   "source": [
    "extractor = twitter_setup()"
   ]
  },
  {
   "cell_type": "code",
   "execution_count": 23,
   "metadata": {},
   "outputs": [
    {
     "name": "stdout",
     "output_type": "stream",
     "text": [
      "Number of tweets extracted: 15.\n",
      "\n",
      "5 recent tweets:\n",
      "\n",
      "RT @PakistanNature: Animals of Pakistan. This beautiful being, Marmot, was spotted at Deosai National Park, Gilgit Baltistan, Pakistan by M…\n",
      "\n",
      "The luxury hotel in a Norwegian cabin https://t.co/D55HbybcnR #Travel #Life\n",
      "\n",
      "The luxury hotel in a Norwegian cabin https://t.co/noIb1SDGlO\n",
      "\n",
      "RT @mnabih123: ساعدوني الصورة دي يتعملها شير و تلف العالم ... دي مصر الحضارة بعدستي و بمزاجي #Egypt #Cairo #Travel https://t.co/xsHbIslzW6\n",
      "\n",
      "Hiking UK – 22 Best day hikes in the UK by travel bloggers https://t.co/NZIGQNMUgi https://t.co/o4E9R8VnK1\n",
      "\n"
     ]
    }
   ],
   "source": [
    "tweets = extractor.search(q=\"travel\")\n",
    "print(\"Number of tweets extracted: {}.\\n\".format(len(tweets)))\n",
    "\n",
    "print(\"5 recent tweets:\\n\")\n",
    "for tweet in tweets[:5]:\n",
    "    print(tweet.text)\n",
    "    print()"
   ]
  },
  {
   "cell_type": "code",
   "execution_count": 24,
   "metadata": {
    "collapsed": true
   },
   "outputs": [],
   "source": [
    "data2 = pd.DataFrame(data=[tweet.text for tweet in tweets], columns=['Tweets'])\n",
    "# We display the first 10 elements of the dataframe:\n",
    "#display(data2.head(10))"
   ]
  },
  {
   "cell_type": "code",
   "execution_count": 25,
   "metadata": {
    "collapsed": true
   },
   "outputs": [],
   "source": [
    "data2['len'] = np.array([len(tweet.text) for tweet in tweets])\n",
    "data2['ID'] = np.array([tweet.id for tweet in tweets])\n",
    "data2['Date'] = np.array([tweet.created_at for tweet in tweets])\n",
    "data2['Source'] = np.array([tweet.source for tweet in tweets])\n",
    "data2['Likes'] = np.array([tweet.favorite_count for tweet in tweets])\n",
    "data2['RTs'] = np.array([tweet.retweet_count for tweet in tweets])"
   ]
  },
  {
   "cell_type": "code",
   "execution_count": 26,
   "metadata": {
    "collapsed": true
   },
   "outputs": [],
   "source": [
    "#display(data2.head(10))"
   ]
  },
  {
   "cell_type": "code",
   "execution_count": 27,
   "metadata": {},
   "outputs": [
    {
     "name": "stdout",
     "output_type": "stream",
     "text": [
      "The minimum length of tweets: 23\n",
      "The average length of tweets: 106.46231155778895\n",
      "The maximum length of tweets: 140\n"
     ]
    }
   ],
   "source": [
    "max = np.max(data['len'])\n",
    "min = np.min(data['len'])\n",
    "mean = np.mean(data['len'])\n",
    "\n",
    "print(\"The minimum length of tweets: {}\".format(min))\n",
    "print(\"The average length of tweets: {}\".format(mean))\n",
    "print(\"The maximum length of tweets: {}\".format(max))"
   ]
  },
  {
   "cell_type": "code",
   "execution_count": 28,
   "metadata": {},
   "outputs": [
    {
     "name": "stdout",
     "output_type": "stream",
     "text": [
      "The tweet with more likes is: \n",
      "RT @PakistanNature: Animals of Pakistan. This beautiful being, Marmot, was spotted at Deosai National Park, Gilgit Baltistan, Pakistan by M…\n",
      "Number of likes: 0\n",
      "140 characters.\n",
      "\n",
      "The tweet with more retweets is: \n",
      "RT @bbusa617: BREAKING: Anti-Trump 9th Circuit Judge RESIGNS IN DISGRACE! https://t.co/B6RFJ285E3\n",
      "\n",
      "Just Breaking 9th Circuit District Judge…\n",
      "Number of retweets: 1314\n",
      "140 characters.\n",
      "\n"
     ]
    }
   ],
   "source": [
    "fav_max = np.max(data2['Likes'])\n",
    "rt_max  = np.max(data2['RTs'])\n",
    "\n",
    "fav = data2[data2.Likes == fav_max].index[0]\n",
    "rt  = data2[data2.RTs == rt_max].index[0]\n",
    "\n",
    "# Max FAVs:\n",
    "print(\"The tweet with more likes is: \\n{}\".format(data2['Tweets'][fav]))\n",
    "print(\"Number of likes: {}\".format(fav_max)) \n",
    "print(\"{} characters.\\n\".format(data2['len'][fav]))\n",
    "\n",
    "# Max RTs:\n",
    "print(\"The tweet with more retweets is: \\n{}\".format(data2['Tweets'][rt]))\n",
    "print(\"Number of retweets: {}\".format(rt_max))\n",
    "print(\"{} characters.\\n\".format(data2['len'][rt]))"
   ]
  },
  {
   "cell_type": "code",
   "execution_count": 29,
   "metadata": {},
   "outputs": [
    {
     "data": {
      "text/html": [
       "<div>\n",
       "<style scoped>\n",
       "    .dataframe tbody tr th:only-of-type {\n",
       "        vertical-align: middle;\n",
       "    }\n",
       "\n",
       "    .dataframe tbody tr th {\n",
       "        vertical-align: top;\n",
       "    }\n",
       "\n",
       "    .dataframe thead th {\n",
       "        text-align: right;\n",
       "    }\n",
       "</style>\n",
       "<table border=\"1\" class=\"dataframe\">\n",
       "  <thead>\n",
       "    <tr style=\"text-align: right;\">\n",
       "      <th></th>\n",
       "      <th>Tweets</th>\n",
       "      <th>len</th>\n",
       "      <th>ID</th>\n",
       "      <th>Date</th>\n",
       "      <th>Source</th>\n",
       "      <th>Likes</th>\n",
       "      <th>RTs</th>\n",
       "      <th>SA</th>\n",
       "    </tr>\n",
       "  </thead>\n",
       "  <tbody>\n",
       "    <tr>\n",
       "      <th>0</th>\n",
       "      <td>RT @PakistanNature: Animals of Pakistan. This ...</td>\n",
       "      <td>140</td>\n",
       "      <td>943098984159170562</td>\n",
       "      <td>2017-12-19 12:41:34</td>\n",
       "      <td>Twitter for Android</td>\n",
       "      <td>0</td>\n",
       "      <td>26</td>\n",
       "      <td>1</td>\n",
       "    </tr>\n",
       "    <tr>\n",
       "      <th>1</th>\n",
       "      <td>The luxury hotel in a Norwegian cabin https://...</td>\n",
       "      <td>75</td>\n",
       "      <td>943098982028505088</td>\n",
       "      <td>2017-12-19 12:41:33</td>\n",
       "      <td>IFTTT</td>\n",
       "      <td>0</td>\n",
       "      <td>0</td>\n",
       "      <td>0</td>\n",
       "    </tr>\n",
       "    <tr>\n",
       "      <th>2</th>\n",
       "      <td>The luxury hotel in a Norwegian cabin https://...</td>\n",
       "      <td>61</td>\n",
       "      <td>943098981600645120</td>\n",
       "      <td>2017-12-19 12:41:33</td>\n",
       "      <td>IFTTT</td>\n",
       "      <td>0</td>\n",
       "      <td>0</td>\n",
       "      <td>0</td>\n",
       "    </tr>\n",
       "    <tr>\n",
       "      <th>3</th>\n",
       "      <td>RT @mnabih123: ساعدوني الصورة دي يتعملها شير و...</td>\n",
       "      <td>138</td>\n",
       "      <td>943098979750998016</td>\n",
       "      <td>2017-12-19 12:41:33</td>\n",
       "      <td>Twitter for Android</td>\n",
       "      <td>0</td>\n",
       "      <td>272</td>\n",
       "      <td>0</td>\n",
       "    </tr>\n",
       "    <tr>\n",
       "      <th>4</th>\n",
       "      <td>Hiking UK – 22 Best day hikes in the UK by tra...</td>\n",
       "      <td>106</td>\n",
       "      <td>943098976483627009</td>\n",
       "      <td>2017-12-19 12:41:32</td>\n",
       "      <td>WordPress.com</td>\n",
       "      <td>0</td>\n",
       "      <td>0</td>\n",
       "      <td>1</td>\n",
       "    </tr>\n",
       "    <tr>\n",
       "      <th>5</th>\n",
       "      <td>@PDFGirl @SenBobCorker I travel to the Bean St...</td>\n",
       "      <td>140</td>\n",
       "      <td>943098974642298880</td>\n",
       "      <td>2017-12-19 12:41:32</td>\n",
       "      <td>Twitter for iPhone</td>\n",
       "      <td>0</td>\n",
       "      <td>0</td>\n",
       "      <td>0</td>\n",
       "    </tr>\n",
       "    <tr>\n",
       "      <th>6</th>\n",
       "      <td>RT @bbusa617: BREAKING: Anti-Trump 9th Circuit...</td>\n",
       "      <td>140</td>\n",
       "      <td>943098974105489408</td>\n",
       "      <td>2017-12-19 12:41:32</td>\n",
       "      <td>Twitter for iPhone</td>\n",
       "      <td>0</td>\n",
       "      <td>1314</td>\n",
       "      <td>0</td>\n",
       "    </tr>\n",
       "    <tr>\n",
       "      <th>7</th>\n",
       "      <td>RT @PakistanNature: Lowari tunnel has recently...</td>\n",
       "      <td>139</td>\n",
       "      <td>943098970674429952</td>\n",
       "      <td>2017-12-19 12:41:31</td>\n",
       "      <td>Twitter for iPhone</td>\n",
       "      <td>0</td>\n",
       "      <td>44</td>\n",
       "      <td>0</td>\n",
       "    </tr>\n",
       "    <tr>\n",
       "      <th>8</th>\n",
       "      <td>RT @TravelWell4Less: Beachfront resort in para...</td>\n",
       "      <td>140</td>\n",
       "      <td>943098967117541376</td>\n",
       "      <td>2017-12-19 12:41:30</td>\n",
       "      <td>Our Scheduling App</td>\n",
       "      <td>0</td>\n",
       "      <td>150</td>\n",
       "      <td>1</td>\n",
       "    </tr>\n",
       "    <tr>\n",
       "      <th>9</th>\n",
       "      <td>RT @HerdadeFozdaRep: Mariza - Rosa Branca \\nht...</td>\n",
       "      <td>98</td>\n",
       "      <td>943098964886220801</td>\n",
       "      <td>2017-12-19 12:41:29</td>\n",
       "      <td>Twitter for Android</td>\n",
       "      <td>0</td>\n",
       "      <td>1</td>\n",
       "      <td>0</td>\n",
       "    </tr>\n",
       "  </tbody>\n",
       "</table>\n",
       "</div>"
      ],
      "text/plain": [
       "                                              Tweets  len                  ID  \\\n",
       "0  RT @PakistanNature: Animals of Pakistan. This ...  140  943098984159170562   \n",
       "1  The luxury hotel in a Norwegian cabin https://...   75  943098982028505088   \n",
       "2  The luxury hotel in a Norwegian cabin https://...   61  943098981600645120   \n",
       "3  RT @mnabih123: ساعدوني الصورة دي يتعملها شير و...  138  943098979750998016   \n",
       "4  Hiking UK – 22 Best day hikes in the UK by tra...  106  943098976483627009   \n",
       "5  @PDFGirl @SenBobCorker I travel to the Bean St...  140  943098974642298880   \n",
       "6  RT @bbusa617: BREAKING: Anti-Trump 9th Circuit...  140  943098974105489408   \n",
       "7  RT @PakistanNature: Lowari tunnel has recently...  139  943098970674429952   \n",
       "8  RT @TravelWell4Less: Beachfront resort in para...  140  943098967117541376   \n",
       "9  RT @HerdadeFozdaRep: Mariza - Rosa Branca \\nht...   98  943098964886220801   \n",
       "\n",
       "                 Date               Source  Likes   RTs  SA  \n",
       "0 2017-12-19 12:41:34  Twitter for Android      0    26   1  \n",
       "1 2017-12-19 12:41:33                IFTTT      0     0   0  \n",
       "2 2017-12-19 12:41:33                IFTTT      0     0   0  \n",
       "3 2017-12-19 12:41:33  Twitter for Android      0   272   0  \n",
       "4 2017-12-19 12:41:32        WordPress.com      0     0   1  \n",
       "5 2017-12-19 12:41:32   Twitter for iPhone      0     0   0  \n",
       "6 2017-12-19 12:41:32   Twitter for iPhone      0  1314   0  \n",
       "7 2017-12-19 12:41:31   Twitter for iPhone      0    44   0  \n",
       "8 2017-12-19 12:41:30   Our Scheduling App      0   150   1  \n",
       "9 2017-12-19 12:41:29  Twitter for Android      0     1   0  "
      ]
     },
     "metadata": {},
     "output_type": "display_data"
    }
   ],
   "source": [
    "data2['SA'] = np.array([ analyze_sentiment(tweet) for tweet in data2['Tweets'] ])\n",
    "\n",
    "# We display the updated dataframe with the new column:\n",
    "display(data2.head(10))"
   ]
  },
  {
   "cell_type": "code",
   "execution_count": 30,
   "metadata": {},
   "outputs": [
    {
     "name": "stdout",
     "output_type": "stream",
     "text": [
      "Percentage of positive tweets: 20.0%\n",
      "Percentage of neutral tweets: 73.33333333333333%\n",
      "Percentage of negative tweets: 6.666666666666667%\n"
     ]
    }
   ],
   "source": [
    "pos_tweets = [ tweet for index, tweet in enumerate(data2['Tweets']) if data2['SA'][index] > 0]\n",
    "neu_tweets = [ tweet for index, tweet in enumerate(data2['Tweets']) if data2['SA'][index] == 0]\n",
    "neg_tweets = [ tweet for index, tweet in enumerate(data2['Tweets']) if data2['SA'][index] < 0]\n",
    "\n",
    "print(\"Percentage of positive tweets: {}%\".format(len(pos_tweets)*100/len(data2['Tweets'])))\n",
    "print(\"Percentage of neutral tweets: {}%\".format(len(neu_tweets)*100/len(data2['Tweets'])))\n",
    "print(\"Percentage of negative tweets: {}%\".format(len(neg_tweets)*100/len(data2['Tweets'])))"
   ]
  },
  {
   "cell_type": "markdown",
   "metadata": {},
   "source": [
    "    Findings:\n",
    "\n",
    "    Because its almost the holidays, most people generally have a positive feeling about the word \"travel\" but its also quite surprising how there are some with negative sentiments, which is worth looking into to."
   ]
  },
  {
   "cell_type": "code",
   "execution_count": null,
   "metadata": {
    "collapsed": true
   },
   "outputs": [],
   "source": []
  },
  {
   "cell_type": "markdown",
   "metadata": {},
   "source": [
    "## Exercise 3\n",
    "\n",
    "Consider the last 300 tweets that contain a location of your interest and analyze the lenght of their tweets, and the number of likes and retweets, and their sentiments. How are the sentiments of the users in that location?"
   ]
  },
  {
   "cell_type": "code",
   "execution_count": 31,
   "metadata": {
    "collapsed": true
   },
   "outputs": [],
   "source": [
    "#to handle pagination\n",
    "#http://docs.tweepy.org/en/v3.5.0/cursor_tutorial.html\n",
    "#for status in tweepy.Cursor(extractor.user_timeline).items():\n",
    "    #process_status(status)"
   ]
  },
  {
   "cell_type": "code",
   "execution_count": 32,
   "metadata": {},
   "outputs": [
    {
     "name": "stdout",
     "output_type": "stream",
     "text": [
      "Number of tweets extracted: 100.\n",
      "\n",
      "5 recent tweets:\n",
      "\n",
      "RT @AlyssaFarin: rt this lucky 1k's para bigyan ka nila ninong at ninang ng 1k sa Christmas. https://t.co/vDmfRYwxy0\n",
      "\n",
      "RT @MezzoMikiD: TDLディズニー・クリスマス・ストーリーズ☆\n",
      "https://t.co/tn3sjftJil https://t.co/8ciYskusXr\n",
      "\n",
      "RT @RichardBarrow: Christmas in Bangkok: Giant Santa Claus in front of Central Embassy. Easy access via BTS Ploenchit #Bangkok #Thailand ht…\n",
      "\n",
      "RT @Keefosabe: Bitch , Christmas is literally next week https://t.co/kVIPkzv4WQ\n",
      "\n",
      "RT @Hoxication1006: 171219 Christmas Party \n",
      "#몬스타엑스 #주헌 #JOOHEON\n",
      "@OfficialMonstaX https://t.co/Njb9n4S2Jc\n",
      "\n"
     ]
    }
   ],
   "source": [
    "tweets = extractor.search(q=\"Christmas\", count=500)\n",
    "print(\"Number of tweets extracted: {}.\\n\".format(len(tweets)))\n",
    "\n",
    "print(\"5 recent tweets:\\n\")\n",
    "for tweet in tweets[:5]:\n",
    "    print(tweet.text)\n",
    "    print()"
   ]
  },
  {
   "cell_type": "markdown",
   "metadata": {},
   "source": [
    "^^ only get 100 tweets?"
   ]
  },
  {
   "cell_type": "code",
   "execution_count": 33,
   "metadata": {
    "collapsed": true
   },
   "outputs": [],
   "source": [
    "data3 = pd.DataFrame(data=[tweet.text for tweet in tweets], columns=[\"Tweets\"])"
   ]
  },
  {
   "cell_type": "code",
   "execution_count": 34,
   "metadata": {},
   "outputs": [
    {
     "name": "stdout",
     "output_type": "stream",
     "text": [
      "Philippines id is: fb151ef38fa2ac0d\n"
     ]
    }
   ],
   "source": [
    "# getting GEO ID for Philippines\n",
    "places = extractor.geo_search(query=\"Philippines\", granularity=\"country\")\n",
    "place_id = places[0].id\n",
    "print(\"Philippines id is:\", place_id)"
   ]
  },
  {
   "cell_type": "code",
   "execution_count": 35,
   "metadata": {
    "collapsed": true
   },
   "outputs": [],
   "source": [
    "searchQuery = 'place:fb151ef38fa2ac0d #duterte or # du30'\n",
    "maxTweets = 300\n",
    "tweetsPerQry = 100"
   ]
  },
  {
   "cell_type": "markdown",
   "metadata": {},
   "source": [
    "\n",
    "    Philippines\n",
    "    Latitude:14.650991914° 39' 3.57'' N\n",
    "    Longitude:121.0269467121° 1' 37.01'' E\n"
   ]
  },
  {
   "cell_type": "code",
   "execution_count": 36,
   "metadata": {},
   "outputs": [
    {
     "ename": "NameError",
     "evalue": "name 'twitterStream' is not defined",
     "output_type": "error",
     "traceback": [
      "\u001b[0;31m---------------------------------------------------------------------------\u001b[0m",
      "\u001b[0;31mNameError\u001b[0m                                 Traceback (most recent call last)",
      "\u001b[0;32m<ipython-input-36-7dc93c994da1>\u001b[0m in \u001b[0;36m<module>\u001b[0;34m()\u001b[0m\n\u001b[1;32m     40\u001b[0m \u001b[0;34m\u001b[0m\u001b[0m\n\u001b[1;32m     41\u001b[0m \u001b[0;31m#What you want to search for here\u001b[0m\u001b[0;34m\u001b[0m\u001b[0;34m\u001b[0m\u001b[0m\n\u001b[0;32m---> 42\u001b[0;31m \u001b[0mtwitterStream\u001b[0m\u001b[0;34m.\u001b[0m\u001b[0mfilter\u001b[0m\u001b[0;34m(\u001b[0m\u001b[0mtrack\u001b[0m\u001b[0;34m=\u001b[0m\u001b[0;34m[\u001b[0m\u001b[0;34m\"Du30\"\u001b[0m\u001b[0;34m]\u001b[0m\u001b[0;34m)\u001b[0m\u001b[0;34m\u001b[0m\u001b[0m\n\u001b[0m",
      "\u001b[0;31mNameError\u001b[0m: name 'twitterStream' is not defined"
     ]
    }
   ],
   "source": [
    "import json\n",
    "from tweepy import Stream\n",
    "from tweepy import OAuthHandler\n",
    "from tweepy.streaming import StreamListener\n",
    "\n",
    "file = open(\"C:\\\\Output.csv\", \"w\")\n",
    "file.write(\"X,Y\\n\")\n",
    "\n",
    "data_list = []\n",
    "count = 0\n",
    "\n",
    "class listener(StreamListener):\n",
    "\n",
    "    def on_data(self, data):\n",
    "        global count\n",
    "\n",
    "        #How many tweets you want to find, could change to time based\n",
    "        if count <= 2000:\n",
    "            json_data = json.loads(data)\n",
    "\n",
    "            coords = json_data[\"coordinates\"]\n",
    "            if coords is not None:\n",
    "               print (coords[\"coordinates\"])\n",
    "               lon = coords[\"coordinates\"][0]\n",
    "               lat = coords[\"coordinates\"][1]\n",
    "\n",
    "               data_list.append(json_data)\n",
    "\n",
    "               file.write(str(lon) + \",\")\n",
    "               file.write(str(lat) + \"\\n\")\n",
    "\n",
    "               count += 1\n",
    "            return True\n",
    "        else:\n",
    "            file.close()\n",
    "            return False\n",
    "\n",
    "    def on_error(self, status):\n",
    "        print(status)\n",
    "\n",
    "#What you want to search for here\n",
    "twitterStream.filter(track=[\"Du30\"])"
   ]
  },
  {
   "cell_type": "code",
   "execution_count": null,
   "metadata": {
    "collapsed": true
   },
   "outputs": [],
   "source": []
  },
  {
   "cell_type": "code",
   "execution_count": 38,
   "metadata": {},
   "outputs": [
    {
     "ename": "NameError",
     "evalue": "name 'MyStreamListener' is not defined",
     "output_type": "error",
     "traceback": [
      "\u001b[0;31m---------------------------------------------------------------------------\u001b[0m",
      "\u001b[0;31mNameError\u001b[0m                                 Traceback (most recent call last)",
      "\u001b[0;32m<ipython-input-38-42e8bb86dbfb>\u001b[0m in \u001b[0;36m<module>\u001b[0;34m()\u001b[0m\n\u001b[0;32m----> 1\u001b[0;31m \u001b[0mtwitter_stream\u001b[0m \u001b[0;34m=\u001b[0m \u001b[0mtweepy\u001b[0m\u001b[0;34m.\u001b[0m\u001b[0mStream\u001b[0m\u001b[0;34m(\u001b[0m\u001b[0mextractor\u001b[0m\u001b[0;34m,\u001b[0m \u001b[0mMyStreamListener\u001b[0m\u001b[0;34m(\u001b[0m\u001b[0;34m)\u001b[0m\u001b[0;34m)\u001b[0m\u001b[0;34m\u001b[0m\u001b[0m\n\u001b[0m\u001b[1;32m      2\u001b[0m \u001b[0mtwitter_stream\u001b[0m\u001b[0;34m.\u001b[0m\u001b[0mfilter\u001b[0m\u001b[0;34m(\u001b[0m\u001b[0mtrack\u001b[0m\u001b[0;34m=\u001b[0m\u001b[0;34m[\u001b[0m\u001b[0;34m\"#duterte\"\u001b[0m\u001b[0;34m,\u001b[0m \u001b[0;34m\"#du30\"\u001b[0m\u001b[0;34m,\u001b[0m \u001b[0;34m\"#dutertenation\"\u001b[0m\u001b[0;34m,\u001b[0m \u001b[0;34m\"#digong\"\u001b[0m\u001b[0;34m,\u001b[0m \u001b[0;34m\"#PresidentDuterte\"\u001b[0m\u001b[0;34m,\u001b[0m \u001b[0;34m\"#PresidentDu30\"\u001b[0m\u001b[0;34m]\u001b[0m\u001b[0;34m)\u001b[0m\u001b[0;34m\u001b[0m\u001b[0m\n\u001b[1;32m      3\u001b[0m \u001b[0mtwitter_stream\u001b[0m\u001b[0;34m.\u001b[0m\u001b[0mfiler\u001b[0m\u001b[0;34m(\u001b[0m\u001b[0mlocations\u001b[0m\u001b[0;34m=\u001b[0m\u001b[0;34m[\u001b[0m\u001b[0;34m-\u001b[0m\u001b[0;36m122.75\u001b[0m\u001b[0;34m,\u001b[0m\u001b[0;36m36.8\u001b[0m\u001b[0;34m,\u001b[0m\u001b[0;34m-\u001b[0m\u001b[0;36m121.75\u001b[0m\u001b[0;34m,\u001b[0m\u001b[0;36m37.8\u001b[0m\u001b[0;34m]\u001b[0m\u001b[0;34m)\u001b[0m\u001b[0;34m\u001b[0m\u001b[0m\n",
      "\u001b[0;31mNameError\u001b[0m: name 'MyStreamListener' is not defined"
     ]
    }
   ],
   "source": [
    "twitter_stream = tweepy.Stream(extractor, MyStreamListener())\n",
    "twitter_stream.filter(track=[\"#duterte\", \"#du30\", \"#dutertenation\", \"#digong\", \"#PresidentDuterte\", \"#PresidentDu30\"])\n",
    "twitter_stream.filer(locations=[-122.75,36.8,-121.75,37.8])"
   ]
  },
  {
   "cell_type": "code",
   "execution_count": null,
   "metadata": {
    "collapsed": true
   },
   "outputs": [],
   "source": []
  },
  {
   "cell_type": "code",
   "execution_count": null,
   "metadata": {
    "collapsed": true
   },
   "outputs": [],
   "source": [
    "data3['location'] = np.array([tweet.geo for tweet in tweets])\n",
    "data3['coordinates'] = np.array([tweet.coordinates for tweet in tweets])\n",
    "data3['place'] = np.array([tweet.place for tweet in tweets])\n",
    "data3['ID'] = np.array([tweet.id for tweet in tweets])\n",
    "data3['Date'] = np.array([tweet.created_at for tweet in tweets])\n",
    "data3['Likes'] = np.array([tweet.favorite_count for tweet in tweets])\n",
    "data3['RTs'] = np.array([tweet.retweet_count for tweet in tweets])\n",
    "data3.head()"
   ]
  },
  {
   "cell_type": "markdown",
   "metadata": {
    "collapsed": true
   },
   "source": [
    "    ^^I could not find the right function/code to do this. What is the difference between the way we do it in calss vs the StreamListener? "
   ]
  },
  {
   "cell_type": "code",
   "execution_count": null,
   "metadata": {
    "collapsed": true
   },
   "outputs": [],
   "source": []
  },
  {
   "cell_type": "markdown",
   "metadata": {},
   "source": [
    "## Exercise 4\n",
    "\n",
    "When you mention another user (http://docs.tweepy.org/en/latest/api.html#API.mentions_timeline), with which sentiments do you do it?"
   ]
  },
  {
   "cell_type": "code",
   "execution_count": null,
   "metadata": {
    "collapsed": true
   },
   "outputs": [],
   "source": [
    "#API.mentions_timeline([since_id][, max_id][, count])\n",
    "#Returns the 20 most recent mentions, including retweets."
   ]
  },
  {
   "cell_type": "code",
   "execution_count": null,
   "metadata": {
    "collapsed": true
   },
   "outputs": [],
   "source": [
    "status = extractor.get_status(942535103099502592)\n",
    "print(status)"
   ]
  },
  {
   "cell_type": "code",
   "execution_count": null,
   "metadata": {
    "collapsed": true
   },
   "outputs": [],
   "source": [
    "tweet_mentions = extractor.mentions_timeline(['942535103099502592',200]) "
   ]
  },
  {
   "cell_type": "code",
   "execution_count": null,
   "metadata": {
    "collapsed": true
   },
   "outputs": [],
   "source": []
  },
  {
   "cell_type": "markdown",
   "metadata": {
    "collapsed": true
   },
   "source": [
    "    ^^Not sure also how to do this, because I have no tweets/retweets and thus no mentions. I am not sure, is this only applicable to my own timeline/profile? Because I have made no mentions"
   ]
  },
  {
   "cell_type": "markdown",
   "metadata": {},
   "source": [
    "### Exercise 5"
   ]
  },
  {
   "cell_type": "code",
   "execution_count": null,
   "metadata": {
    "collapsed": true
   },
   "outputs": [],
   "source": [
    "user1 = extractor.user_timeline(screen_name='kayla_itsines', count=200)\n",
    "user2 = extractor.user_timeline(screen_name='mysweatlife_',count=200)"
   ]
  },
  {
   "cell_type": "code",
   "execution_count": null,
   "metadata": {
    "collapsed": true
   },
   "outputs": [],
   "source": [
    "kayla = pd.DataFrame(data=[tweet.text for tweet in user1], columns=[\"Tweets\"])\n",
    "kayla['len'] = np.array([len(tweet.text) for tweet in user1])\n",
    "kayla['Likes'] = np.array([tweet.favorite_count for tweet in user1])\n",
    "kayla['RTs'] = np.array([tweet.retweet_count for tweet in user1])\n",
    "kayla['Date'] = np.array([tweet.created_at for tweet in user1])\n",
    "\n",
    "kelsey = pd.DataFrame(data=[tweet.text for tweet in user2], columns=[\"Tweets\"])\n",
    "kelsey['len'] = np.array([len(tweet.text) for tweet in user2])\n",
    "kelsey['Likes'] = np.array([tweet.favorite_count for tweet in user2])\n",
    "kelsey['RTs'] = np.array([tweet.retweet_count for tweet in user2])\n",
    "kelsey['Date'] = np.array([tweet.created_at for tweet in user2])"
   ]
  },
  {
   "cell_type": "code",
   "execution_count": null,
   "metadata": {
    "collapsed": true
   },
   "outputs": [],
   "source": [
    "display(kayla.head(5))"
   ]
  },
  {
   "cell_type": "code",
   "execution_count": null,
   "metadata": {
    "collapsed": true
   },
   "outputs": [],
   "source": [
    "display(kelsey.head(5))"
   ]
  },
  {
   "cell_type": "code",
   "execution_count": null,
   "metadata": {
    "collapsed": true
   },
   "outputs": [],
   "source": [
    "# We extract the tweet with more FAVs and more RTs:\n",
    "fav_max_1 = np.max(kayla['Likes'])\n",
    "rt_max_1  = np.max(kayla['RTs'])\n",
    "\n",
    "fav_max_2 = np.max(kelsey['Likes'])\n",
    "rt_max_2  = np.max(kelsey['RTs'])\n",
    "\n",
    "    #gives index based on filtered max in specified column\n",
    "fav1 = kayla[kayla.Likes == fav_max_1].index[0] \n",
    "rt1 = kayla[kayla.RTs == rt_max_1].index[0]\n",
    "\n",
    "fav2 = kelsey[kelsey.Likes == fav_max_2].index[0]\n",
    "rt2 = kelsey[kelsey.RTs == rt_max_2].index[0]\n",
    "\n",
    "# Max FAVs:\n",
    "print(\"The tweet with more likes for Kayla is: \\n{}\".format(kayla['Tweets'][fav1]))\n",
    "print(\"Number of likes: {}\".format(fav_max_1)) \n",
    "print(\"{} characters.\\n\".format(kayla['len'][fav1]))\n",
    "\n",
    "print(\"The tweet with more likes for Kelsey is: \\n{}\".format(kelsey['Tweets'][fav2]))\n",
    "print(\"Number of likes: {}\".format(fav_max_2)) \n",
    "print(\"{} characters.\\n\".format(kelsey['len'][fav2]))\n",
    "\n",
    "# Max RTs:\n",
    "print(\"The tweet with more retweets for Kayla is: \\n{}\".format(kayla['Tweets'][rt1]))\n",
    "print(\"Number of retweets: {}\".format(rt_max_1))\n",
    "print(\"{} characters.\\n\".format(kayla['len'][rt1]))\n",
    "\n",
    "print(\"The tweet with more retweets for Kelsey is: \\n{}\".format(kelsey['Tweets'][rt2]))\n",
    "print(\"Number of retweets: {}\".format(rt_max_2)) \n",
    "print(\"{} characters.\\n\".format(kelsey['len'][rt2]))"
   ]
  },
  {
   "cell_type": "code",
   "execution_count": null,
   "metadata": {
    "collapsed": true
   },
   "outputs": [],
   "source": [
    "tlen_k1 = pd.Series(data=kayla['len'].values, index=kayla['Date'])\n",
    "tfav_k1 = pd.Series(data=kayla['Likes'].values, index=kayla['Date'])\n",
    "tret_k1 = pd.Series(data=kayla['RTs'].values, index=kayla['Date'])"
   ]
  },
  {
   "cell_type": "code",
   "execution_count": null,
   "metadata": {
    "collapsed": true
   },
   "outputs": [],
   "source": [
    "tlen_k2 = pd.Series(data=kelsey['len'].values, index=kelsey['Date'])\n",
    "tfav_k2 = pd.Series(data=kelsey['Likes'].values, index=kelsey['Date'])\n",
    "tret_k2 = pd.Series(data=kelsey['RTs'].values, index=kelsey['Date'])"
   ]
  },
  {
   "cell_type": "code",
   "execution_count": null,
   "metadata": {
    "collapsed": true
   },
   "outputs": [],
   "source": [
    "tlen_k1.plot(figsize=(16,4), color='r');\n",
    "tlen_k2.plot(figsize=(16,4), color='b');"
   ]
  },
  {
   "cell_type": "markdown",
   "metadata": {},
   "source": [
    "    The TS for both users do not seem to be similar at all"
   ]
  },
  {
   "cell_type": "code",
   "execution_count": null,
   "metadata": {
    "collapsed": true
   },
   "outputs": [],
   "source": [
    "tfav_k1.plot(figsize=(16,4), label=\"Likes\", legend=True)\n",
    "tret_k1.plot(figsize=(16,4), label=\"Retweets\", legend=True);"
   ]
  },
  {
   "cell_type": "code",
   "execution_count": null,
   "metadata": {
    "collapsed": true
   },
   "outputs": [],
   "source": [
    "tfav_k2.plot(figsize=(16,4), label=\"Likes\", legend=True)\n",
    "tret_k2.plot(figsize=(16,4), label=\"Retweets\", legend=True);"
   ]
  },
  {
   "cell_type": "markdown",
   "metadata": {},
   "source": [
    "Based on above, we can see that for user2 (kelsey) she does not get enough retweets despite the high likes she gets, unlike for user1 (kayla_, the normal observation is typically the more the tweet is liked, the higher the retweets"
   ]
  },
  {
   "cell_type": "code",
   "execution_count": null,
   "metadata": {
    "collapsed": true
   },
   "outputs": [],
   "source": [
    "# sentiment analysis\n",
    "kayla['SA'] = np.array([ analyze_sentiment(tweet) for tweet in kayla['Tweets'] ])\n",
    "kelsey['SA'] = np.array([ analyze_sentiment(tweet) for tweet in kelsey['Tweets'] ])"
   ]
  },
  {
   "cell_type": "code",
   "execution_count": null,
   "metadata": {
    "collapsed": true
   },
   "outputs": [],
   "source": [
    "pos_tweets_k1 = [ tweet for index, tweet in enumerate(kayla['Tweets']) if kayla['SA'][index] > 0]\n",
    "neu_tweets_k1 = [ tweet for index, tweet in enumerate(kayla['Tweets']) if kayla['SA'][index] == 0]\n",
    "neg_tweets_k1 = [ tweet for index, tweet in enumerate(kayla['Tweets']) if kayla['SA'][index] < 0]\n",
    "\n",
    "pos_tweets_k2 = [ tweet for index, tweet in enumerate(kelsey['Tweets']) if kelsey['SA'][index] > 0]\n",
    "neu_tweets_k2 = [ tweet for index, tweet in enumerate(kelsey['Tweets']) if kelsey['SA'][index] == 0]\n",
    "neg_tweets_k2 = [ tweet for index, tweet in enumerate(kelsey['Tweets']) if kelsey['SA'][index] < 0]"
   ]
  },
  {
   "cell_type": "code",
   "execution_count": null,
   "metadata": {
    "collapsed": true
   },
   "outputs": [],
   "source": [
    "print(\"For User1 (kayla):\")\n",
    "print(\"Percentage of positive tweets: {}%\".format(len(pos_tweets_k1)*100/len(kayla['Tweets'])))\n",
    "print(\"Percentage of neutral tweets: {}%\".format(len(neu_tweets_k1)*100/len(kayla['Tweets'])))\n",
    "print(\"Percentage of negative tweets: {}%\".format(len(neg_tweets_k1)*100/len(kayla['Tweets'])))\n",
    "\n",
    "\n",
    "print(\"\\nFor User2 (kelsey):\")\n",
    "print(\"Percentage of positive tweets: {}%\".format(len(pos_tweets_k2)*100/len(kelsey['Tweets'])))\n",
    "print(\"Percentage of neutral tweets: {}%\".format(len(neu_tweets_k2)*100/len(kelsey['Tweets'])))\n",
    "print(\"Percentage of negative tweets: {}%\".format(len(neg_tweets_k2)*100/len(kelsey['Tweets'])))"
   ]
  },
  {
   "cell_type": "markdown",
   "metadata": {},
   "source": [
    "    Findings:\n",
    "        Considering the RTs and Likes, it would have been assumed the user1 would get more + sentiments and user2 more neutral.\n",
    "        However based on the sentiment analyzers, user2 gets more + tweets than user1. "
   ]
  },
  {
   "cell_type": "markdown",
   "metadata": {},
   "source": [
    "## Exercise 6\n",
    "\n",
    "Repeat exercise 5 with two users you consider very different (e.g., Donald Trump and Hillary Clinton). Be creative with the choices :)"
   ]
  },
  {
   "cell_type": "code",
   "execution_count": 39,
   "metadata": {
    "collapsed": true
   },
   "outputs": [],
   "source": [
    "user3 = extractor.user_timeline(screen_name='Nike', count=200)\n",
    "user4 = extractor.user_timeline(screen_name='adidas',count=200)"
   ]
  },
  {
   "cell_type": "code",
   "execution_count": 40,
   "metadata": {
    "collapsed": true
   },
   "outputs": [],
   "source": [
    "a = pd.DataFrame(data=[tweet.text for tweet in user3], columns=[\"Tweets\"])\n",
    "a['len'] = np.array([len(tweet.text) for tweet in user3])\n",
    "a['Likes'] = np.array([tweet.favorite_count for tweet in user3])\n",
    "a['RTs'] = np.array([tweet.retweet_count for tweet in user3])\n",
    "a['Date'] = np.array([tweet.created_at for tweet in user3])\n",
    "\n",
    "b = pd.DataFrame(data=[tweet.text for tweet in user4], columns=[\"Tweets\"])\n",
    "b['len'] = np.array([len(tweet.text) for tweet in user4])\n",
    "b['Likes'] = np.array([tweet.favorite_count for tweet in user4])\n",
    "b['RTs'] = np.array([tweet.retweet_count for tweet in user4])\n",
    "b['Date'] = np.array([tweet.created_at for tweet in user4])"
   ]
  },
  {
   "cell_type": "code",
   "execution_count": 43,
   "metadata": {},
   "outputs": [
    {
     "name": "stdout",
     "output_type": "stream",
     "text": [
      "The tweet with more likes for Nike is: \n",
      "The moment Mike Jordan became Michael Jordan. #WinLike82 https://t.co/aOR6qV79ZS\n",
      "Number of likes: 4224\n",
      "80 characters.\n",
      "\n",
      "The tweet with more likes for Adidas is: \n",
      "@BleacherReport Yes he did 🔥\n",
      "Number of likes: 98\n",
      "28 characters.\n",
      "\n",
      "The tweet with more retweets for Nike is: \n",
      "RT @Cristiano: Another dream come true. Unbelievable feeling. Thanks to my family, friends, teammates, coaches and everyone that stood by m…\n",
      "Number of retweets: 87350\n",
      "140 characters.\n",
      "\n",
      "The tweet with more retweets for Adidas is: \n",
      "@DjDeekidd We see you, creator. 🙏\n",
      "Number of retweets: 15\n",
      "33 characters.\n",
      "\n"
     ]
    }
   ],
   "source": [
    "fav_max_a = np.max(a['Likes'])\n",
    "rt_max_a  = np.max(a['RTs'])\n",
    "\n",
    "fav_max_b = np.max(b['Likes'])\n",
    "rt_max_b = np.max(b['RTs'])\n",
    "\n",
    "    #gives index based on filtered max in specified column\n",
    "fava = a[a.Likes == fav_max_a].index[0] \n",
    "rta = a[a.RTs == rt_max_a].index[0]\n",
    "\n",
    "favb = b[b.Likes == fav_max_b].index[0]\n",
    "rtb = b[b.RTs == rt_max_b].index[0]\n",
    "\n",
    "# Max FAVs:\n",
    "print(\"The tweet with more likes for Nike is: \\n{}\".format(a['Tweets'][fava]))\n",
    "print(\"Number of likes: {}\".format(fav_max_a)) \n",
    "print(\"{} characters.\\n\".format(a['len'][fava]))\n",
    "\n",
    "print(\"The tweet with more likes for Adidas is: \\n{}\".format(b['Tweets'][favb]))\n",
    "print(\"Number of likes: {}\".format(fav_max_b)) \n",
    "print(\"{} characters.\\n\".format(b['len'][favb]))\n",
    "\n",
    "# Max RTs:\n",
    "print(\"The tweet with more retweets for Nike is: \\n{}\".format(a['Tweets'][rta]))\n",
    "print(\"Number of retweets: {}\".format(rt_max_a))\n",
    "print(\"{} characters.\\n\".format(a['len'][rta]))\n",
    "\n",
    "print(\"The tweet with more retweets for Adidas is: \\n{}\".format(b['Tweets'][rtb]))\n",
    "print(\"Number of retweets: {}\".format(rt_max_b)) \n",
    "print(\"{} characters.\\n\".format(b['len'][rtb]))"
   ]
  },
  {
   "cell_type": "code",
   "execution_count": 44,
   "metadata": {
    "collapsed": true
   },
   "outputs": [],
   "source": [
    "tlen_a = pd.Series(data=a['len'].values, index=a['Date'])\n",
    "tfav_a = pd.Series(data=a['Likes'].values, index=a['Date'])\n",
    "tret_a = pd.Series(data=a['RTs'].values, index=a['Date'])\n",
    "\n",
    "tlen_b = pd.Series(data=b['len'].values, index=b['Date'])\n",
    "tfav_b = pd.Series(data=b['Likes'].values, index=b['Date'])\n",
    "tret_b = pd.Series(data=b['RTs'].values, index=b['Date'])"
   ]
  },
  {
   "cell_type": "code",
   "execution_count": 45,
   "metadata": {},
   "outputs": [
    {
     "data": {
      "image/png": "[encoded data removed]",
      "text/plain": [
       "<matplotlib.figure.Figure at 0x1a15d8a7f0>"
      ]
     },
     "metadata": {},
     "output_type": "display_data"
    }
   ],
   "source": [
    "tlen_a.plot(figsize=(16,4), color='r');\n",
    "tlen_b.plot(figsize=(16,4), color='b');"
   ]
  },
  {
   "cell_type": "code",
   "execution_count": 46,
   "metadata": {},
   "outputs": [
    {
     "data": {
      "image/png": "[encoded data removed]",
      "text/plain": [
       "<matplotlib.figure.Figure at 0x1a15d852b0>"
      ]
     },
     "metadata": {},
     "output_type": "display_data"
    }
   ],
   "source": [
    "tfav_a.plot(figsize=(16,4), label=\"Likes\", legend=True)\n",
    "tret_a.plot(figsize=(16,4), label=\"Retweets\", legend=True);"
   ]
  },
  {
   "cell_type": "code",
   "execution_count": 47,
   "metadata": {},
   "outputs": [
    {
     "data": {
      "image/png": "[encoded data removed]",
      "text/plain": [
       "<matplotlib.figure.Figure at 0x1a15d5b780>"
      ]
     },
     "metadata": {},
     "output_type": "display_data"
    }
   ],
   "source": [
    "tfav_b.plot(figsize=(16,4), label=\"Likes\", legend=True)\n",
    "tret_b.plot(figsize=(16,4), label=\"Retweets\", legend=True);"
   ]
  },
  {
   "cell_type": "code",
   "execution_count": 48,
   "metadata": {
    "collapsed": true
   },
   "outputs": [],
   "source": [
    "# sentiment analysis\n",
    "a['SA'] = np.array([ analyze_sentiment(tweet) for tweet in a['Tweets'] ])\n",
    "b['SA'] = np.array([ analyze_sentiment(tweet) for tweet in b['Tweets'] ])"
   ]
  },
  {
   "cell_type": "code",
   "execution_count": 49,
   "metadata": {
    "collapsed": true
   },
   "outputs": [],
   "source": [
    "pos_tweets_a = [ tweet for index, tweet in enumerate(a['Tweets']) if a['SA'][index] > 0]\n",
    "neu_tweets_a = [ tweet for index, tweet in enumerate(a['Tweets']) if a['SA'][index] == 0]\n",
    "neg_tweets_a = [ tweet for index, tweet in enumerate(a['Tweets']) if a['SA'][index] < 0]\n",
    "\n",
    "pos_tweets_b = [ tweet for index, tweet in enumerate(b['Tweets']) if b['SA'][index] > 0]\n",
    "neu_tweets_b = [ tweet for index, tweet in enumerate(b['Tweets']) if b['SA'][index] == 0]\n",
    "neg_tweets_b = [ tweet for index, tweet in enumerate(b['Tweets']) if b['SA'][index] < 0]"
   ]
  },
  {
   "cell_type": "code",
   "execution_count": 53,
   "metadata": {},
   "outputs": [
    {
     "name": "stdout",
     "output_type": "stream",
     "text": [
      "For Brand A (Nike):\n",
      "Percentage of positive tweets: 40.0%\n",
      "Percentage of neutral tweets: 52.5%\n",
      "Percentage of negative tweets: 7.5%\n",
      "\n",
      "For Brand B (Adidas):\n",
      "Percentage of positive tweets: 37.0%\n",
      "Percentage of neutral tweets: 60.0%\n",
      "Percentage of negative tweets: 3.0%\n"
     ]
    }
   ],
   "source": [
    "print(\"For Brand A (Nike):\")\n",
    "print(\"Percentage of positive tweets: {}%\".format(len(pos_tweets_a)*100/len(a['Tweets'])))\n",
    "print(\"Percentage of neutral tweets: {}%\".format(len(neu_tweets_a)*100/len(a['Tweets'])))\n",
    "print(\"Percentage of negative tweets: {}%\".format(len(neg_tweets_a)*100/len(a['Tweets'])))\n",
    "\n",
    "\n",
    "print(\"\\nFor Brand B (Adidas):\")\n",
    "print(\"Percentage of positive tweets: {}%\".format(len(pos_tweets_b)*100/len(b['Tweets'])))\n",
    "print(\"Percentage of neutral tweets: {}%\".format(len(neu_tweets_b)*100/len(b['Tweets'])))\n",
    "print(\"Percentage of negative tweets: {}%\".format(len(neg_tweets_b)*100/len(b['Tweets'])))"
   ]
  },
  {
   "cell_type": "markdown",
   "metadata": {},
   "source": [
    "    Findings: \n",
    "        Based on sentiment analysis, you get more or less the same (rounded up) %tage of positive (~40%) for both brands."
   ]
  },
  {
   "cell_type": "code",
   "execution_count": null,
   "metadata": {
    "collapsed": true
   },
   "outputs": [],
   "source": []
  },
  {
   "cell_type": "markdown",
   "metadata": {},
   "source": [
    "## Exercise 7\n",
    "\n",
    "Write a function to return if a tweet is more objective or subjective and run it in all the examples of the previous exercises (plus the Trump example we made during the class)"
   ]
  },
  {
   "cell_type": "code",
   "execution_count": null,
   "metadata": {
    "collapsed": true
   },
   "outputs": [],
   "source": [
    "blob = TextBlob(text)\n",
    "sent = blob.sentiment"
   ]
  },
  {
   "cell_type": "code",
   "execution_count": null,
   "metadata": {
    "collapsed": true
   },
   "outputs": [],
   "source": [
    "def clean_tweet(tweet): # gets rid of urls, @, substitute it with blank space\n",
    "    '''\n",
    "    Utility function to clean the text in a tweet by removing \n",
    "    links and special characters using regex.\n",
    "    '''\n",
    "    return ' '.join(re.sub(\"(@[A-Za-z0-9]+)|([^0-9A-Za-z \\t])|(\\w+:\\/\\/\\S+)\", \" \", tweet).split())\n",
    "\n",
    "def analyze_sentiment(tweet): # pass the clean_tweet, then analyze text\n",
    "    '''\n",
    "    Utility function to classify the polarity of a tweet\n",
    "    using textblob.\n",
    "    '''\n",
    "    analysis = TextBlob(clean_tweet(tweet))\n",
    "    if analysis.sentiment.subjectivity > 0:\n",
    "        return \"subjective\"\n",
    "    elif analysis.sentiment.subjectivity == 0:\n",
    "        return \"objective\"\n",
    "    else:\n",
    "        return 0"
   ]
  },
  {
   "cell_type": "code",
   "execution_count": null,
   "metadata": {
    "collapsed": true
   },
   "outputs": [],
   "source": [
    "# We create a column with the result of the analysis:\n",
    "data['Subjectivity'] = np.array([ analyze_sentiment(tweet) for tweet in data['Tweets'] ])\n",
    "\n",
    "# We display the updated dataframe with the new column:\n",
    "display(data.head(10))"
   ]
  },
  {
   "cell_type": "code",
   "execution_count": null,
   "metadata": {
    "collapsed": true
   },
   "outputs": [],
   "source": []
  },
  {
   "cell_type": "code",
   "execution_count": null,
   "metadata": {
    "collapsed": true
   },
   "outputs": [],
   "source": []
  },
  {
   "cell_type": "code",
   "execution_count": null,
   "metadata": {
    "collapsed": true
   },
   "outputs": [],
   "source": []
  },
  {
   "cell_type": "code",
   "execution_count": null,
   "metadata": {
    "collapsed": true
   },
   "outputs": [],
   "source": []
  }
 ],
 "metadata": {
  "kernelspec": {
   "display_name": "Python 3",
   "language": "python",
   "name": "python3"
  },
  "language_info": {
   "codemirror_mode": {
    "name": "ipython",
    "version": 3
   },
   "file_extension": ".py",
   "mimetype": "text/x-python",
   "name": "python",
   "nbconvert_exporter": "python",
   "pygments_lexer": "ipython3",
   "version": "3.6.3"
  }
 },
 "nbformat": 4,
 "nbformat_minor": 2
}
