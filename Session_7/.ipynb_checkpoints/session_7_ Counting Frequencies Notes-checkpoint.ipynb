{
 "cells": [
  {
   "cell_type": "markdown",
   "metadata": {},
   "source": [
    "# TF-IDF on Scikit-Learn\n",
    "### During the last class we implemented TF-IDF by hand. While it's been a good exercise there are packages that implement this much more quickly - like Scikit-Learn.\n",
    "\n",
    "### Let's take a look at how we might code this in Scikit-Learn."
   ]
  },
  {
   "cell_type": "code",
   "execution_count": 7,
   "metadata": {},
   "outputs": [
    {
     "name": "stdout",
     "output_type": "stream",
     "text": [
      "[0.0, 0.31019096605521496, 0.0, 0.0, 0.0, 0.0, 0.0, 0.0, 0.0, 0.0, 0.0, 0.0, 0.0, 0.0, 0.0, 0.18320378146489946, 0.0, 0.18320378146489946, 0.0, 0.0, 0.0, 0.0, 0.0, 0.0, 0.23957330918096045, 0.0, 0.0, 0.0, 0.18320378146489946, 0.0, 0.23957330918096045, 0.0, 0.0, 0.0, 0.0, 0.0, 0.0, 0.23957330918096045, 0.0, 0.23957330918096045, 0.23957330918096045, 0.0, 0.15022972156764192, 0.0, 0.0, 0.0, 0.0, 0.23957330918096045, 0.0, 0.0, 0.15022972156764192, 0.23957330918096045, 0.0, 0.0, 0.0, 0.0, 0.0, 0.0, 0.0, 0.23957330918096045, 0.0, 0.23957330918096045, 0.0, 0.0, 0.0, 0.23957330918096045, 0.0, 0.0, 0.0, 0.0, 0.0, 0.0, 0.0, 0.0, 0.0, 0.0, 0.0, 0.23957330918096045, 0.23957330918096045, 0.10868731908150663, 0.0, 0.0, 0.0, 0.0, 0.0, 0.0, 0.23957330918096045, 0.0, 0.0, 0.0, 0.0, 0.0, 0.0, 0.0, 0.0, 0.0, 0.0, 0.0]\n",
      "China has a strong economy that is growing at a rapid pace. However politically it differs greatly from the US Economy.\n"
     ]
    }
   ],
   "source": [
    "from __future__ import division\n",
    "import string\n",
    "import math\n",
    "\n",
    "tokenize = lambda doc: doc.lower().split(\" \")\n",
    "\n",
    "document_0 = \"China has a strong economy that is growing at a rapid pace. However politically it differs greatly from the US Economy.\"\n",
    "document_1 = \"At last, China seems serious about confronting an endemic problem: domestic violence and corruption.\"\n",
    "document_2 = \"Japan's prime minister, Shinzo Abe, is working towards healing the economic turmoil in his own country for his view on the future of his people.\"\n",
    "document_3 = \"Vladimir Putin is working hard to fix the economy in Russia as the Ruble has tumbled.\"\n",
    "document_4 = \"What's the future of Abenomics? We asked Shinzo Abe for his views\"\n",
    "document_5 = \"Obama has eased sanctions on Cuba while accelerating those against the Russian Economy, even as the Ruble's value falls almost daily.\"\n",
    "document_6 = \"Vladimir Putin was found to be riding a horse, again, without a shirt on while hunting deer. Vladimir Putin always seems so serious about things - even riding horses.\"\n",
    "\n",
    "all_documents = [document_0, document_1, document_2, document_3, document_4, document_5, document_6]\n",
    "\n",
    "tokenized_documents = [tokenize(d) for d in all_documents] # tokenized docs\n",
    "all_tokens_set = set([item for sublist in tokenized_documents for item in sublist])\n",
    "\n",
    "from sklearn.feature_extraction.text import TfidfVectorizer\n",
    "\n",
    "sklearn_tfidf = TfidfVectorizer(norm='l2',min_df=0, use_idf=True, smooth_idf=False, sublinear_tf=True, tokenizer=tokenize)\n",
    "\n",
    "sklearn_representation = sklearn_tfidf.fit_transform(all_documents)\n",
    "print(sklearn_representation.toarray()[0].tolist())\n",
    "print(document_0)"
   ]
  },
  {
   "cell_type": "markdown",
   "metadata": {},
   "source": [
    "## Cosine Similarity\n",
    "### Now that we've covered TF-IDF and how to do with our own code as well as Scikit-Learn. Let's take a look at how we can actually compare different documents with cosine similarity or the Euclidean dot product formula.\n",
    "\n",
    "### At this point our documents are represented as vectors.\n",
    "\n",
    "### With cosine similarity we can measure the similarity between two document vectors. I'm not going to delve into the mathematical details about how this works but basically we turn each document into a line going from point X to point Y. We then compare that directionality with the second document into a line going from point V to point W. We measure how large the cosine angle is in between those representations. \n",
    "\n",
    "<img src=cosine1.png>\n",
    "\n",
    "### Now in our case, if the cosine similarity is 1, they are the same document. If it is 0, the documents share nothing. This is because term frequency cannot be negative so the angle between the two vectors cannot be greater than 90°.\n",
    "\n",
    "### Here's our representation of cosine similarity of two vectors in Python."
   ]
  },
  {
   "cell_type": "code",
   "execution_count": 8,
   "metadata": {
    "collapsed": true
   },
   "outputs": [],
   "source": [
    "def cosine_similarity(vector1, vector2):\n",
    "    dot_product = sum(p*q for p,q in zip(vector1, vector2))\n",
    "    magnitude = math.sqrt(sum([val**2 for val in vector1])) * math.sqrt(sum([val**2 for val in vector2]))\n",
    "    if not magnitude:\n",
    "        return 0\n",
    "    return dot_product/magnitude"
   ]
  },
  {
   "cell_type": "markdown",
   "metadata": {
    "collapsed": true
   },
   "source": [
    "### Digression: how the zip function works"
   ]
  },
  {
   "cell_type": "code",
   "execution_count": 9,
   "metadata": {},
   "outputs": [
    {
     "name": "stdout",
     "output_type": "stream",
     "text": [
      "[(1, 4), (2, 5), (3, 6)]\n",
      "4\n",
      "10\n",
      "18\n"
     ]
    }
   ],
   "source": [
    "x = [1, 2, 3]\n",
    "y = [4, 5, 6]\n",
    "zipped = zip(x, y)\n",
    "print(list(zipped))\n",
    "for p,q in zip(x, y):\n",
    "    print(p*q)"
   ]
  },
  {
   "cell_type": "markdown",
   "metadata": {},
   "source": [
    "### Now that we have a vector representation and a way to compare different vectors we can put it to good use."
   ]
  },
  {
   "cell_type": "code",
   "execution_count": 10,
   "metadata": {},
   "outputs": [
    {
     "data": {
      "text/plain": [
       "0.081143050524630528"
      ]
     },
     "execution_count": 10,
     "metadata": {},
     "output_type": "execute_result"
    }
   ],
   "source": [
    "cosine_similarity(sklearn_representation.toarray()[0],sklearn_representation.toarray()[1])"
   ]
  },
  {
   "cell_type": "markdown",
   "metadata": {},
   "source": [
    "# Exploring Corpora\n",
    "\n",
    "### Now that we learned how to use several NLTK functions, we create a pratical example of how to explore one of the corpora.\n",
    "\n",
    "### Task: Use the NLTK corpus module to read the corpus austen-persuasion.txt, included in the Gutenberg corpus collection, and answer the following questions:\n",
    "\n",
    "### - How many total words does this corpus have ?\n",
    "\n",
    "### - How many unique words does this corpus have ?\n",
    "\n",
    "### - What are the counts for the 10 most frequent words ?\n",
    "\n",
    "### Besides the corpus module that allows us to access and explore the bundled corpora with ease, NLTK also provides the probability module that contains several useful classes and functions for the task of computing probability distributions. One such class is called FreqDist and it keeps track of the sample frequencies in a distribution.\n",
    "\n",
    "### The next set of cells show how to use these two modules to perform the first task."
   ]
  },
  {
   "cell_type": "code",
   "execution_count": 11,
   "metadata": {},
   "outputs": [
    {
     "name": "stdout",
     "output_type": "stream",
     "text": [
      "['austen-emma.txt', 'austen-persuasion.txt', 'austen-sense.txt', 'bible-kjv.txt', 'blake-poems.txt', 'bryant-stories.txt', 'burgess-busterbrown.txt', 'carroll-alice.txt', 'chesterton-ball.txt', 'chesterton-brown.txt', 'chesterton-thursday.txt', 'edgeworth-parents.txt', 'melville-moby_dick.txt', 'milton-paradise.txt', 'shakespeare-caesar.txt', 'shakespeare-hamlet.txt', 'shakespeare-macbeth.txt', 'whitman-leaves.txt']\n"
     ]
    }
   ],
   "source": [
    "# first, import the gutenberg collection\n",
    "from nltk.corpus import gutenberg\n",
    "\n",
    "# what corpora are in the collection ?\n",
    "print(gutenberg.fileids())"
   ]
  },
  {
   "cell_type": "code",
   "execution_count": 12,
   "metadata": {
    "collapsed": true
   },
   "outputs": [],
   "source": [
    "# import FreqDist class\n",
    "from nltk import FreqDist\n",
    "\n",
    "# create frequency distribution object\n",
    "fd = FreqDist()"
   ]
  },
  {
   "cell_type": "code",
   "execution_count": 13,
   "metadata": {},
   "outputs": [
    {
     "name": "stdout",
     "output_type": "stream",
     "text": [
      "<FreqDist with 6132 samples and 98171 outcomes>\n"
     ]
    }
   ],
   "source": [
    "# for each token in the relevant text, increment its counter\n",
    "for word in gutenberg.words('austen-persuasion.txt'):\n",
    "    fd[word] += 1\n",
    "    \n",
    "print(fd)"
   ]
  },
  {
   "cell_type": "code",
   "execution_count": 14,
   "metadata": {},
   "outputs": [
    {
     "name": "stdout",
     "output_type": "stream",
     "text": [
      "98171\n"
     ]
    }
   ],
   "source": [
    "print(fd.N()) # total number of samples"
   ]
  },
  {
   "cell_type": "code",
   "execution_count": 15,
   "metadata": {},
   "outputs": [
    {
     "name": "stdout",
     "output_type": "stream",
     "text": [
      "6132\n"
     ]
    }
   ],
   "source": [
    "print(fd.B())# number of bins or unique samples"
   ]
  },
  {
   "cell_type": "code",
   "execution_count": 16,
   "metadata": {},
   "outputs": [
    {
     "name": "stdout",
     "output_type": "stream",
     "text": [
      ", 6750\n",
      "the 3120\n",
      "to 2775\n",
      ". 2741\n",
      "and 2739\n",
      "of 2564\n",
      "a 1529\n",
      "in 1346\n",
      "was 1330\n",
      "; 1290\n"
     ]
    }
   ],
   "source": [
    "# Get a list of the top 10 words sorted by frequency\n",
    "for word, count in fd.most_common(10):\n",
    "    print(word, count)"
   ]
  },
  {
   "cell_type": "markdown",
   "metadata": {},
   "source": [
    "###### **Solution**: Jane Austen’s book Persuasion contains 98171 total tokens and 6132 unique tokens. Out of these, the most common token is a comma, followed by the word the. In fact, the last part of this task is the perfect segue for one of the most interesting empirical observations about word occurrences. If we were to take a large corpus, count up the number of times each word occurs in that corpus and then list the words according to the number of occurrences (starting with the most frequent), we would be able to observe a direct relationship between the frequency of a word and its position in the list. In fact, Zipf claimed this relationship could be expressed mathematically, i.e., for any given word, fr = k, where f is the frequency of that word, r is the rank, or the position of the word in the sorted list, and k is a constant. So, for example, the 5th most frequent word should occur exactly two times as frequently as the 10th most frequent word. In NLP literature, the above relationship is usually referred to as Zipf’s Law.\n",
    "\n",
    "###### Even though the mathematical relationship prescribed by Zipf’s Law may not hold exactly, it is useful to describe how words are distributed in human languages - there are a few words that are very common, a few that occur with medium frequency and a very large number of words that occur very rarely. It’s simple to extend the last part of our task and graphically visualize this relationship using NLTK.\n"
   ]
  },
  {
   "cell_type": "code",
   "execution_count": 17,
   "metadata": {
    "collapsed": true
   },
   "outputs": [],
   "source": [
    "%matplotlib inline"
   ]
  },
  {
   "cell_type": "code",
   "execution_count": 18,
   "metadata": {},
   "outputs": [
    {
     "data": {
      "image/png": "[encoded data removed]",
      "text/plain": [
       "<matplotlib.figure.Figure at 0x115239ba8>"
      ]
     },
     "metadata": {},
     "output_type": "display_data"
    }
   ],
   "source": [
    "import matplotlib.pyplot as plt\n",
    "\n",
    "# Count each token in each text of the Gutenberg collection\n",
    "fd = FreqDist()\n",
    "for text in gutenberg.fileids():\n",
    "    for word in gutenberg.words(text):\n",
    "        fd[word] += 1\n",
    "\n",
    "# Initialize two empty lists which will hold our ranks and frequencies\n",
    "ranks = []\n",
    "freqs = []\n",
    "\n",
    "# Generate a (rank, frequency) point for each counted token and \n",
    "# append to the respective lists. Note that the iteration\n",
    "# over fd is automatically sorted.\n",
    "for rank, (word, value) in enumerate(fd.most_common()):\n",
    "    ranks.append(rank + 1)\n",
    "    freqs.append(fd[word])\n",
    "\n",
    "# Plot rank vs frequency on a log-log plot and show the plot\n",
    "plt.loglog(ranks, freqs)\n",
    "plt.xlabel('frequency(f)', fontsize=14, fontweight='bold')\n",
    "plt.ylabel('rank(r)', fontsize=14, fontweight='bold')\n",
    "plt.grid(True)"
   ]
  },
  {
   "cell_type": "markdown",
   "metadata": {},
   "source": [
    "# Predicting Words\n",
    "\n",
    "### Now that we have learnt how to explore a corpus, let’s define a task that can put such explorations to use.\n",
    "\n",
    "### *Task*: Train and build a word predictor, i.e., given a training corpus, write a program that can predict the word that follows a given word. Use this predictor to generate a random sentence of 20 words.\n",
    "\n",
    "### To build a word predictor, we first need to compute a distribution of two-word sequences over a training corpus, i.e., we need to keep count the occurrences of a word given the previous word as a context for that word. Once we have computed such a distribution, we can use the input word to find a list of all possible words that followed it in the training corpus and then output a word at random from this list. To generate a random sentence of 20 words, all we have to do is to start at the given word, predict the next word using this predictor, then the next and so on until we get a total of 20 words. The next set of cells illustrate how to accomplish this easily using the modules provided by NLTK. We use Jane Austen’s Persuasion as the training corpus."
   ]
  },
  {
   "cell_type": "code",
   "execution_count": 19,
   "metadata": {},
   "outputs": [],
   "source": [
    "from nltk import ConditionalFreqDist \n",
    "from random import choice\n",
    "\n",
    "# Create conditional distribution object\n",
    "cfd = ConditionalFreqDist() # we create an object out of class ConditionalFreqDist()"
   ]
  },
  {
   "cell_type": "markdown",
   "metadata": {},
   "source": [
    "see http://www.nltk.org/_modules/nltk/probability.html"
   ]
  },
  {
   "cell_type": "code",
   "execution_count": 20,
   "metadata": {},
   "outputs": [
    {
     "name": "stdout",
     "output_type": "stream",
     "text": [
      "foul air than not think herself would think more exquisitely happy enough by side of furniture of illness of Henrietta "
     ]
    }
   ],
   "source": [
    "# For each token, count current word given previous word\n",
    "prev_word = None\n",
    "for word in gutenberg.words('austen-persuasion.txt'):\n",
    "    cfd[prev_word][word] += 1\n",
    "    prev_word = word\n",
    "\n",
    "# Start predicting at the given word, say ’therefore’\n",
    "word = 'foul'\n",
    "i = 1\n",
    "\n",
    "# Find all words that can possibly follow the current word and choose one at random\n",
    "while i < 21: # keeps count, once we arrive at 20 words we end the loop\n",
    "    print(word, end=\" \")\n",
    "    lwords = list(cfd[word].keys())\n",
    "    follower = choice(lwords)\n",
    "    word = follower\n",
    "    i += 1"
   ]
  },
  {
   "cell_type": "markdown",
   "metadata": {},
   "source": [
    "### **Solution**: The 20 word output sentence is, of course, not grammatical but every two word sequence will be because the training corpus that we used for estimating our conditional frequency distribution is grammatical and because of the way that we estimated the conditional frequency distribu- tion. Note that for our task we used only the previous word as the context for our predictions. It is certainly possible to use the previous two or, even, three words as the prediction context."
   ]
  },
  {
   "cell_type": "markdown",
   "metadata": {},
   "source": [
    "# Discovering Part-Of-Speech Tags\n",
    "\n",
    "### NLTK comes with an excellent set of modules to allow us to train and build relatively sophisticated POS taggers. However, for this task, we will restrict ourselves to a simple analysis on an already tagged corpus included with NLTK.\n",
    "\n",
    "### **Task***: Tokenize the included Brown Corpus and build one or more suitable data structures so that you can answer the following questions:\n",
    "\n",
    "### - What is the most frequent tag?\n",
    "\n",
    "### - Which word has the most number of distinct tags?\n",
    "\n",
    "### - What is the ratio of masculine to feminine pronouns?\n",
    "\n",
    "### - How many words are ambiguous, in the sense that they appear with at least two tags ?\n",
    "\n",
    "### For this task, it is important to note that there is are two versions of the Brown corpus that comes bundled with NLTK: the first is the raw corpus that we used in the last two tasks, and the second is a tagged version wherein each token of each sentence of the corpus has been annotated with the correct POS tags. Each sentence in this version of a corpus is represented as a list of 2-tuples, each of the form (token, tag). For example, a sentence like “the ball is green”, from a tagged corpus, will be represented inside NLTK as the list [('the','at'), ('ball','nn'), ('is',’vbz'), ('green','jj')] .\n",
    "\n",
    "### As explained before, the Brown corpus comprises of 15 different sections, represented by the letters 'a' through 'r'. Each of the sections represents a different genre of text and for certain NLP tasks not discussed in this article, this division proves very useful. Given this information, all we should have to do is build the data structures to analyze this tagged corpus. Looking at the kinds of questions that we need to answer, it will be sufficient to build a frequency distribution over the POS tags and a conditional frequency distribution over the tags using the tokens as the context. The next set of cells illustrate the solution for the task."
   ]
  },
  {
   "cell_type": "code",
   "execution_count": 34,
   "metadata": {},
   "outputs": [
    {
     "data": {
      "text/plain": [
       "'NN'"
      ]
     },
     "execution_count": 34,
     "metadata": {},
     "output_type": "execute_result"
    }
   ],
   "source": [
    "from nltk.corpus import brown\n",
    "from nltk import FreqDist, ConditionalFreqDist\n",
    "fd = FreqDist() # we create an object of the class FreqDist\n",
    "cfd = ConditionalFreqDist()\n",
    "\n",
    "# for each tagged sentence in the corpus, get the (token, tag) pair and update\n",
    "# both count(tag) and count(tag given token)\n",
    "for sentence in brown.tagged_sents(): # tagged_sents is a fxn that already displays it as sentence, then gives a tag for each word in the sentence\n",
    "    for (token, tag) in sentence: \n",
    "        fd[tag] += 1 # get the count of all tags in the sentence\n",
    "        cfd[token][tag] += 1 # get count of how many times the word is tagged (ex. token = country, tag= 'nn', it counts how may times that the country was tagged as noun in the corpus)\n",
    "\n",
    "# The most frequent tag is ...\n",
    "fd.max() # search what is the max tag"
   ]
  },
  {
   "cell_type": "code",
   "execution_count": 35,
   "metadata": {},
   "outputs": [
    {
     "name": "stdout",
     "output_type": "stream",
     "text": [
      "(12, 'that')\n"
     ]
    }
   ],
   "source": [
    "# Initialize a list to hold (numtags,word) tuple\n",
    "wordbins = [] # bins holds number of frequency of the token/word, and word  \n",
    "\n",
    "# append each (n(unique tags for token),token) tuple to list\n",
    "for token in cfd.conditions(): # conditions allows you to loop over dictionary within dictionary\n",
    "    wordbins.append((cfd[token].B(), token)) \n",
    "\n",
    "# sort tuples by number of unique tags (highest first)\n",
    "wordbins.sort(reverse=True)\n",
    "\n",
    "# the token with the maximum number of possible part-of-speech tags is ...\n",
    "print(wordbins[0])"
   ]
  },
  {
   "cell_type": "code",
   "execution_count": 36,
   "metadata": {},
   "outputs": [
    {
     "name": "stdout",
     "output_type": "stream",
     "text": [
      "3.2576884422110552\n"
     ]
    }
   ],
   "source": [
    "# masculine pronouns\n",
    "male = ['he', 'his', 'him', 'himself']\n",
    "\n",
    "# feminine pronouns\n",
    "female = ['she', 'hers', 'her', 'herself']\n",
    "\n",
    "# initialize counters\n",
    "n_male, n_female = 0, 0\n",
    "\n",
    "# total number of masculine samples\n",
    "for m in male:\n",
    "    n_male += cfd[m].N() # we get the pronoun in male list, and show the number of times this appears\n",
    "\n",
    "# total number of feminine samples\n",
    "for f in female:\n",
    "    n_female += cfd[f].N() # we get the pronoun in female list, and show the number of times this appears\n",
    "\n",
    "# calculate required ratio\n",
    "print(float(n_male)/n_female)"
   ]
  },
  {
   "cell_type": "code",
   "execution_count": 37,
   "metadata": {},
   "outputs": [
    {
     "name": "stdout",
     "output_type": "stream",
     "text": [
      "8729\n"
     ]
    }
   ],
   "source": [
    "n_ambiguous = 0\n",
    "for (ntags, token) in wordbins:\n",
    "    if ntags > 1: \n",
    "        n_ambiguous += 1\n",
    "\n",
    "# number of tokens with more than a single POS tag\n",
    "print(n_ambiguous) # shows the number of words with more than one tag"
   ]
  },
  {
   "cell_type": "markdown",
   "metadata": {},
   "source": [
    "### **Solution**: The most frequent POS tag in the Brown corpus is, unsurprisingly, the noun (NN). The word that has the most number of unique tags is, in fact, the word that. There are almost 3 times as many masculine pronouns in the corpus as feminine pronouns and, finally, there are as many as 8700 words in the corpus that can be deemed ambiguous - a number that should indicate the difficulty of the POS-tagging task."
   ]
  },
  {
   "cell_type": "markdown",
   "metadata": {},
   "source": [
    "# Word Association\n",
    "\n",
    "### The task of free word association is a very common one when it comes to psycholinguistics, especially in the context of lexical retrieval -- human subjects respond more readily to a word if it follows another highly associated word as opposed to a completely unrelated word. The instructions for performing the association are fairly straightforward -- the subject is asked for the word that immediately comes to mind upon hearing a particular word.\n",
    "\n",
    "### **Task**: Use a large POS-tagged text corpus to perform free word association. You may ignore function words and assume that the words to be associated are always nouns.\n",
    "\n",
    "### For this task, we will use the concept of word co-occurrences, i.e., counting the number of times words occur in close proximity with each other and then using these counts to estimate the degree of association. For each token in each sentence, we will look at all following tokens that lie within a fixed window and count their occurrences in this context using a con- ditional frequency distribution. The next set of cells show how we accomplish this using Python and NLTK with a window size of 5 and the POS-tagged version of the Brown corpus."
   ]
  },
  {
   "cell_type": "code",
   "execution_count": null,
   "metadata": {
    "collapsed": true
   },
   "outputs": [],
   "source": [
    "#? "
   ]
  },
  {
   "cell_type": "code",
   "execution_count": 57,
   "metadata": {},
   "outputs": [],
   "source": [
    "from nltk.corpus import brown, stopwords\n",
    "\n",
    "# initialize a new conditional distribution\n",
    "cfd = ConditionalFreqDist()\n",
    "\n",
    "# get a list of English stopwords\n",
    "stopwords_list = stopwords.words('english')\n",
    "\n",
    "def is_noun(tag): # we define a noun; noun is tagged as those below in red\n",
    "    return tag.lower() in ['nn','nns','nn$','nn-tl','nn+bez', 'nn+hvz', \n",
    "                           'nns$','np','np$','np+bez','nps', 'nps$','nr',\n",
    "                           'np-tl','nrs','nr$']\n",
    "\n",
    "for sentence in brown.tagged_sents(): #\n",
    "    for (index, tagtuple) in enumerate(sentence):\n",
    "        (token, tag) = tagtuple # we take the tagtuple and split into the word (token) and then the tag\n",
    "        token = token.lower()\n",
    "        if token not in stopwords_list and is_noun(tag): # if the word is not in the stopword and it is a noun\n",
    "            window = sentence[index+1:index+5] #we take the 5 words that come after it \n",
    "            for (window_token, window_tag) in window: # then the word in window\n",
    "                window_token = window_token.lower() # we take the word in window to lower case\n",
    "                if window_token not in stopwords_list and is_noun(window_tag): # then check if this word is not in the stopword and is a noun \n",
    "                    cfd[token][window_token] += 1 # then  "
   ]
  },
  {
   "cell_type": "code",
   "execution_count": 77,
   "metadata": {},
   "outputs": [
    {
     "name": "stdout",
     "output_type": "stream",
     "text": [
      "god\n"
     ]
    }
   ],
   "source": [
    "# OK. We are done ! Let's start associating !\n",
    "print(cfd['america'].max())"
   ]
  },
  {
   "cell_type": "code",
   "execution_count": 72,
   "metadata": {},
   "outputs": [
    {
     "name": "stdout",
     "output_type": "stream",
     "text": [
      "notes\n"
     ]
    }
   ],
   "source": [
    "print(cfd['franc'].max())"
   ]
  },
  {
   "cell_type": "code",
   "execution_count": 41,
   "metadata": {},
   "outputs": [
    {
     "name": "stdout",
     "output_type": "stream",
     "text": [
      "woman\n"
     ]
    }
   ],
   "source": [
    "print(cfd['man'].max())"
   ]
  },
  {
   "cell_type": "code",
   "execution_count": 42,
   "metadata": {},
   "outputs": [
    {
     "name": "stdout",
     "output_type": "stream",
     "text": [
      "world\n"
     ]
    }
   ],
   "source": [
    "print(cfd['woman'].max())"
   ]
  },
  {
   "cell_type": "code",
   "execution_count": 43,
   "metadata": {},
   "outputs": [
    {
     "name": "stdout",
     "output_type": "stream",
     "text": [
      "girl\n"
     ]
    }
   ],
   "source": [
    "print(cfd['boy'].max())"
   ]
  },
  {
   "cell_type": "code",
   "execution_count": 44,
   "metadata": {},
   "outputs": [
    {
     "name": "stdout",
     "output_type": "stream",
     "text": [
      "eyes\n"
     ]
    }
   ],
   "source": [
    "print(cfd['girl'].max())"
   ]
  },
  {
   "cell_type": "code",
   "execution_count": 45,
   "metadata": {},
   "outputs": [
    {
     "name": "stdout",
     "output_type": "stream",
     "text": [
      "female\n"
     ]
    }
   ],
   "source": [
    "print(cfd['male'].max())"
   ]
  },
  {
   "cell_type": "code",
   "execution_count": 46,
   "metadata": {},
   "outputs": [
    {
     "name": "stdout",
     "output_type": "stream",
     "text": [
      "player\n"
     ]
    }
   ],
   "source": [
    "print(cfd['ball'].max())"
   ]
  },
  {
   "cell_type": "code",
   "execution_count": 47,
   "metadata": {},
   "outputs": [
    {
     "name": "stdout",
     "output_type": "stream",
     "text": [
      "bills\n"
     ]
    }
   ],
   "source": [
    "print(cfd['doctor'].max())"
   ]
  },
  {
   "cell_type": "code",
   "execution_count": 48,
   "metadata": {},
   "outputs": [
    {
     "name": "stdout",
     "output_type": "stream",
     "text": [
      "block\n"
     ]
    }
   ],
   "source": [
    "print(cfd['road'].max())"
   ]
  },
  {
   "cell_type": "markdown",
   "metadata": {},
   "source": [
    "### The “word associator” that we have built seems to work surprisingly well, especially when compared to the minimal amount of effort that was required. (In fact, in the context of folk psychology, our associator would almost seem to have a personality, albeit a pessimistic and misogynistic one). The results of this task should be a clear indication of the usefulness of corpus linguistics in general. "
   ]
  }
 ],
 "metadata": {
  "kernelspec": {
   "display_name": "Python 3",
   "language": "python",
   "name": "python3"
  },
  "language_info": {
   "codemirror_mode": {
    "name": "ipython",
    "version": 3
   },
   "file_extension": ".py",
   "mimetype": "text/x-python",
   "name": "python",
   "nbconvert_exporter": "python",
   "pygments_lexer": "ipython3",
   "version": "3.6.1"
  }
 },
 "nbformat": 4,
 "nbformat_minor": 2
}
