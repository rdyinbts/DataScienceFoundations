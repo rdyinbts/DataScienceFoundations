{
 "cells": [
  {
   "cell_type": "code",
   "execution_count": 38,
   "metadata": {},
   "outputs": [],
   "source": [
    "import nltk\n",
    "from nltk import FreqDist, ConditionalFreqDist, word_tokenize\n",
    "from nltk.corpus import stopwords\n",
    "import matplotlib.pyplot as plt\n",
    "%matplotlib inline\n",
    "import os\n",
    "from sklearn.feature_extraction.text import TfidfVectorizer"
   ]
  },
  {
   "cell_type": "code",
   "execution_count": 39,
   "metadata": {
    "collapsed": true
   },
   "outputs": [],
   "source": [
    "os.chdir('/Users/racheldyap/Desktop/DataScienceFoundations/Session_7')"
   ]
  },
  {
   "cell_type": "code",
   "execution_count": 40,
   "metadata": {},
   "outputs": [],
   "source": [
    "songs = []\n",
    "\n",
    "for file in os.listdir('/Users/racheldyap/Desktop/DataScienceFoundations/Session_7'):\n",
    "    if file.endswith('.txt'):\n",
    "        with open(str(file)) as f:\n",
    "            songs.append(f.read().replace('\\n', ' '))"
   ]
  },
  {
   "cell_type": "code",
   "execution_count": 56,
   "metadata": {
    "collapsed": true
   },
   "outputs": [],
   "source": [
    "tokenize = lambda doc: doc.lower().split(\" \")"
   ]
  },
  {
   "cell_type": "code",
   "execution_count": 57,
   "metadata": {
    "collapsed": true
   },
   "outputs": [],
   "source": [
    "sklearn_tfidf = TfidfVectorizer(norm='l2',min_df=0, use_idf=True, smooth_idf=False, sublinear_tf=True, tokenizer=tokenize)"
   ]
  },
  {
   "cell_type": "code",
   "execution_count": 58,
   "metadata": {
    "collapsed": true
   },
   "outputs": [],
   "source": [
    "sklearn_representation = sklearn_tfidf.fit_transform(songs)"
   ]
  },
  {
   "cell_type": "code",
   "execution_count": 59,
   "metadata": {
    "collapsed": true
   },
   "outputs": [],
   "source": [
    "def cosine_similarity(vector1, vector2):\n",
    "    dot_product = sum(p*q for p,q in zip(vector1, vector2))\n",
    "    magnitude = math.sqrt(sum([val**2 for val in vector1])) * math.sqrt(sum([val**2 for val in vector2]))\n",
    "    if not magnitude:\n",
    "        return 0\n",
    "    return dot_product/magnitude"
   ]
  },
  {
   "cell_type": "code",
   "execution_count": 60,
   "metadata": {},
   "outputs": [
    {
     "name": "stdout",
     "output_type": "stream",
     "text": [
      "0 1 0.159722344622\n",
      "0 2 0.245128300669\n",
      "0 3 0.164376215557\n",
      "0 4 0.210425398329\n",
      "0 5 0.21764296934\n",
      "0 6 0.0791437902704\n",
      "1 2 0.198654045995\n",
      "1 3 0.14274587974\n",
      "1 4 0.144152166451\n",
      "1 5 0.126074999207\n",
      "1 6 0.0906362810996\n",
      "2 3 0.185592604352\n",
      "2 4 0.229413325808\n",
      "2 5 0.189575826027\n",
      "2 6 0.100041686064\n",
      "3 4 0.163513105209\n",
      "3 5 0.159766833781\n",
      "3 6 0.074116145503\n",
      "4 5 0.180645285235\n",
      "4 6 0.121154178333\n",
      "5 6 0.100021053946\n"
     ]
    }
   ],
   "source": [
    "import math\n",
    "\n",
    "for i in range(7):\n",
    "    for y in range(i+1,7):\n",
    "        print(i,y, cosine_similarity(sklearn_representation.toarray()[i], sklearn_representation.toarray()[y]))"
   ]
  },
  {
   "cell_type": "markdown",
   "metadata": {},
   "source": [
    "#### most similar song are 7 Days (0) and Fill Me in (2) with score of 0.245"
   ]
  },
  {
   "cell_type": "code",
   "execution_count": 66,
   "metadata": {},
   "outputs": [],
   "source": [
    "songs_tokenize = [tokenize(d) for d in songs]\n",
    "\n",
    "# remove stopwords from tokenize songs\n",
    "porter = nltk.PorterStemmer()\n",
    "all_songs = []\n",
    "\n",
    "for lyrics in songs_tokenize:\n",
    "    lyrics_stopwords = [t for t in lyrics if t not in stopwords.words('english')]\n",
    "    lyrics_stemmed = [porter.stem(t) for t in lyrics_stopwords]\n",
    "    all_songs.append(lyrics_stemmed)"
   ]
  },
  {
   "cell_type": "code",
   "execution_count": 67,
   "metadata": {
    "collapsed": true
   },
   "outputs": [],
   "source": [
    "all_lyrics = [' '.join(lyric) for lyric in all_songs]"
   ]
  },
  {
   "cell_type": "code",
   "execution_count": 73,
   "metadata": {
    "collapsed": true
   },
   "outputs": [],
   "source": [
    "sklearn_representation = sklearn_tfidf.fit_transform(all_lyrics)"
   ]
  },
  {
   "cell_type": "code",
   "execution_count": 77,
   "metadata": {},
   "outputs": [
    {
     "name": "stdout",
     "output_type": "stream",
     "text": [
      "0 1 0.104030397477\n",
      "0 2 0.173627920786\n",
      "0 3 0.0767646796954\n",
      "0 4 0.140389619075\n",
      "0 5 0.175178920102\n",
      "0 6 0.035891256556\n",
      "1 2 0.137850845198\n",
      "1 3 0.0664567549833\n",
      "1 4 0.084919916086\n",
      "1 5 0.0596876627262\n",
      "1 6 0.0475010774226\n",
      "2 3 0.0898675416479\n",
      "2 4 0.144144669987\n",
      "2 5 0.132749012632\n",
      "2 6 0.0624504970729\n",
      "3 4 0.0937929001491\n",
      "3 5 0.0580699154989\n",
      "3 6 0.0237930703818\n",
      "4 5 0.10955847793\n",
      "4 6 0.0823834856376\n",
      "5 6 0.0520853437211\n"
     ]
    }
   ],
   "source": [
    "for i in range(7):\n",
    "    for y in range(i+1,7):\n",
    "        print(i,y, cosine_similarity(sklearn_representation.toarray()[i], sklearn_representation.toarray()[y]))"
   ]
  },
  {
   "cell_type": "markdown",
   "metadata": {},
   "source": [
    "#### after removing the stopwords, the results have changed.\n",
    "most similar words are now 7 Days (#0) and Rendezvous (#5)"
   ]
  },
  {
   "cell_type": "code",
   "execution_count": 84,
   "metadata": {
    "collapsed": true
   },
   "outputs": [],
   "source": [
    "from nltk.corpus import treebank, stopwords"
   ]
  },
  {
   "cell_type": "code",
   "execution_count": 86,
   "metadata": {
    "collapsed": true
   },
   "outputs": [],
   "source": [
    "cfd = ConditionalFreqDist()\n",
    "stopwords_list = stopwords.words('english')\n",
    "\n",
    "def is_noun(tag): # we define a noun; noun is tagged as those below in red\n",
    "    return tag.lower() in ['nn','nns','nn$','nn-tl','nn+bez', 'nn+hvz', \n",
    "                           'nns$','np','np$','np+bez','nps', 'nps$','nr',\n",
    "                           'np-tl','nrs','nr$']"
   ]
  },
  {
   "cell_type": "code",
   "execution_count": 88,
   "metadata": {},
   "outputs": [],
   "source": [
    "for sentence in treebank.tagged_sents():\n",
    "    for (index, tagtuple) in enumerate(sentence):\n",
    "        (token, tag) = tagtuple\n",
    "        token = token.lower()\n",
    "        if token not in stopwords_list and is_noun(tag): \n",
    "            window = sentence[index+1:index+5] \n",
    "            for (window_token, window_tag) in window:\n",
    "                window_token = window_token.lower()\n",
    "                if window_token not in stopwords_list and is_noun(window_tag):\n",
    "                    cfd[token][window_token] += 1"
   ]
  },
  {
   "cell_type": "code",
   "execution_count": 90,
   "metadata": {},
   "outputs": [
    {
     "name": "stdout",
     "output_type": "stream",
     "text": [
      "chief\n"
     ]
    }
   ],
   "source": [
    "print(cfd['chairman'].max())"
   ]
  },
  {
   "cell_type": "code",
   "execution_count": 91,
   "metadata": {},
   "outputs": [
    {
     "name": "stdout",
     "output_type": "stream",
     "text": [
      "%\n"
     ]
    }
   ],
   "source": [
    "print(cfd['profit'].max())"
   ]
  },
  {
   "cell_type": "code",
   "execution_count": 92,
   "metadata": {},
   "outputs": [
    {
     "name": "stdout",
     "output_type": "stream",
     "text": [
      "chief\n"
     ]
    }
   ],
   "source": [
    "print(cfd['president'].max())"
   ]
  },
  {
   "cell_type": "code",
   "execution_count": 93,
   "metadata": {},
   "outputs": [
    {
     "name": "stdout",
     "output_type": "stream",
     "text": [
      "bonds\n"
     ]
    }
   ],
   "source": [
    "print(cfd['investors'].max())"
   ]
  },
  {
   "cell_type": "code",
   "execution_count": 94,
   "metadata": {},
   "outputs": [
    {
     "name": "stdout",
     "output_type": "stream",
     "text": [
      "streets\n"
     ]
    }
   ],
   "source": [
    "print(cfd['city'].max())"
   ]
  },
  {
   "cell_type": "code",
   "execution_count": 96,
   "metadata": {},
   "outputs": [
    {
     "name": "stdout",
     "output_type": "stream",
     "text": [
      "officer\n"
     ]
    }
   ],
   "source": [
    "print(cfd['chief'].max())"
   ]
  },
  {
   "cell_type": "markdown",
   "metadata": {},
   "source": [
    "#### chief seems to be most associated with any position that holds authority"
   ]
  },
  {
   "cell_type": "code",
   "execution_count": null,
   "metadata": {
    "collapsed": true
   },
   "outputs": [],
   "source": []
  }
 ],
 "metadata": {
  "kernelspec": {
   "display_name": "Python 3",
   "language": "python",
   "name": "python3"
  },
  "language_info": {
   "codemirror_mode": {
    "name": "ipython",
    "version": 3
   },
   "file_extension": ".py",
   "mimetype": "text/x-python",
   "name": "python",
   "nbconvert_exporter": "python",
   "pygments_lexer": "ipython3",
   "version": "3.6.1"
  }
 },
 "nbformat": 4,
 "nbformat_minor": 2
}
