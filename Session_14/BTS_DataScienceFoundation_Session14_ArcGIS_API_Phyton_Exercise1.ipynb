{
 "cells": [
  {
   "cell_type": "markdown",
   "metadata": {},
   "source": [
    "# Subject: Data Science Foundation\n",
    "\n",
    "## Session 14 - ArcGIS API for Python.\n",
    "\n",
    "### Exercise 1 -  Your first notebook based on a HotSpot Analysis#"
   ]
  },
  {
   "cell_type": "markdown",
   "metadata": {},
   "source": [
    "# Lets Create a Hotspot analysis in ArcGIS Online and get our first BTS map with ArcGIS API for Phyton"
   ]
  },
  {
   "cell_type": "markdown",
   "metadata": {},
   "source": [
    "The first step is to create a hotspot layer in your ArcGIS Online account using the file \"data_export_01-2015_Bcn\" (/Session_14_DSF). Lets do together. Go to http://www.arcgis.com"
   ]
  },
  {
   "cell_type": "markdown",
   "metadata": {},
   "source": [
    "The second step is to import the ArcGIS API for Python in your notebook"
   ]
  },
  {
   "cell_type": "code",
   "execution_count": 1,
   "metadata": {
    "collapsed": true
   },
   "outputs": [],
   "source": [
    "from arcgis.gis import GIS"
   ]
  },
  {
   "cell_type": "markdown",
   "metadata": {},
   "source": [
    "To get started, create an anonymous connection to ArcGIS Online as shown below:"
   ]
  },
  {
   "cell_type": "code",
   "execution_count": 2,
   "metadata": {
    "collapsed": true
   },
   "outputs": [],
   "source": [
    "gis = GIS()"
   ]
  },
  {
   "cell_type": "markdown",
   "metadata": {},
   "source": [
    "You can search for content as shown below. Since you are connected to ArcGIS Online and as an anonymous user, the query shown below will return public content that is shared on ArcGIS Online. Lets find the mobile data and the hotspot output."
   ]
  },
  {
   "cell_type": "code",
   "execution_count": 3,
   "metadata": {
    "collapsed": true
   },
   "outputs": [],
   "source": [
    "public_content = gis.content.search(\"hotspot_mobile_2015_Bcn\", item_type=\"Feature Layer\", max_items=15)"
   ]
  },
  {
   "cell_type": "code",
   "execution_count": 4,
   "metadata": {},
   "outputs": [
    {
     "data": {
      "text/plain": [
       "[<Item title:\"hotspot_mobile_data_2015_bcn_ry\" type:Feature Layer Collection owner:rachelyap>]"
      ]
     },
     "execution_count": 4,
     "metadata": {},
     "output_type": "execute_result"
    }
   ],
   "source": [
    "public_content"
   ]
  },
  {
   "cell_type": "markdown",
   "metadata": {},
   "source": [
    "The ArcGIS API for Python extends the Jupyter Notebook IDE to display ArcGIS Items in rich HTML notation. Thus, you can loop through each of the items in the search result and display it with thumbnails and metadata as shown below:"
   ]
  },
  {
   "cell_type": "code",
   "execution_count": 5,
   "metadata": {},
   "outputs": [
    {
     "data": {
      "text/html": [
       "<div class=\"item_container\" style=\"height: auto; overflow: hidden; border: 1px solid #cfcfcf; border-radius: 2px; background: #f6fafa; line-height: 1.21429em; padding: 10px;\">\n",
       "                    <div class=\"item_left\" style=\"width: 210px; float: left;\">\n",
       "                       <a href='http://www.arcgis.com/home/item.html?id=d5581f8b88ba4dc0990ec1cb0a0d0442' target='_blank'>\n",
       "                        <img src='http://www.arcgis.com/sharing/rest//content/items/d5581f8b88ba4dc0990ec1cb0a0d0442/info/thumbnail/ago_downloaded.png' class=\"itemThumbnail\">\n",
       "                       </a>\n",
       "                    </div>\n",
       "\n",
       "                    <div class=\"item_right\"     style=\"float: none; width: auto; overflow: hidden;\">\n",
       "                        <a href='http://www.arcgis.com/home/item.html?id=d5581f8b88ba4dc0990ec1cb0a0d0442' target='_blank'><b>hotspot_mobile_data_2015_bcn_ry</b>\n",
       "                        </a>\n",
       "                        <br/>Feature layer generated from Find Hot Spots<img src='http://www.arcgis.com/home/js/jsapi/esri/css/images/item_type_icons/featureshosted16.png' style=\"vertical-align:middle;\">Feature Layer Collection by rachelyap\n",
       "                        <br/>Last Modified: November 17, 2017\n",
       "                        <br/>0 comments, 4 views\n",
       "                    </div>\n",
       "                </div>\n",
       "                "
      ],
      "text/plain": [
       "<Item title:\"hotspot_mobile_data_2015_bcn_ry\" type:Feature Layer Collection owner:rachelyap>"
      ]
     },
     "metadata": {},
     "output_type": "execute_result"
    }
   ],
   "source": [
    "from IPython.display import display\n",
    "for item in public_content:\n",
    "    display(item)"
   ]
  },
  {
   "cell_type": "markdown",
   "metadata": {},
   "source": [
    "# Display layers on a map"
   ]
  },
  {
   "cell_type": "markdown",
   "metadata": {},
   "source": [
    "The ArcGIS API for Python adds a map widget to the Jupyter Notebook. You can easily pull up a map as shown below. It may take a few seconds for the map to display the first time."
   ]
  },
  {
   "cell_type": "code",
   "execution_count": 6,
   "metadata": {},
   "outputs": [
    {
     "name": "stderr",
     "output_type": "stream",
     "text": [
      "Widget Javascript not detected.  It may not be installed or enabled properly.\n"
     ]
    },
    {
     "data": {},
     "metadata": {},
     "output_type": "display_data"
    }
   ],
   "source": [
    "# Create a map widget\n",
    "map1 = gis.map('Barcelona') # Passing a place name to the constructor\n",
    "                        # will initialize the extent of the map.\n",
    "map1"
   ]
  },
  {
   "cell_type": "markdown",
   "metadata": {},
   "source": [
    "Get the first item from your search result and add it the map you created"
   ]
  },
  {
   "cell_type": "code",
   "execution_count": 7,
   "metadata": {},
   "outputs": [],
   "source": [
    "#get the first item\n",
    "Mobile_2015_Bcn_HotSpots = public_content[0]\n",
    "\n",
    "#add to map\n",
    "map1.add_layer(Mobile_2015_Bcn_HotSpots)"
   ]
  },
  {
   "cell_type": "markdown",
   "metadata": {},
   "source": [
    "# Task1: Import another Public shapefiles of your ArcGIS Online account or from the BTS group and visualize."
   ]
  },
  {
   "cell_type": "code",
   "execution_count": 13,
   "metadata": {
    "collapsed": true
   },
   "outputs": [],
   "source": [
    "gis = GIS(\"https://www.arcgis.com\", \"rachelyap\", \"Avila9000\")"
   ]
  },
  {
   "cell_type": "code",
   "execution_count": 15,
   "metadata": {
    "collapsed": true
   },
   "outputs": [],
   "source": [
    "public_content = gis.content.search(\"barcelona\", item_type=\"Feature Layer\", max_items=5)"
   ]
  },
  {
   "cell_type": "code",
   "execution_count": 16,
   "metadata": {
    "scrolled": true
   },
   "outputs": [
    {
     "data": {
      "text/plain": [
       "[<Item title:\"Aggregation of Hotels to Barcelona City\" type:Feature Layer Collection owner:rachelyap>,\n",
       " <Item title:\"Barcelona_City\" type:Feature Layer Collection owner:rachelyap>]"
      ]
     },
     "execution_count": 16,
     "metadata": {},
     "output_type": "execute_result"
    }
   ],
   "source": [
    "public_content"
   ]
  },
  {
   "cell_type": "code",
   "execution_count": 17,
   "metadata": {},
   "outputs": [
    {
     "data": {
      "text/html": [
       "<div class=\"item_container\" style=\"height: auto; overflow: hidden; border: 1px solid #cfcfcf; border-radius: 2px; background: #f6fafa; line-height: 1.21429em; padding: 10px;\">\n",
       "                    <div class=\"item_left\" style=\"width: 210px; float: left;\">\n",
       "                       <a href='https://rachelyap.maps.arcgis.com/home/item.html?id=1762302f980a44fd94eb6969d4e2adf1' target='_blank'>\n",
       "                        <img src='data:image/png;base64,iVBORw0KGgoAAAANSUhEUgAAAMgAAACFCAIAAACR/CB7AAAACXBIWXMAAA7EAAAOxAGVKw4bAAACIElEQVR4nO3dTWrcMACAUbn0RjlGbpOD5DY5Rs40XczQlgbK2NbHBM17G4PxQpgPSQv/bJfLZcBsPx49ANYkLBLCIiEsEsIiISwSwiIhLBLCIiEsEsIiISwSwiIhLBLCIiEsEsIiISwSwiIhLBLCIiEsEsIiISwSwiIhLBLCIiEsEsIiISwSwiIhLBLCIiEsEsIiISwSwiIhLBLCIiEsEsIiISwSwiIhLBLCIiEsEsIiISwSwiIhLBLCIiEsEj8fPYAFfb59/HPm5f31ISN5oM1f7Gf509PXO7rdjs9TmLAmuCV1z43cxniOvOyxzvp8+xiX+6oa43rl17VyPcI65VbVXk/QlrCOO1jV1eptCeugU1VdLd2WsI6YUNXVum0Ji4Swdps2XV0tOmkJi4SwSAhrn8nr4LqE9Q2suM0SFglhkRAWCWF9A9uCD9IIa5+X99ffT+3xH8IiISwSwtpt8mq44gZrCIuIsI6YNmktOl0NYR02oa11qxrCOuNUW0tXNYR10sG2Vq9qCOu8W1t35rU9RVXDm9ATecX+b8Kaz0dBhrCI2GOREBYJYZEQFglhkRAWCWGREBYJYZEQFglhkRAWCWGREBYJYZEQFglhkRAWCWGREBYJYZEQFglhkRAWCWGREBYJYZEQFglhkRAWCWGREBYJYZEQFglhkRAWCWGREBYJYZEQFglhkRAWCWGREBYJYZEQFglhkRAWCWGR+AV0Pl71ygpGJgAAAABJRU5ErkJggg==' width='200' height='133' class=\"itemThumbnail\">\n",
       "                       </a>\n",
       "                    </div>\n",
       "\n",
       "                    <div class=\"item_right\"     style=\"float: none; width: auto; overflow: hidden;\">\n",
       "                        <a href='https://rachelyap.maps.arcgis.com/home/item.html?id=1762302f980a44fd94eb6969d4e2adf1' target='_blank'><b>Aggregation of Hotels to Barcelona City</b>\n",
       "                        </a>\n",
       "                        <br/>Feature layer generated from Aggregate Points<img src='https://rachelyap.maps.arcgis.com/home/js/jsapi/esri/css/images/item_type_icons/featureshosted16.png' style=\"vertical-align:middle;\">Feature Layer Collection by rachelyap\n",
       "                        <br/>Last Modified: November 03, 2017\n",
       "                        <br/>0 comments, 4 views\n",
       "                    </div>\n",
       "                </div>\n",
       "                "
      ],
      "text/plain": [
       "<Item title:\"Aggregation of Hotels to Barcelona City\" type:Feature Layer Collection owner:rachelyap>"
      ]
     },
     "metadata": {},
     "output_type": "execute_result"
    },
    {
     "data": {
      "text/html": [
       "<div class=\"item_container\" style=\"height: auto; overflow: hidden; border: 1px solid #cfcfcf; border-radius: 2px; background: #f6fafa; line-height: 1.21429em; padding: 10px;\">\n",
       "                    <div class=\"item_left\" style=\"width: 210px; float: left;\">\n",
       "                       <a href='https://rachelyap.maps.arcgis.com/home/item.html?id=fc3d37eb8aaa4fde898a2402b83d3e86' target='_blank'>\n",
       "                        <img src='data:image/png;base64,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' width='200' height='133' class=\"itemThumbnail\">\n",
       "                       </a>\n",
       "                    </div>\n",
       "\n",
       "                    <div class=\"item_right\"     style=\"float: none; width: auto; overflow: hidden;\">\n",
       "                        <a href='https://rachelyap.maps.arcgis.com/home/item.html?id=fc3d37eb8aaa4fde898a2402b83d3e86' target='_blank'><b>Barcelona_City</b>\n",
       "                        </a>\n",
       "                        <br/>Barcelona first map\n",
       "<img src='https://rachelyap.maps.arcgis.com/home/js/jsapi/esri/css/images/item_type_icons/featureshosted16.png' style=\"vertical-align:middle;\">Feature Layer Collection by rachelyap\n",
       "                        <br/>Last Modified: October 30, 2017\n",
       "                        <br/>0 comments, 18 views\n",
       "                    </div>\n",
       "                </div>\n",
       "                "
      ],
      "text/plain": [
       "<Item title:\"Barcelona_City\" type:Feature Layer Collection owner:rachelyap>"
      ]
     },
     "metadata": {},
     "output_type": "execute_result"
    }
   ],
   "source": [
    "from IPython.display import display\n",
    "for item in public_content:\n",
    "    display(item)"
   ]
  },
  {
   "cell_type": "code",
   "execution_count": 18,
   "metadata": {},
   "outputs": [
    {
     "data": {},
     "metadata": {},
     "output_type": "display_data"
    }
   ],
   "source": [
    "map2 = gis.map(\"Barcelona\")\n",
    "map2"
   ]
  },
  {
   "cell_type": "code",
   "execution_count": 19,
   "metadata": {
    "collapsed": true
   },
   "outputs": [],
   "source": [
    "hotspot_mobile_2015_bcn = public_content[0]\n",
    "\n",
    "map2.add_layer(hotspot_mobile_2015_bcn)"
   ]
  },
  {
   "cell_type": "code",
   "execution_count": null,
   "metadata": {
    "collapsed": true
   },
   "outputs": [],
   "source": []
  }
 ],
 "metadata": {
  "kernelspec": {
   "display_name": "Python 3",
   "language": "python",
   "name": "python3"
  },
  "language_info": {
   "codemirror_mode": {
    "name": "ipython",
    "version": 3
   },
   "file_extension": ".py",
   "mimetype": "text/x-python",
   "name": "python",
   "nbconvert_exporter": "python",
   "pygments_lexer": "ipython3",
   "version": "3.6.3"
  }
 },
 "nbformat": 4,
 "nbformat_minor": 2
}
